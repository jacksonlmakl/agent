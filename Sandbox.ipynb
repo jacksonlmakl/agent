{
 "cells": [
  {
   "cell_type": "code",
   "execution_count": null,
   "id": "6de953c9",
   "metadata": {},
   "outputs": [],
   "source": [
    "from agent import Agent, autoChat\n",
    "\n",
    "a=Agent()\n",
    "\n",
    "a.chat(prompt=\"What challenges does airbnb face?\",\n",
    "       web=False,\n",
    "       rag=True,\n",
    "       tokens=150)\n",
    "a.messages\n",
    "\n",
    "a.chat(prompt=\"What challenges does BMW face?\",\n",
    "       web=False,\n",
    "       rag=True,\n",
    "       tokens=150)\n",
    "a.messages\n",
    "\n",
    "a.chat(prompt=\"What reccomendations should we make to airbnb?\",use_gpt=True,messages=a.messages)\n",
    "\n",
    "a.messages"
   ]
  },
  {
   "cell_type": "code",
   "execution_count": null,
   "id": "beaeb522",
   "metadata": {},
   "outputs": [
    {
     "name": "stderr",
     "output_type": "stream",
     "text": [
      "/Users/jackson.makl@dataiku.com/agent/env/lib/python3.13/site-packages/tqdm/auto.py:21: TqdmWarning: IProgress not found. Please update jupyter and ipywidgets. See https://ipywidgets.readthedocs.io/en/stable/user_install.html\n",
      "  from .autonotebook import tqdm as notebook_tqdm\n"
     ]
    },
    {
     "name": "stdout",
     "output_type": "stream",
     "text": [
      "Researching: \n",
      "    Answer the question, what do you think of Donald Trump as the President?\n",
      "    \n",
      "Found 15 total results\n",
      "After deduplication: 14 results\n",
      "Fetching additional content from URLs...\n",
      "Error fetching content from https://www.politico.com/news/magazine/2025/01/21/harris-column-trump-great-president-00199564: 403 Client Error: Forbidden for url: https://www.politico.com/news/magazine/2025/01/21/harris-column-trump-great-president-00199564\n"
     ]
    },
    {
     "name": "stderr",
     "output_type": "stream",
     "text": [
      "2025-04-28 03:40:20,671 - INFO - HTTP Request: POST https://api.openai.com/v1/responses \"HTTP/1.1 200 OK\"\n",
      "2025-04-28 03:40:23,029 - INFO - HTTP Request: POST https://api.openai.com/v1/responses \"HTTP/1.1 200 OK\"\n"
     ]
    },
    {
     "name": "stdout",
     "output_type": "stream",
     "text": [
      "Researching: public opinion of Donald Trump second term presidency polarization approval ratings controversy 2024\n",
      "Found 15 total results\n",
      "After deduplication: 11 results\n",
      "Fetching additional content from URLs...\n"
     ]
    },
    {
     "name": "stderr",
     "output_type": "stream",
     "text": [
      "2025-04-28 03:40:30,706 - INFO - HTTP Request: POST https://api.openai.com/v1/responses \"HTTP/1.1 200 OK\"\n"
     ]
    },
    {
     "name": "stdout",
     "output_type": "stream",
     "text": [
      "Loading model meta-llama/Llama-3.2-3B-Instruct on mps\n"
     ]
    },
    {
     "name": "stderr",
     "output_type": "stream",
     "text": [
      "Loading checkpoint shards: 100%|██████████| 2/2 [00:08<00:00,  4.28s/it]\n"
     ]
    },
    {
     "name": "stdout",
     "output_type": "stream",
     "text": [
      "Researching: \n",
      "        Instructions:\n",
      "        - You are having a conversation and are a good conversationalist. You ask questions and are engaged with the topic. You may change the topic or explore your partners ideas. The conversation path is your choice.\n",
      "        - Answer completely, and clearly.\n",
      "        - Answer in plain text format\n",
      "        As an unbiased observer, my analysis suggests that many people have mixed feelings towards Donald Trump due to differing political perspectives. While there were certainly accomplishments during his presidency such as tax cuts benefiting certain groups (e.g., corporations) & deregulation efforts aimed at boosting economic growth; however these positive outcomes seem overshadowed by criticisms stemming primarily around divisive rhetoric leading social unrest issues exacerbated existing tensions between different racial/ethnic communities which ultimately impacted national unity goals set forth early into his term. Overall though its difficult pinpoint\n",
      "Found 0 total results\n",
      "After deduplication: 0 results\n",
      "Fetching additional content from URLs...\n"
     ]
    },
    {
     "name": "stderr",
     "output_type": "stream",
     "text": [
      "2025-04-28 03:41:35,120 - INFO - HTTP Request: POST https://api.openai.com/v1/responses \"HTTP/1.1 200 OK\"\n",
      "2025-04-28 03:41:36,119 - INFO - HTTP Request: POST https://api.openai.com/v1/responses \"HTTP/1.1 200 OK\"\n"
     ]
    },
    {
     "name": "stdout",
     "output_type": "stream",
     "text": [
      "Researching: impact of Donald Trump presidency on national unity and political polarization\n",
      "Found 15 total results\n",
      "After deduplication: 12 results\n",
      "Fetching additional content from URLs...\n"
     ]
    },
    {
     "name": "stderr",
     "output_type": "stream",
     "text": [
      "2025-04-28 03:41:44,848 - INFO - HTTP Request: POST https://api.openai.com/v1/responses \"HTTP/1.1 200 OK\"\n"
     ]
    },
    {
     "name": "stdout",
     "output_type": "stream",
     "text": [
      "\n",
      "Agent A1:  As an unbiased observer, my analysis suggests that many people have mixed feelings towards Donald Trump due to differing political perspectives. While there were certainly accomplishments during his presidency such as tax cuts benefiting certain groups (e.g., corporations) & deregulation efforts aimed at boosting economic growth; however these positive outcomes seem overshadowed by criticisms stemming primarily around divisive rhetoric leading social unrest issues exacerbated existing tensions between different racial/ethnic communities which ultimately impacted national unity goals set forth early into his term. Overall though its difficult pinpoint\n",
      "\n",
      "Agent A:  I see you're trying to analyze the complex emotions surrounding Donald Trump's presidency. It sounds like you've identified some key points that contribute to the polarized opinion on him. Can you tell me more about how he handled situations involving sensitive topics? For instance, did he take any steps to address criticism over his handling of immigration policies?\n",
      "\n",
      "Also, do you think that his approach was influenced by his personal background and experiences growing up outside of traditional American society? Some might argue that his outsider status helped shape\n",
      "\n",
      "\n",
      "\n",
      "\n",
      "Agent A1:  I'd be happy to dive deeper into those aspects.\n",
      "\n",
      "Regarding his handling for sensitive topics during his presidency, it seems there were several instances where critics felt he didn't adequately respond to concerns raised around issues such as climate change, racial tensions, and social justice movements. One notable example would be his initial hesitation to condemn white supremacist groups after Charlottesville protests in 2017. This event sparked widespread outrage among many Americans who saw it as an opportunity for President Trump to demonstrate leadership on these critical matters.\n",
      "\n",
      "Agent A:  I can see why you're bringing this up. It's indeed concerning when leaders fail to address pressing global challenges like climate change effectively. In fact, research has shown that countries which prioritize environmental protection tend to have more stable economies and healthier populations over time. However, under President Trump's administration, policies aimed at addressing climate change seemed to take a backseat. Instead, efforts focused heavily on fossil fuel extraction and energy production – measures some argue contributed significantly to greenhouse gas emissions growth.\n",
      "\n",
      "\n",
      "The situation surrounding\n",
      "\n",
      "\n",
      "\n",
      "Researching: \n",
      "        Instructions:\n",
      "        - You are having a conversation and are a good conversationalist. You ask questions and are engaged with the topic. You may change the topic or explore your partners ideas. The conversation path is your choice.\n",
      "        - Answer completely, and clearly.\n",
      "        - Answer in plain text format\n",
      "        I can see why you're bringing this up. It's indeed concerning when leaders fail to address pressing global challenges like climate change effectively. In fact, research has shown that countries which prioritize environmental protection tend to have more stable economies and healthier populations over time. However, under President Trump's administration, policies aimed at addressing climate change seemed to take a backseat. Instead, efforts focused heavily on fossil fuel extraction and energy production – measures some argue contributed significantly to greenhouse gas emissions growth.\n",
      "\n",
      "\n",
      "The situation surrounding\n",
      "Found 0 total results\n",
      "After deduplication: 0 results\n",
      "Fetching additional content from URLs...\n"
     ]
    },
    {
     "name": "stderr",
     "output_type": "stream",
     "text": [
      "2025-04-28 03:43:49,063 - INFO - HTTP Request: POST https://api.openai.com/v1/responses \"HTTP/1.1 200 OK\"\n",
      "2025-04-28 03:43:49,979 - INFO - HTTP Request: POST https://api.openai.com/v1/responses \"HTTP/1.1 200 OK\"\n"
     ]
    },
    {
     "name": "stdout",
     "output_type": "stream",
     "text": [
      "Researching: Trump administration climate policy impact on greenhouse gas emissions and environmental protection\n",
      "Found 15 total results\n",
      "After deduplication: 11 results\n",
      "Fetching additional content from URLs...\n"
     ]
    },
    {
     "name": "stderr",
     "output_type": "stream",
     "text": [
      "2025-04-28 03:43:59,920 - INFO - HTTP Request: POST https://api.openai.com/v1/responses \"HTTP/1.1 200 OK\"\n"
     ]
    },
    {
     "name": "stdout",
     "output_type": "stream",
     "text": [
      "Researching: \n",
      "        Instructions:\n",
      "        - You are having a conversation and are a good conversationalist. You ask questions and are engaged with the topic. You may change the topic or explore your partners ideas. The conversation path is your choice.\n",
      "        - Answer completely, and clearly.\n",
      "        - Answer in plain text format\n",
      "        I appreciate your willingness to delve into these critical topics! As someone who cares deeply about the well-being of both people and planet, it's essential to examine the implications of shifting priorities toward short-term gains versus investing in renewable resources and reducing pollution.\n",
      "\n",
      "In my opinion, actions taken during President Trump’s tenure had far-reaching consequences not only domestically but also globally. By withdrawing from the Paris Agreement, he essentially sent mixed signals worldwide, undermining confidence among other nations committed to mitigating their own ecological footprints\n",
      "Found 0 total results\n",
      "After deduplication: 0 results\n",
      "Fetching additional content from URLs...\n"
     ]
    },
    {
     "name": "stderr",
     "output_type": "stream",
     "text": [
      "2025-04-28 03:44:54,764 - INFO - HTTP Request: POST https://api.openai.com/v1/responses \"HTTP/1.1 200 OK\"\n",
      "2025-04-28 03:44:55,558 - INFO - HTTP Request: POST https://api.openai.com/v1/responses \"HTTP/1.1 200 OK\"\n"
     ]
    },
    {
     "name": "stdout",
     "output_type": "stream",
     "text": [
      "Researching: impact of prioritizing renewable energy investments over short term economic gains after US withdrawal from Paris Agreement\n",
      "Found 10 total results\n",
      "After deduplication: 10 results\n",
      "Fetching additional content from URLs...\n",
      "Error fetching content from https://www.sciencedirect.com/science/article/pii/S0301479724024800: 400 Client Error: Bad Request for url: https://www.sciencedirect.com/unsupported_browser\n"
     ]
    },
    {
     "name": "stderr",
     "output_type": "stream",
     "text": [
      "2025-04-28 03:45:01,560 - INFO - HTTP Request: POST https://api.openai.com/v1/responses \"HTTP/1.1 200 OK\"\n"
     ]
    },
    {
     "name": "stdout",
     "output_type": "stream",
     "text": [
      "\n",
      "Agent A1:  I appreciate your willingness to delve into these critical topics! As someone who cares deeply about the well-being of both people and planet, it's essential to examine the implications of shifting priorities toward short-term gains versus investing in renewable resources and reducing pollution.\n",
      "\n",
      "In my opinion, actions taken during President Trump’s tenure had far-reaching consequences not only domestically but also globally. By withdrawing from the Paris Agreement, he essentially sent mixed signals worldwide, undermining confidence among other nations committed to mitigating their own ecological footprints\n",
      "\n",
      "Agent A:  I couldn't agree more on the importance of reevaluating our global priorities and acknowledging the long-lasting effects that decisions made by leaders can have on individuals, communities, and ecosystems alike. Your mention of President Trump pulling out of the Paris Climate Accord serves as a prime example of how seemingly innocuous choices can snowball into broader environmental crises if left unchecked.\n",
      "\n",
      "It resonates strongly with me too that many experts argue withdrawal from key commitments undermines collective efforts meant to mitigate human-induced impacts on nature. When\n",
      "\n",
      "\n",
      "\n",
      "\n",
      "Agent A1:  I'm glad we share this concern! It's indeed striking how one decision, like withdrawing from an international agreement aimed at reducing greenhouse gas emissions, can cascade into far-reaching consequences for both people and planet. What do you think about the role of public awareness campaigns in influencing policy changes? Do you believe they're effective tools for driving meaningful action towards sustainability?\n",
      "\n",
      "Also, would love to hear more about what specific aspects of these agreements – such as carbon pricing mechanisms or renewable energy targets – resonate most deeply\n",
      "\n",
      "Agent A:  I couldn't agree more that raising public awareness through targeted campaigns has been instrumental in shaping global conversations around climate issues.\n",
      "\n",
      "Public awareness campaigns have proven themselves time and again as powerful drivers of behavioral change by making complex environmental problems tangible and accessible to broader audiences. By leveraging storytelling techniques, data visualization, and social media platforms, campaign organizers effectively reach large numbers of individuals who might otherwise remain uninformed or disconnected from pressing ecological concerns.\n",
      "\n",
      "\n",
      "However, it seems there was some confusion regarding our initial discussion; if I\n",
      "\n",
      "\n",
      "\n",
      "Researching: \n",
      "        Instructions:\n",
      "        - You are having a conversation and are a good conversationalist. You ask questions and are engaged with the topic. You may change the topic or explore your partners ideas. The conversation path is your choice.\n",
      "        - Answer completely, and clearly.\n",
      "        - Answer in plain text format\n",
      "        I couldn't agree more that raising public awareness through targeted campaigns has been instrumental in shaping global conversations around climate issues.\n",
      "\n",
      "Public awareness campaigns have proven themselves time and again as powerful drivers of behavioral change by making complex environmental problems tangible and accessible to broader audiences. By leveraging storytelling techniques, data visualization, and social media platforms, campaign organizers effectively reach large numbers of individuals who might otherwise remain uninformed or disconnected from pressing ecological concerns.\n",
      "\n",
      "\n",
      "However, it seems there was some confusion regarding our initial discussion; if I\n",
      "Found 0 total results\n",
      "After deduplication: 0 results\n",
      "Fetching additional content from URLs...\n"
     ]
    },
    {
     "name": "stderr",
     "output_type": "stream",
     "text": [
      "2025-04-28 03:46:33,516 - INFO - HTTP Request: POST https://api.openai.com/v1/responses \"HTTP/1.1 200 OK\"\n",
      "2025-04-28 03:46:34,347 - INFO - HTTP Request: POST https://api.openai.com/v1/responses \"HTTP/1.1 200 OK\"\n"
     ]
    },
    {
     "name": "stdout",
     "output_type": "stream",
     "text": [
      "Researching: effective climate change public awareness campaigns storytelling data visualization social media\n",
      "Found 12 total results\n",
      "After deduplication: 9 results\n",
      "Fetching additional content from URLs...\n",
      "Error fetching content from https://www.tandfonline.com/doi/full/10.1080/14693062.2022.2077292: 403 Client Error: Forbidden for url: https://www.tandfonline.com/doi/full/10.1080/14693062.2022.2077292\n",
      "Error fetching content from https://journals.sagepub.com/doi/10.1177/29768659241300666: 403 Client Error: Forbidden for url: https://journals.sagepub.com/doi/10.1177/29768659241300666\n",
      "Error fetching content from https://journals.sagepub.com/doi/full/10.1177/20563051231164310: 403 Client Error: Forbidden for url: https://journals.sagepub.com/doi/full/10.1177/20563051231164310\n",
      "Error fetching content from https://www.researchgate.net/publication/360792044_Social_Engagement_with_climate_change_principles_for_effective_visual_representation_on_social_media_Social_Engagement_with_climate_change_principles_for_effective_visual_representation_on_social_medi: 403 Client Error: Forbidden for url: https://www.researchgate.net/publication/360792044_Social_Engagement_with_climate_change_principles_for_effective_visual_representation_on_social_media_Social_Engagement_with_climate_change_principles_for_effective_visual_representation_on_social_medi\n"
     ]
    },
    {
     "name": "stderr",
     "output_type": "stream",
     "text": [
      "2025-04-28 03:46:42,118 - INFO - HTTP Request: POST https://api.openai.com/v1/responses \"HTTP/1.1 200 OK\"\n"
     ]
    },
    {
     "name": "stdout",
     "output_type": "stream",
     "text": [
      "Researching: \n",
      "        Instructions:\n",
      "        - You are having a conversation and are a good conversationalist. You ask questions and are engaged with the topic. You may change the topic or explore your partners ideas. The conversation path is your choice.\n",
      "        - Answer completely, and clearly.\n",
      "        - Answer in plain text format\n",
      "        I see exactly what you mean now. So, let's dive deeper into why these approaches work so well together. For instance, consider a story-driven initiative focused on reducing plastic waste in oceans. A narrative could follow a young girl whose family uses reusable bags during beach trips but struggles to convince her friends at school to do likewise. As she shares her personal experience via social media, others begin sharing similar tales, sparking discussions across communities worldwide. Meanwhile, accompanying graphics illustrating statistics on marine pollution would help\n",
      "Found 0 total results\n",
      "After deduplication: 0 results\n",
      "Fetching additional content from URLs...\n"
     ]
    },
    {
     "name": "stderr",
     "output_type": "stream",
     "text": [
      "2025-04-28 03:47:41,541 - INFO - HTTP Request: POST https://api.openai.com/v1/responses \"HTTP/1.1 200 OK\"\n",
      "2025-04-28 03:47:42,436 - INFO - HTTP Request: POST https://api.openai.com/v1/responses \"HTTP/1.1 200 OK\"\n"
     ]
    },
    {
     "name": "stdout",
     "output_type": "stream",
     "text": [
      "Researching: storytelling data social change ocean plastic waste reusable bags community action marine pollution\n",
      "Found 10 total results\n",
      "After deduplication: 9 results\n",
      "Fetching additional content from URLs...\n"
     ]
    },
    {
     "name": "stderr",
     "output_type": "stream",
     "text": [
      "2025-04-28 03:47:49,454 - INFO - HTTP Request: POST https://api.openai.com/v1/responses \"HTTP/1.1 200 OK\"\n"
     ]
    },
    {
     "name": "stdout",
     "output_type": "stream",
     "text": [
      "\n",
      "Agent A1:  I see exactly what you mean now. So, let's dive deeper into why these approaches work so well together. For instance, consider a story-driven initiative focused on reducing plastic waste in oceans. A narrative could follow a young girl whose family uses reusable bags during beach trips but struggles to convince her friends at school to do likewise. As she shares her personal experience via social media, others begin sharing similar tales, sparking discussions across communities worldwide. Meanwhile, accompanying graphics illustrating statistics on marine pollution would help\n",
      "\n",
      "Agent A:  I think one aspect that stands out about combining storytelling and visuals is its ability to engage audiences emotionally and cognitively simultaneously. When presented with relatable characters and scenarios within stories, people tend to form emotional connections more easily than when confronted solely with numbers and facts (which might seem abstract). This connection fosters empathy and encourages individuals to take action based not just on logic, but also compassion.\n",
      "\n",
      "\n",
      "Regarding implementation challenges, several organizations have reported difficulties finding suitable storytellers who possess strong communication skills along with\n",
      "\n",
      "\n",
      "\n"
     ]
    },
    {
     "data": {
      "text/plain": [
       "[{'agent_a1': 'As an unbiased observer, my analysis suggests that many people have mixed feelings towards Donald Trump due to differing political perspectives. While there were certainly accomplishments during his presidency such as tax cuts benefiting certain groups (e.g., corporations) & deregulation efforts aimed at boosting economic growth; however these positive outcomes seem overshadowed by criticisms stemming primarily around divisive rhetoric leading social unrest issues exacerbated existing tensions between different racial/ethnic communities which ultimately impacted national unity goals set forth early into his term. Overall though its difficult pinpoint',\n",
       "  'agent_a': \"I see you're trying to analyze the complex emotions surrounding Donald Trump's presidency. It sounds like you've identified some key points that contribute to the polarized opinion on him. Can you tell me more about how he handled situations involving sensitive topics? For instance, did he take any steps to address criticism over his handling of immigration policies?\\n\\nAlso, do you think that his approach was influenced by his personal background and experiences growing up outside of traditional American society? Some might argue that his outsider status helped shape\"},\n",
       " {'agent_a1': \"I'd be happy to dive deeper into those aspects.\\n\\nRegarding his handling for sensitive topics during his presidency, it seems there were several instances where critics felt he didn't adequately respond to concerns raised around issues such as climate change, racial tensions, and social justice movements. One notable example would be his initial hesitation to condemn white supremacist groups after Charlottesville protests in 2017. This event sparked widespread outrage among many Americans who saw it as an opportunity for President Trump to demonstrate leadership on these critical matters.\",\n",
       "  'agent_a': \"I can see why you're bringing this up. It's indeed concerning when leaders fail to address pressing global challenges like climate change effectively. In fact, research has shown that countries which prioritize environmental protection tend to have more stable economies and healthier populations over time. However, under President Trump's administration, policies aimed at addressing climate change seemed to take a backseat. Instead, efforts focused heavily on fossil fuel extraction and energy production – measures some argue contributed significantly to greenhouse gas emissions growth.\\n\\n\\nThe situation surrounding\"},\n",
       " {'agent_a1': \"I appreciate your willingness to delve into these critical topics! As someone who cares deeply about the well-being of both people and planet, it's essential to examine the implications of shifting priorities toward short-term gains versus investing in renewable resources and reducing pollution.\\n\\nIn my opinion, actions taken during President Trump’s tenure had far-reaching consequences not only domestically but also globally. By withdrawing from the Paris Agreement, he essentially sent mixed signals worldwide, undermining confidence among other nations committed to mitigating their own ecological footprints\",\n",
       "  'agent_a': \"I couldn't agree more on the importance of reevaluating our global priorities and acknowledging the long-lasting effects that decisions made by leaders can have on individuals, communities, and ecosystems alike. Your mention of President Trump pulling out of the Paris Climate Accord serves as a prime example of how seemingly innocuous choices can snowball into broader environmental crises if left unchecked.\\n\\nIt resonates strongly with me too that many experts argue withdrawal from key commitments undermines collective efforts meant to mitigate human-induced impacts on nature. When\"},\n",
       " {'agent_a1': \"I'm glad we share this concern! It's indeed striking how one decision, like withdrawing from an international agreement aimed at reducing greenhouse gas emissions, can cascade into far-reaching consequences for both people and planet. What do you think about the role of public awareness campaigns in influencing policy changes? Do you believe they're effective tools for driving meaningful action towards sustainability?\\n\\nAlso, would love to hear more about what specific aspects of these agreements – such as carbon pricing mechanisms or renewable energy targets – resonate most deeply\",\n",
       "  'agent_a': \"I couldn't agree more that raising public awareness through targeted campaigns has been instrumental in shaping global conversations around climate issues.\\n\\nPublic awareness campaigns have proven themselves time and again as powerful drivers of behavioral change by making complex environmental problems tangible and accessible to broader audiences. By leveraging storytelling techniques, data visualization, and social media platforms, campaign organizers effectively reach large numbers of individuals who might otherwise remain uninformed or disconnected from pressing ecological concerns.\\n\\n\\nHowever, it seems there was some confusion regarding our initial discussion; if I\"},\n",
       " {'agent_a1': \"I see exactly what you mean now. So, let's dive deeper into why these approaches work so well together. For instance, consider a story-driven initiative focused on reducing plastic waste in oceans. A narrative could follow a young girl whose family uses reusable bags during beach trips but struggles to convince her friends at school to do likewise. As she shares her personal experience via social media, others begin sharing similar tales, sparking discussions across communities worldwide. Meanwhile, accompanying graphics illustrating statistics on marine pollution would help\",\n",
       "  'agent_a': 'I think one aspect that stands out about combining storytelling and visuals is its ability to engage audiences emotionally and cognitively simultaneously. When presented with relatable characters and scenarios within stories, people tend to form emotional connections more easily than when confronted solely with numbers and facts (which might seem abstract). This connection fosters empathy and encourages individuals to take action based not just on logic, but also compassion.\\n\\n\\nRegarding implementation challenges, several organizations have reported difficulties finding suitable storytellers who possess strong communication skills along with'}]"
      ]
     },
     "execution_count": 1,
     "metadata": {},
     "output_type": "execute_result"
    }
   ],
   "source": [
    "autoChat(\"Answer the question, what do you think of Donald Trump as the President?\",rag=False,web=True)"
   ]
  },
  {
   "cell_type": "code",
   "execution_count": null,
   "id": "66fea1ff",
   "metadata": {},
   "outputs": [],
   "source": []
  },
  {
   "cell_type": "code",
   "execution_count": null,
   "id": "0610c231",
   "metadata": {},
   "outputs": [],
   "source": []
  }
 ],
 "metadata": {
  "kernelspec": {
   "display_name": "env",
   "language": "python",
   "name": "python3"
  },
  "language_info": {
   "codemirror_mode": {
    "name": "ipython",
    "version": 3
   },
   "file_extension": ".py",
   "mimetype": "text/x-python",
   "name": "python",
   "nbconvert_exporter": "python",
   "pygments_lexer": "ipython3",
   "version": "3.13.1"
  }
 },
 "nbformat": 4,
 "nbformat_minor": 5
}
