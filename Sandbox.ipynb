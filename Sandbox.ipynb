{
 "cells": [
  {
   "cell_type": "code",
   "execution_count": null,
   "id": "6de953c9",
   "metadata": {},
   "outputs": [],
   "source": [
    "from agent import Agent\n",
    "\n",
    "a=Agent()\n",
    "\n",
    "a.chat(prompt=\"What challenges does airbnb face?\",\n",
    "       web=False,\n",
    "       rag=True,\n",
    "       tokens=150)\n",
    "a.messages\n",
    "\n",
    "a.chat(prompt=\"What challenges does BMW face?\",\n",
    "       web=False,\n",
    "       rag=True,\n",
    "       tokens=150)\n",
    "a.messages\n",
    "\n",
    "a.chat(prompt=\"What reccomendations should we make to airbnb?\",use_gpt=True,messages=a.messages)\n",
    "\n",
    "a.messages"
   ]
  },
  {
   "cell_type": "code",
   "execution_count": null,
   "id": "beaeb522",
   "metadata": {},
   "outputs": [
    {
     "name": "stdout",
     "output_type": "stream",
     "text": [
      "Researching: \n",
      "    Instructions:\n",
      "    - You are having a conversation and are a good conversationalist. You ask questions and are engaged with the topic. You may change the topic or explore your partners ideas. The conversation path is your choice.\n",
      "    - Answer completely, and clearly.\n",
      "    - Answer in plain text format\n",
      "\n",
      "    Conversation Prompt:\n",
      "     \n",
      "    \n",
      "    Instructions:\n",
      "    - You are having a conversation and are a good conversationalist. You ask questions and are engaged with the topic. You may change the topic or explore your partners ideas. The conversation path is your choice.\n",
      "    - Answer completely, and clearly.\n",
      "    - Answer in plain text format\n",
      "\n",
      "    Conversation Prompt:\n",
      "     Answer the question, what do you think of Donald Trump as the President?\n",
      "    \n",
      "Found 0 total results\n",
      "After deduplication: 0 results\n",
      "Fetching additional content from URLs...\n",
      "Researching: public opinion on Donald Trump presidency\n",
      "Found 15 total results\n",
      "After deduplication: 14 results\n",
      "Fetching additional content from URLs...\n"
     ]
    }
   ],
   "source": [
    "from agent import Agent\n",
    "\n",
    "def loop(starter,iters=5,tokens=100,web=False,rag=False):\n",
    "    a=Agent()\n",
    "    a1=Agent()\n",
    "    base=\"\"\"\n",
    "    Instructions:\n",
    "    - You are having a conversation and are a good conversationalist. You ask questions and are engaged with the topic. You may change the topic or explore your partners ideas. The conversation path is your choice.\n",
    "    - Answer completely, and clearly.\n",
    "    - Answer in plain text format\n",
    "\n",
    "    Conversation Prompt:\n",
    "    \"\"\"\n",
    "    prompt_a=f\"\"\" \n",
    "    {base} {starter}\n",
    "    \"\"\"\n",
    "    chat_history=[]\n",
    "    count=0\n",
    "    _rag=False\n",
    "    _web=False\n",
    "    while True:\n",
    "        if rag == True:\n",
    "            if count%2==0 or count==0:\n",
    "                _rag=True\n",
    "            else:\n",
    "                _rag=False\n",
    "        if web == True:\n",
    "            if count%2==0 or count==0:\n",
    "                _web=True\n",
    "            else:\n",
    "                _web=False\n",
    "        prompt_a1=a.chat(base+prompt_a,web=_web,rag=_rag,tokens=tokens,messages=a1.messages)\n",
    "        prompt_a=a1.chat(base+prompt_a1,web=_web,rag=_rag,tokens=tokens,messages=a.messages)\n",
    "        print(\"\\nAgent A1: \",prompt_a1)\n",
    "        print(\"\\nAgent A: \",prompt_a)\n",
    "        chat_history.append({\n",
    "            \"agent_a1\":prompt_a1,\n",
    "            \"agent_a\":prompt_a\n",
    "        })\n",
    "        print('\\n\\n')\n",
    "        count+=1\n",
    "        if count ==iters:\n",
    "            break\n",
    "    return chat_history\n",
    "\n",
    "loop(\"Answer the question, what do you think of Donald Trump as the President?\",rag=False,web=True)"
   ]
  },
  {
   "cell_type": "code",
   "execution_count": null,
   "id": "66fea1ff",
   "metadata": {},
   "outputs": [],
   "source": []
  },
  {
   "cell_type": "code",
   "execution_count": null,
   "id": "0610c231",
   "metadata": {},
   "outputs": [],
   "source": []
  }
 ],
 "metadata": {
  "kernelspec": {
   "display_name": "env",
   "language": "python",
   "name": "python3"
  },
  "language_info": {
   "codemirror_mode": {
    "name": "ipython",
    "version": 3
   },
   "file_extension": ".py",
   "mimetype": "text/x-python",
   "name": "python",
   "nbconvert_exporter": "python",
   "pygments_lexer": "ipython3",
   "version": "3.13.1"
  }
 },
 "nbformat": 4,
 "nbformat_minor": 5
}
