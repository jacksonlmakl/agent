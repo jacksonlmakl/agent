{
 "cells": [
  {
   "cell_type": "code",
   "execution_count": 1,
   "id": "6de953c9",
   "metadata": {},
   "outputs": [
    {
     "name": "stderr",
     "output_type": "stream",
     "text": [
      "/Users/jackson.makl@dataiku.com/agent/env/lib/python3.13/site-packages/tqdm/auto.py:21: TqdmWarning: IProgress not found. Please update jupyter and ipywidgets. See https://ipywidgets.readthedocs.io/en/stable/user_install.html\n",
      "  from .autonotebook import tqdm as notebook_tqdm\n",
      "/Users/jackson.makl@dataiku.com/agent/rag.py:31: LangChainDeprecationWarning: The class `HuggingFaceEmbeddings` was deprecated in LangChain 0.2.2 and will be removed in 1.0. An updated version of the class exists in the :class:`~langchain-huggingface package and should be used instead. To use it run `pip install -U :class:`~langchain-huggingface` and import as `from :class:`~langchain_huggingface import HuggingFaceEmbeddings``.\n",
      "  self.embeddings = HuggingFaceEmbeddings(model_name=\"sentence-transformers/all-MiniLM-L6-v2\")\n",
      "100%|██████████| 4/4 [00:00<00:00, 14388.69it/s]\n",
      "100%|██████████| 4/4 [00:00<00:00, 1284.82it/s]\n"
     ]
    },
    {
     "name": "stdout",
     "output_type": "stream",
     "text": [
      "Loading model meta-llama/Llama-3.2-3B-Instruct on mps\n"
     ]
    },
    {
     "name": "stderr",
     "output_type": "stream",
     "text": [
      "Loading checkpoint shards: 100%|██████████| 2/2 [00:08<00:00,  4.49s/it]\n"
     ]
    },
    {
     "name": "stdout",
     "output_type": "stream",
     "text": [
      "business_&_entrepreneurs\n",
      "news_&_social_concern\n",
      "['short-term rentals', 'research and feedback', 'Regulatory issues', 'Airbnb challenges', 'optimal pricing', 'social responsibility concerns', 'relationships and competition']\n"
     ]
    },
    {
     "name": "stderr",
     "output_type": "stream",
     "text": [
      "100%|██████████| 4/4 [00:00<00:00, 4582.69it/s]\n",
      "100%|██████████| 4/4 [00:00<00:00, 1176.85it/s]\n"
     ]
    },
    {
     "name": "stdout",
     "output_type": "stream",
     "text": [
      "business_&_entrepreneurs\n",
      "news_&_social_concern\n",
      "[' logistics and supply chains', 'BMW Producer Responsibility policy', 'economic costs', 'operational efficiency', 'automobile manufacturers age thresholds', 'labor intensive processes', 'German government involvement']\n",
      "Here are concise, actionable recommendations for Airbnb:\n",
      "\n",
      "1. **Strengthen Regulatory Compliance:** Collaborate proactively with local governments to streamline permits, taxes, and safety regulations, reducing legal uncertainty.\n",
      "2. **Enhance Trust & Safety:** Invest in advanced verification tools, improve dispute resolution, and ensure rapid response to complaints to protect both guests and hosts.\n",
      "3. **Promote Social Responsibility:** Address concerns about diversity, discrimination, and housing impact through transparent policies, host/guest education, and community investment.\n",
      "4. **Optimize Pricing Strategies:** Leverage predictive analytics for dynamic, localized pricing while ensuring fairness and transparency for hosts and guests.\n",
      "5. **Expand Value-Added Services:** Offer insurance, cleaning, and local experiences to increase value for users and differentiate from competitors.\n",
      "6. **Foster Sustainable Growth:** Encourage eco-friendly practices among hosts and promote longer stays to reduce churn and community tension.\n",
      "7. **Support Hosts & Community:** Provide resources, training, and incentives to help hosts improve quality while building positive local relationships.\n",
      "\n",
      "These actions can help Airbnb address major pain points and drive sustainable success.\n",
      "business_&_entrepreneurs\n",
      "news_&_social_concern\n",
      "['Promote Social Responsibility', 'Airbnb recommendations', 'Regulatory compliance', 'Expand Value-Add Services', 'Hotel quality improvement', 'Hotel Sustainable Growth', 'Enhance Trust & Safety', 'Promote pricing strategies']\n"
     ]
    },
    {
     "data": {
      "text/plain": [
       "[{'meta': {'timestamp': '2025-04-28 02:49:17.326547',\n",
       "   'topics': ['business_&_entrepreneurs', 'news_&_social_concern'],\n",
       "   'key_words': ['short-term rentals',\n",
       "    'research and feedback',\n",
       "    'Regulatory issues',\n",
       "    'Airbnb challenges',\n",
       "    'optimal pricing',\n",
       "    'social responsibility concerns',\n",
       "    'relationships and competition'],\n",
       "   'web': False,\n",
       "   'rag': True},\n",
       "  'items': [{'role': 'user', 'content': 'What challenges does airbnb face?'},\n",
       "   {'role': 'assistant',\n",
       "    'content': 'Airbnb faces several challenges:\\n\\n1\\\\. **Regulatory Issues**: Many cities around the world impose regulations or restrictions on short-term rentals which can impact revenue.\\n\\n2\\\\. \\\\*\\\\*Pricing Challenges\\\\*\\\\*: Determining optimal pricing for listings involves complex algorithms considering various factors such as location, seasonality, demand, competition, property type, amenities, guest reviews, host feedback, cancellation rates, and more.\\n\\n3\\\\. Social Responsibility Concerns: The platform has faced criticism regarding its handling of diversity, equity, inclusion, and social justice concerns including racial disparities among hosts and guests.\\n\\n4\\\\. Competition from Other Platforms: With numerous competitors like Booking.com, VRBO (Vacation Rentals by Owner), HomeAway, Expedia, TripAdvisor, and others'}]},\n",
       " {'meta': {'timestamp': '2025-04-28 02:49:56.048558',\n",
       "   'topics': ['business_&_entrepreneurs', 'news_&_social_concern'],\n",
       "   'key_words': [' logistics and supply chains',\n",
       "    'BMW Producer Responsibility policy',\n",
       "    'economic costs',\n",
       "    'operational efficiency',\n",
       "    'automobile manufacturers age thresholds',\n",
       "    'labor intensive processes',\n",
       "    'German government involvement'],\n",
       "   'web': False,\n",
       "   'rag': True},\n",
       "  'items': [{'role': 'user', 'content': 'What challenges does BMW face?'},\n",
       "   {'role': 'assistant',\n",
       "    'content': \"BMW faces various challenges due to its involvement with the Producer Responsibility policy introduced by Germany's government in 1990. This policy requires automobile manufacturers to collect used cars from consumers after they reach certain age thresholds.\\n\\nSome key challenges include:\\n\\n*   Economic costs associated with implementing the program.\\n*   Managing logistics and supply chains to efficiently pick up old vehicles without disrupting production operations.\\n*    Labor intensive processes involved in disassembling these units which can impact operational efficiency.\\n\\n\\n\\nThese factors pose significant logistical hurdles but ultimately contribute towards creating more sustainable practices within the automotive sector.\"}]},\n",
       " {'meta': {'timestamp': '2025-04-28 02:50:04.147741',\n",
       "   'topics': ['business_&_entrepreneurs', 'news_&_social_concern'],\n",
       "   'key_words': ['Promote Social Responsibility',\n",
       "    'Airbnb recommendations',\n",
       "    'Regulatory compliance',\n",
       "    'Expand Value-Add Services',\n",
       "    'Hotel quality improvement',\n",
       "    'Hotel Sustainable Growth',\n",
       "    'Enhance Trust & Safety',\n",
       "    'Promote pricing strategies'],\n",
       "   'web': False,\n",
       "   'rag': False},\n",
       "  'items': [{'role': 'user',\n",
       "    'content': 'What reccomendations should we make to airbnb?'},\n",
       "   {'role': 'assistant',\n",
       "    'content': 'Here are concise, actionable recommendations for Airbnb:\\n\\n1. **Strengthen Regulatory Compliance:** Collaborate proactively with local governments to streamline permits, taxes, and safety regulations, reducing legal uncertainty.\\n2. **Enhance Trust & Safety:** Invest in advanced verification tools, improve dispute resolution, and ensure rapid response to complaints to protect both guests and hosts.\\n3. **Promote Social Responsibility:** Address concerns about diversity, discrimination, and housing impact through transparent policies, host/guest education, and community investment.\\n4. **Optimize Pricing Strategies:** Leverage predictive analytics for dynamic, localized pricing while ensuring fairness and transparency for hosts and guests.\\n5. **Expand Value-Added Services:** Offer insurance, cleaning, and local experiences to increase value for users and differentiate from competitors.\\n6. **Foster Sustainable Growth:** Encourage eco-friendly practices among hosts and promote longer stays to reduce churn and community tension.\\n7. **Support Hosts & Community:** Provide resources, training, and incentives to help hosts improve quality while building positive local relationships.\\n\\nThese actions can help Airbnb address major pain points and drive sustainable success.'}]}]"
      ]
     },
     "execution_count": 1,
     "metadata": {},
     "output_type": "execute_result"
    }
   ],
   "source": [
    "from agent import Agent\n",
    "\n",
    "a=Agent()\n",
    "\n",
    "a.chat(prompt=\"What challenges does airbnb face?\",\n",
    "       web=False,\n",
    "       rag=True,\n",
    "       tokens=150)\n",
    "a.messages\n",
    "\n",
    "a.chat(prompt=\"What challenges does BMW face?\",\n",
    "       web=False,\n",
    "       rag=True,\n",
    "       tokens=150)\n",
    "a.messages\n",
    "\n",
    "a.chat(prompt=\"What reccomendations should we make to airbnb?\",use_gpt=True,messages=a.messages)\n",
    "\n",
    "a.messages"
   ]
  },
  {
   "cell_type": "code",
   "execution_count": null,
   "id": "beaeb522",
   "metadata": {},
   "outputs": [],
   "source": []
  }
 ],
 "metadata": {
  "kernelspec": {
   "display_name": "env",
   "language": "python",
   "name": "python3"
  },
  "language_info": {
   "codemirror_mode": {
    "name": "ipython",
    "version": 3
   },
   "file_extension": ".py",
   "mimetype": "text/x-python",
   "name": "python",
   "nbconvert_exporter": "python",
   "pygments_lexer": "ipython3",
   "version": "3.13.1"
  }
 },
 "nbformat": 4,
 "nbformat_minor": 5
}
