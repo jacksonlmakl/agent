{
 "cells": [
  {
   "cell_type": "code",
   "execution_count": 12,
   "id": "4b459c69",
   "metadata": {},
   "outputs": [
    {
     "name": "stdout",
     "output_type": "stream",
     "text": [
      "Loading model facebook/opt-125m on mps\n",
      "Response: and cats on your blog.\n",
      "\n",
      "Sunday, February 28, 2010\n",
      "\n",
      "I'm a big fan of the \"Dogs\" line at the end of this week's post. I love all the little things in a dog's life, so I thought I would share an excerpt from \"Dogs\" (to get you started) from my book (in English):\n",
      "\n",
      "1) I love dogs. I have an adorable little dog named Milo. He is a bit of an outcast\n"
     ]
    },
    {
     "data": {
      "text/plain": [
       "'and cats on your blog.\\n\\nSunday, February 28, 2010\\n\\nI\\'m a big fan of the \"Dogs\" line at the end of this week\\'s post. I love all the little things in a dog\\'s life, so I thought I would share an excerpt from \"Dogs\" (to get you started) from my book (in English):\\n\\n1) I love dogs. I have an adorable little dog named Milo. He is a bit of an outcast'"
      ]
     },
     "execution_count": 12,
     "metadata": {},
     "output_type": "execute_result"
    }
   ],
   "source": [
    "from lightweight import lightweight\n",
    "\n",
    "lightweight(\"Write a poem about dogs\")"
   ]
  },
  {
   "cell_type": "code",
   "execution_count": null,
   "id": "25dfa682",
   "metadata": {},
   "outputs": [],
   "source": []
  }
 ],
 "metadata": {
  "kernelspec": {
   "display_name": "env",
   "language": "python",
   "name": "python3"
  },
  "language_info": {
   "codemirror_mode": {
    "name": "ipython",
    "version": 3
   },
   "file_extension": ".py",
   "mimetype": "text/x-python",
   "name": "python",
   "nbconvert_exporter": "python",
   "pygments_lexer": "ipython3",
   "version": "3.13.1"
  }
 },
 "nbformat": 4,
 "nbformat_minor": 5
}
