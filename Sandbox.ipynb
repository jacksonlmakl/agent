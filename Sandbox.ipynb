{
 "cells": [
  {
   "cell_type": "code",
   "execution_count": 2,
   "id": "4b459c69",
   "metadata": {},
   "outputs": [
    {
     "name": "stdout",
     "output_type": "stream",
     "text": [
      "Loading model facebook/opt-125m on mps\n",
      "Response: , or just about anything.\n",
      "This is the best one, if you are in the mood for a little bit of a poem.\n"
     ]
    },
    {
     "data": {
      "text/plain": [
       "', or just about anything.\\nThis is the best one, if you are in the mood for a little bit of a poem.'"
      ]
     },
     "execution_count": 2,
     "metadata": {},
     "output_type": "execute_result"
    }
   ],
   "source": [
    "from lightweight import lightweight\n",
    "\n",
    "lightweight(\"Write a poem about dogs\")"
   ]
  },
  {
   "cell_type": "code",
   "execution_count": null,
   "id": "25dfa682",
   "metadata": {},
   "outputs": [],
   "source": []
  }
 ],
 "metadata": {
  "kernelspec": {
   "display_name": "env",
   "language": "python",
   "name": "python3"
  },
  "language_info": {
   "codemirror_mode": {
    "name": "ipython",
    "version": 3
   },
   "file_extension": ".py",
   "mimetype": "text/x-python",
   "name": "python",
   "nbconvert_exporter": "python",
   "pygments_lexer": "ipython3",
   "version": "3.13.1"
  }
 },
 "nbformat": 4,
 "nbformat_minor": 5
}
