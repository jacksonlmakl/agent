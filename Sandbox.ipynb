{
 "cells": [
  {
   "cell_type": "code",
   "execution_count": null,
   "id": "6de953c9",
   "metadata": {},
   "outputs": [
    {
     "name": "stderr",
     "output_type": "stream",
     "text": [
      "/Users/jackson.makl@dataiku.com/agent/env/lib/python3.13/site-packages/tqdm/auto.py:21: TqdmWarning: IProgress not found. Please update jupyter and ipywidgets. See https://ipywidgets.readthedocs.io/en/stable/user_install.html\n",
      "  from .autonotebook import tqdm as notebook_tqdm\n"
     ]
    }
   ],
   "source": [
    "from agent import Agent\n"
   ]
  },
  {
   "cell_type": "code",
   "execution_count": 2,
   "id": "26f44449",
   "metadata": {},
   "outputs": [],
   "source": [
    "\n",
    "a=Agent()\n"
   ]
  },
  {
   "cell_type": "code",
   "execution_count": 3,
   "id": "39187b63",
   "metadata": {},
   "outputs": [
    {
     "name": "stderr",
     "output_type": "stream",
     "text": [
      "/Users/jackson.makl@dataiku.com/agent/rag.py:31: LangChainDeprecationWarning: The class `HuggingFaceEmbeddings` was deprecated in LangChain 0.2.2 and will be removed in 1.0. An updated version of the class exists in the :class:`~langchain-huggingface package and should be used instead. To use it run `pip install -U :class:`~langchain-huggingface` and import as `from :class:`~langchain_huggingface import HuggingFaceEmbeddings``.\n",
      "  self.embeddings = HuggingFaceEmbeddings(model_name=\"sentence-transformers/all-MiniLM-L6-v2\")\n",
      "100%|██████████| 4/4 [00:00<00:00, 16070.13it/s]\n",
      "100%|██████████| 4/4 [00:00<00:00, 1144.19it/s]\n"
     ]
    },
    {
     "name": "stdout",
     "output_type": "stream",
     "text": [
      "Loading model meta-llama/Llama-3.2-3B-Instruct on mps\n"
     ]
    },
    {
     "name": "stderr",
     "output_type": "stream",
     "text": [
      "Loading checkpoint shards: 100%|██████████| 2/2 [00:08<00:00,  4.34s/it]\n"
     ]
    },
    {
     "name": "stdout",
     "output_type": "stream",
     "text": [
      "business_&_entrepreneurs\n",
      "['home rules', 'recording options', 'neighborhood details', 'host ratings', 'Airbnb competition', 'location and amenities', 'recording platforms']\n"
     ]
    },
    {
     "data": {
      "text/plain": [
       "[{'meta': {'timestamp': '2025-04-28 02:33:46.385414',\n",
       "   'topics': ['business_&_entrepreneurs'],\n",
       "   'key_words': ['home rules',\n",
       "    'recording options',\n",
       "    'neighborhood details',\n",
       "    'host ratings',\n",
       "    'Airbnb competition',\n",
       "    'location and amenities',\n",
       "    'recording platforms'],\n",
       "   'web': False,\n",
       "   'rag': True},\n",
       "  'items': [{'role': 'user', 'content': 'What challenges does airbnb face?'},\n",
       "   {'role': 'assistant',\n",
       "    'content': 'Airbnb faces several challenges:\\n\\n1. **Regulatory hurdles**: The company operates in over 220 countries and regions worldwide, which means navigating complex local regulations can be challenging.\\n2. **Competition from traditional lodging options**: With more people turning to online booking platforms for accommodations, competition has increased significantly, making it harder for Airbnb to stand out.\\n\\nRegarding price suggestions, when users search for places to stay using Airbnb\\'s \"similar listings\" feature or filters like location, dates, and amenities, multiple algorithms work together to analyze various data points such as property type (entire home/apartment/house), number of bedrooms/bathrooms, square footage, reviews rating, host ratings, calendar availability, guest policies, house rules, neighborhood details,'}]}]"
      ]
     },
     "execution_count": 3,
     "metadata": {},
     "output_type": "execute_result"
    }
   ],
   "source": [
    "\n",
    "a.chat(prompt=\"What challenges does airbnb face?\",\n",
    "       web=False,\n",
    "       rag=True,\n",
    "       tokens=150)\n",
    "a.messages"
   ]
  },
  {
   "cell_type": "code",
   "execution_count": 6,
   "id": "c076dc17",
   "metadata": {},
   "outputs": [
    {
     "name": "stderr",
     "output_type": "stream",
     "text": [
      "100%|██████████| 4/4 [00:00<00:00, 4453.73it/s]\n",
      "100%|██████████| 4/4 [00:00<00:00, 1037.55it/s]\n"
     ]
    },
    {
     "name": "stdout",
     "output_type": "stream",
     "text": [
      "business_&_entrepreneurs\n",
      "news_&_social_concern\n",
      "['high operational expenses', 'German government involvement', 'age thresholds', 'BMW production policy', 'automobile scrapping', 'Producer Responsibility policy', 'supply chain operations', 'labor intensive process', 'automobile manufacturers', ' logistics impact']\n"
     ]
    },
    {
     "data": {
      "text/plain": [
       "[{'meta': {'timestamp': '2025-04-28 02:33:46.385414',\n",
       "   'topics': ['business_&_entrepreneurs'],\n",
       "   'key_words': ['home rules',\n",
       "    'recording options',\n",
       "    'neighborhood details',\n",
       "    'host ratings',\n",
       "    'Airbnb competition',\n",
       "    'location and amenities',\n",
       "    'recording platforms'],\n",
       "   'web': False,\n",
       "   'rag': True},\n",
       "  'items': [{'role': 'user', 'content': 'What challenges does airbnb face?'},\n",
       "   {'role': 'assistant',\n",
       "    'content': 'Airbnb faces several challenges:\\n\\n1. **Regulatory hurdles**: The company operates in over 220 countries and regions worldwide, which means navigating complex local regulations can be challenging.\\n2. **Competition from traditional lodging options**: With more people turning to online booking platforms for accommodations, competition has increased significantly, making it harder for Airbnb to stand out.\\n\\nRegarding price suggestions, when users search for places to stay using Airbnb\\'s \"similar listings\" feature or filters like location, dates, and amenities, multiple algorithms work together to analyze various data points such as property type (entire home/apartment/house), number of bedrooms/bathrooms, square footage, reviews rating, host ratings, calendar availability, guest policies, house rules, neighborhood details,'}]},\n",
       " {'meta': {'timestamp': '2025-04-28 02:37:29.888397',\n",
       "   'topics': ['business_&_entrepreneurs', 'news_&_social_concern'],\n",
       "   'key_words': ['Premier transparency',\n",
       "    'Enhance Regulatory Compliance Tools',\n",
       "    'traveler values',\n",
       "    'Premier services',\n",
       "    'Sustainability Initiatives',\n",
       "    'sustainable tourism',\n",
       "    'Support Host Success',\n",
       "    'Airbnb recommendations',\n",
       "    'Premier booking rates'],\n",
       "   'web': False,\n",
       "   'rag': False},\n",
       "  'items': [{'role': 'user',\n",
       "    'content': 'What reccomendations should we make to airbnb?'},\n",
       "   {'role': 'assistant',\n",
       "    'content': '**Recommendations for Airbnb:**\\n\\n1. **Enhance Regulatory Compliance Tools:** \\n   - Invest in better tools to help hosts understand and comply with local regulations, reducing legal risks and making onboarding easier.\\n\\n2. **Improve Trust and Safety Measures:** \\n   - Strengthen verification processes for both hosts and guests. Increase transparency around guest reviews and incident reporting.\\n\\n3. **Expand Value-Add Services:**\\n   - Offer premium services like cleaning, key exchange, and 24/7 support to increase customer satisfaction and differentiate from competitors.\\n\\n4. **Optimize Search and Personalization:**\\n   - Improve algorithms to better match guest preferences with tailored listings, focusing on location, amenities, and unique experiences.\\n\\n5. **Support Host Success:**\\n   - Provide more resources (guides, analytics, pricing tools) to help hosts increase booking rates and maintain high quality.\\n\\n6. **Address Community Concerns:**\\n   - Work with local communities to address issues such as over-tourism, noise, and neighborhood integrity.\\n\\n7. **Innovate in Marketing and Loyalty:**\\n   - Expand loyalty programs and unique experiences to encourage repeat bookings and attract new users.\\n\\n8. **Sustainability Initiatives:**\\n   - Encourage and promote eco-friendly listings and practices, aligning with growing traveler values around sustainability.'}]},\n",
       " {'meta': {'timestamp': '2025-04-28 02:39:10.615078',\n",
       "   'topics': ['business_&_entrepreneurs', 'news_&_social_concern'],\n",
       "   'key_words': ['high operational expenses',\n",
       "    'German government involvement',\n",
       "    'age thresholds',\n",
       "    'BMW production policy',\n",
       "    'automobile scrapping',\n",
       "    'Producer Responsibility policy',\n",
       "    'supply chain operations',\n",
       "    'labor intensive process',\n",
       "    'automobile manufacturers',\n",
       "    ' logistics impact'],\n",
       "   'web': False,\n",
       "   'rag': True},\n",
       "  'items': [{'role': 'user', 'content': 'What challenges does BMW face?'},\n",
       "   {'role': 'assistant',\n",
       "    'content': \"BMW faces various challenges due to its involvement with the Producer Responsibility policy implemented by Germany's government in 1990. This legislation requires automobile manufacturers to collect used cars from consumers after they reach certain age thresholds.\\n\\nSome key issues include:\\n\\n*   Economic costs associated with implementing the program.\\n    *   Labor intensive process of disassembly required for vehicle scrapping.\\n        +   High operational expenses related to hiring specialized workforce skilled in handling complex automotive components.\\n            ~     Increased overheads on equipment maintenance & repair services needed to handle diverse range of models produced over time.\\n    \\n*   Potential impact on supply chain operations and logistics.\\n    **Impact on existing relationships between suppliers and customers** may arise when dealing with changes brought forth through implementation policies; however these\"}]}]"
      ]
     },
     "execution_count": 6,
     "metadata": {},
     "output_type": "execute_result"
    }
   ],
   "source": [
    "a.chat(prompt=\"What challenges does BMW face?\",\n",
    "       web=False,\n",
    "       rag=True,\n",
    "       tokens=150)\n",
    "a.messages"
   ]
  },
  {
   "cell_type": "code",
   "execution_count": 4,
   "id": "4ed46e1f",
   "metadata": {},
   "outputs": [
    {
     "name": "stdout",
     "output_type": "stream",
     "text": [
      "**Recommendations for Airbnb:**\n",
      "\n",
      "1. **Enhance Regulatory Compliance Tools:** \n",
      "   - Invest in better tools to help hosts understand and comply with local regulations, reducing legal risks and making onboarding easier.\n",
      "\n",
      "2. **Improve Trust and Safety Measures:** \n",
      "   - Strengthen verification processes for both hosts and guests. Increase transparency around guest reviews and incident reporting.\n",
      "\n",
      "3. **Expand Value-Add Services:**\n",
      "   - Offer premium services like cleaning, key exchange, and 24/7 support to increase customer satisfaction and differentiate from competitors.\n",
      "\n",
      "4. **Optimize Search and Personalization:**\n",
      "   - Improve algorithms to better match guest preferences with tailored listings, focusing on location, amenities, and unique experiences.\n",
      "\n",
      "5. **Support Host Success:**\n",
      "   - Provide more resources (guides, analytics, pricing tools) to help hosts increase booking rates and maintain high quality.\n",
      "\n",
      "6. **Address Community Concerns:**\n",
      "   - Work with local communities to address issues such as over-tourism, noise, and neighborhood integrity.\n",
      "\n",
      "7. **Innovate in Marketing and Loyalty:**\n",
      "   - Expand loyalty programs and unique experiences to encourage repeat bookings and attract new users.\n",
      "\n",
      "8. **Sustainability Initiatives:**\n",
      "   - Encourage and promote eco-friendly listings and practices, aligning with growing traveler values around sustainability.\n",
      "business_&_entrepreneurs\n",
      "news_&_social_concern\n",
      "['Premier transparency', 'Enhance Regulatory Compliance Tools', 'traveler values', 'Premier services', 'Sustainability Initiatives', 'sustainable tourism', 'Support Host Success', 'Airbnb recommendations', 'Premier booking rates']\n"
     ]
    },
    {
     "data": {
      "text/plain": [
       "'**Recommendations for Airbnb:**\\n\\n1. **Enhance Regulatory Compliance Tools:** \\n   - Invest in better tools to help hosts understand and comply with local regulations, reducing legal risks and making onboarding easier.\\n\\n2. **Improve Trust and Safety Measures:** \\n   - Strengthen verification processes for both hosts and guests. Increase transparency around guest reviews and incident reporting.\\n\\n3. **Expand Value-Add Services:**\\n   - Offer premium services like cleaning, key exchange, and 24/7 support to increase customer satisfaction and differentiate from competitors.\\n\\n4. **Optimize Search and Personalization:**\\n   - Improve algorithms to better match guest preferences with tailored listings, focusing on location, amenities, and unique experiences.\\n\\n5. **Support Host Success:**\\n   - Provide more resources (guides, analytics, pricing tools) to help hosts increase booking rates and maintain high quality.\\n\\n6. **Address Community Concerns:**\\n   - Work with local communities to address issues such as over-tourism, noise, and neighborhood integrity.\\n\\n7. **Innovate in Marketing and Loyalty:**\\n   - Expand loyalty programs and unique experiences to encourage repeat bookings and attract new users.\\n\\n8. **Sustainability Initiatives:**\\n   - Encourage and promote eco-friendly listings and practices, aligning with growing traveler values around sustainability.'"
      ]
     },
     "execution_count": 4,
     "metadata": {},
     "output_type": "execute_result"
    }
   ],
   "source": [
    "a.chat(prompt=\"What reccomendations should we make to airbnb?\",use_gpt=True,messages=a.messages)"
   ]
  },
  {
   "cell_type": "code",
   "execution_count": 7,
   "id": "8418a017",
   "metadata": {},
   "outputs": [
    {
     "name": "stdout",
     "output_type": "stream",
     "text": [
      "**Recommendations for BMW:**\n",
      "\n",
      "1. **Enhance Circular Economy Efforts**  \n",
      "   - Invest further in vehicle recycling, reuse, and circular supply chains to address the Producer Responsibility policy cost-effectively.\n",
      "\n",
      "2. **Automate Disassembly & Recycling**  \n",
      "   - Adopt more robotics and automation in vehicle disassembly to reduce labor costs and improve efficiency.\n",
      "\n",
      "3. **Collaborate with Suppliers & Partners**  \n",
      "   - Build deeper partnerships with suppliers and recycling firms to streamline end-of-life vehicle logistics and resource recovery.\n",
      "\n",
      "4. **Innovate in Sustainable Materials**  \n",
      "   - Accelerate research into eco-friendly and easy-to-recycle materials for future models to lower disassembly complexity and costs.\n",
      "\n",
      "5. **Leverage Data & Digitalization**  \n",
      "   - Use data-driven tools to track vehicles through their lifecycle and optimize collection, recycling, and resource allocation.\n",
      "\n",
      "6. **Engage in Policy Advocacy**  \n",
      "   - Work actively with regulators to strike a balance between industry feasibility and environmental objectives.\n",
      "\n",
      "7. **Customer Incentives for Returns**  \n",
      "   - Develop attractive programs to encourage customers to return vehicles at the end of their lifecycle, ensuring higher collection rates.\n",
      "\n",
      "By focusing on sustainability, technology, and strategic partnerships, BMW can address current regulatory and operational challenges while strengthening its long-term competitiveness.\n",
      "business_&_entrepreneurs\n",
      "news_&_social_concern\n",
      "science_&_technology\n",
      "['Customer Incentives for Returns', 'Recycling and reuse', 'Automate Disassembly & Recycling', 'BMW vehicle recycling', 'Sustainability and Sustainable Materials', 'Creator Responsibility policy', 'BMW regulatory challenges', 'Leverage Data & Digitalization']\n"
     ]
    },
    {
     "data": {
      "text/plain": [
       "'**Recommendations for BMW:**\\n\\n1. **Enhance Circular Economy Efforts**  \\n   - Invest further in vehicle recycling, reuse, and circular supply chains to address the Producer Responsibility policy cost-effectively.\\n\\n2. **Automate Disassembly & Recycling**  \\n   - Adopt more robotics and automation in vehicle disassembly to reduce labor costs and improve efficiency.\\n\\n3. **Collaborate with Suppliers & Partners**  \\n   - Build deeper partnerships with suppliers and recycling firms to streamline end-of-life vehicle logistics and resource recovery.\\n\\n4. **Innovate in Sustainable Materials**  \\n   - Accelerate research into eco-friendly and easy-to-recycle materials for future models to lower disassembly complexity and costs.\\n\\n5. **Leverage Data & Digitalization**  \\n   - Use data-driven tools to track vehicles through their lifecycle and optimize collection, recycling, and resource allocation.\\n\\n6. **Engage in Policy Advocacy**  \\n   - Work actively with regulators to strike a balance between industry feasibility and environmental objectives.\\n\\n7. **Customer Incentives for Returns**  \\n   - Develop attractive programs to encourage customers to return vehicles at the end of their lifecycle, ensuring higher collection rates.\\n\\nBy focusing on sustainability, technology, and strategic partnerships, BMW can address current regulatory and operational challenges while strengthening its long-term competitiveness.'"
      ]
     },
     "execution_count": 7,
     "metadata": {},
     "output_type": "execute_result"
    }
   ],
   "source": [
    "a.chat(prompt=\"What reccomendations should we make to BMW?\",use_gpt=True,messages=a.messages)"
   ]
  },
  {
   "cell_type": "code",
   "execution_count": 8,
   "id": "c1de5f76",
   "metadata": {},
   "outputs": [
    {
     "data": {
      "text/plain": [
       "[{'meta': {'timestamp': '2025-04-28 02:33:46.385414',\n",
       "   'topics': ['business_&_entrepreneurs'],\n",
       "   'key_words': ['home rules',\n",
       "    'recording options',\n",
       "    'neighborhood details',\n",
       "    'host ratings',\n",
       "    'Airbnb competition',\n",
       "    'location and amenities',\n",
       "    'recording platforms'],\n",
       "   'web': False,\n",
       "   'rag': True},\n",
       "  'items': [{'role': 'user', 'content': 'What challenges does airbnb face?'},\n",
       "   {'role': 'assistant',\n",
       "    'content': 'Airbnb faces several challenges:\\n\\n1. **Regulatory hurdles**: The company operates in over 220 countries and regions worldwide, which means navigating complex local regulations can be challenging.\\n2. **Competition from traditional lodging options**: With more people turning to online booking platforms for accommodations, competition has increased significantly, making it harder for Airbnb to stand out.\\n\\nRegarding price suggestions, when users search for places to stay using Airbnb\\'s \"similar listings\" feature or filters like location, dates, and amenities, multiple algorithms work together to analyze various data points such as property type (entire home/apartment/house), number of bedrooms/bathrooms, square footage, reviews rating, host ratings, calendar availability, guest policies, house rules, neighborhood details,'}]},\n",
       " {'meta': {'timestamp': '2025-04-28 02:37:29.888397',\n",
       "   'topics': ['business_&_entrepreneurs', 'news_&_social_concern'],\n",
       "   'key_words': ['Premier transparency',\n",
       "    'Enhance Regulatory Compliance Tools',\n",
       "    'traveler values',\n",
       "    'Premier services',\n",
       "    'Sustainability Initiatives',\n",
       "    'sustainable tourism',\n",
       "    'Support Host Success',\n",
       "    'Airbnb recommendations',\n",
       "    'Premier booking rates'],\n",
       "   'web': False,\n",
       "   'rag': False},\n",
       "  'items': [{'role': 'user',\n",
       "    'content': 'What reccomendations should we make to airbnb?'},\n",
       "   {'role': 'assistant',\n",
       "    'content': '**Recommendations for Airbnb:**\\n\\n1. **Enhance Regulatory Compliance Tools:** \\n   - Invest in better tools to help hosts understand and comply with local regulations, reducing legal risks and making onboarding easier.\\n\\n2. **Improve Trust and Safety Measures:** \\n   - Strengthen verification processes for both hosts and guests. Increase transparency around guest reviews and incident reporting.\\n\\n3. **Expand Value-Add Services:**\\n   - Offer premium services like cleaning, key exchange, and 24/7 support to increase customer satisfaction and differentiate from competitors.\\n\\n4. **Optimize Search and Personalization:**\\n   - Improve algorithms to better match guest preferences with tailored listings, focusing on location, amenities, and unique experiences.\\n\\n5. **Support Host Success:**\\n   - Provide more resources (guides, analytics, pricing tools) to help hosts increase booking rates and maintain high quality.\\n\\n6. **Address Community Concerns:**\\n   - Work with local communities to address issues such as over-tourism, noise, and neighborhood integrity.\\n\\n7. **Innovate in Marketing and Loyalty:**\\n   - Expand loyalty programs and unique experiences to encourage repeat bookings and attract new users.\\n\\n8. **Sustainability Initiatives:**\\n   - Encourage and promote eco-friendly listings and practices, aligning with growing traveler values around sustainability.'}]},\n",
       " {'meta': {'timestamp': '2025-04-28 02:39:10.615078',\n",
       "   'topics': ['business_&_entrepreneurs', 'news_&_social_concern'],\n",
       "   'key_words': ['high operational expenses',\n",
       "    'German government involvement',\n",
       "    'age thresholds',\n",
       "    'BMW production policy',\n",
       "    'automobile scrapping',\n",
       "    'Producer Responsibility policy',\n",
       "    'supply chain operations',\n",
       "    'labor intensive process',\n",
       "    'automobile manufacturers',\n",
       "    ' logistics impact'],\n",
       "   'web': False,\n",
       "   'rag': True},\n",
       "  'items': [{'role': 'user', 'content': 'What challenges does BMW face?'},\n",
       "   {'role': 'assistant',\n",
       "    'content': \"BMW faces various challenges due to its involvement with the Producer Responsibility policy implemented by Germany's government in 1990. This legislation requires automobile manufacturers to collect used cars from consumers after they reach certain age thresholds.\\n\\nSome key issues include:\\n\\n*   Economic costs associated with implementing the program.\\n    *   Labor intensive process of disassembly required for vehicle scrapping.\\n        +   High operational expenses related to hiring specialized workforce skilled in handling complex automotive components.\\n            ~     Increased overheads on equipment maintenance & repair services needed to handle diverse range of models produced over time.\\n    \\n*   Potential impact on supply chain operations and logistics.\\n    **Impact on existing relationships between suppliers and customers** may arise when dealing with changes brought forth through implementation policies; however these\"}]},\n",
       " {'meta': {'timestamp': '2025-04-28 02:39:51.026023',\n",
       "   'topics': ['business_&_entrepreneurs',\n",
       "    'news_&_social_concern',\n",
       "    'science_&_technology'],\n",
       "   'key_words': ['Customer Incentives for Returns',\n",
       "    'Recycling and reuse',\n",
       "    'Automate Disassembly & Recycling',\n",
       "    'BMW vehicle recycling',\n",
       "    'Sustainability and Sustainable Materials',\n",
       "    'Creator Responsibility policy',\n",
       "    'BMW regulatory challenges',\n",
       "    'Leverage Data & Digitalization'],\n",
       "   'web': False,\n",
       "   'rag': False},\n",
       "  'items': [{'role': 'user',\n",
       "    'content': 'What reccomendations should we make to BMW?'},\n",
       "   {'role': 'assistant',\n",
       "    'content': '**Recommendations for BMW:**\\n\\n1. **Enhance Circular Economy Efforts**  \\n   - Invest further in vehicle recycling, reuse, and circular supply chains to address the Producer Responsibility policy cost-effectively.\\n\\n2. **Automate Disassembly & Recycling**  \\n   - Adopt more robotics and automation in vehicle disassembly to reduce labor costs and improve efficiency.\\n\\n3. **Collaborate with Suppliers & Partners**  \\n   - Build deeper partnerships with suppliers and recycling firms to streamline end-of-life vehicle logistics and resource recovery.\\n\\n4. **Innovate in Sustainable Materials**  \\n   - Accelerate research into eco-friendly and easy-to-recycle materials for future models to lower disassembly complexity and costs.\\n\\n5. **Leverage Data & Digitalization**  \\n   - Use data-driven tools to track vehicles through their lifecycle and optimize collection, recycling, and resource allocation.\\n\\n6. **Engage in Policy Advocacy**  \\n   - Work actively with regulators to strike a balance between industry feasibility and environmental objectives.\\n\\n7. **Customer Incentives for Returns**  \\n   - Develop attractive programs to encourage customers to return vehicles at the end of their lifecycle, ensuring higher collection rates.\\n\\nBy focusing on sustainability, technology, and strategic partnerships, BMW can address current regulatory and operational challenges while strengthening its long-term competitiveness.'}]}]"
      ]
     },
     "execution_count": 8,
     "metadata": {},
     "output_type": "execute_result"
    }
   ],
   "source": [
    "a.messages"
   ]
  },
  {
   "cell_type": "code",
   "execution_count": null,
   "id": "791925c6",
   "metadata": {},
   "outputs": [
    {
     "data": {
      "text/plain": [
       "4"
      ]
     },
     "execution_count": 9,
     "metadata": {},
     "output_type": "execute_result"
    }
   ],
   "source": []
  },
  {
   "cell_type": "code",
   "execution_count": null,
   "id": "beaeb522",
   "metadata": {},
   "outputs": [],
   "source": []
  }
 ],
 "metadata": {
  "kernelspec": {
   "display_name": "env",
   "language": "python",
   "name": "python3"
  },
  "language_info": {
   "codemirror_mode": {
    "name": "ipython",
    "version": 3
   },
   "file_extension": ".py",
   "mimetype": "text/x-python",
   "name": "python",
   "nbconvert_exporter": "python",
   "pygments_lexer": "ipython3",
   "version": "3.13.1"
  }
 },
 "nbformat": 4,
 "nbformat_minor": 5
}
