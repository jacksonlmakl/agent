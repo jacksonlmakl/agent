{
 "cells": [
  {
   "cell_type": "code",
   "execution_count": 2,
   "id": "4f61bdba",
   "metadata": {},
   "outputs": [],
   "source": [
    "from lightweight import chat\n",
    "from search import chat as search\n",
    "from topics import topics\n",
    "from rag import RAG\n",
    "# from gpt import gpt"
   ]
  },
  {
   "cell_type": "code",
   "execution_count": 3,
   "id": "6859fc01",
   "metadata": {},
   "outputs": [
    {
     "name": "stdout",
     "output_type": "stream",
     "text": [
      "Researching: What challenges does airbnb face?\n",
      "Found 5 total results\n",
      "After deduplication: 5 results\n",
      "Fetching additional content from URLs...\n"
     ]
    },
    {
     "name": "stderr",
     "output_type": "stream",
     "text": [
      "2025-04-28 01:01:40,444 - INFO - HTTP Request: POST https://api.openai.com/v1/responses \"HTTP/1.1 200 OK\"\n",
      "2025-04-28 01:01:41,532 - INFO - HTTP Request: POST https://api.openai.com/v1/responses \"HTTP/1.1 200 OK\"\n"
     ]
    },
    {
     "name": "stdout",
     "output_type": "stream",
     "text": [
      "Researching: Airbnb legal challenges regulatory issues reputation management gig economy competition safety concerns discrimination hosts\n",
      "Found 10 total results\n",
      "After deduplication: 7 results\n",
      "Fetching additional content from URLs...\n",
      "Error fetching content from https://www.bloomberg.com/news/features/2023-08-02/cities-keep-trying-and-failing-to-regulate-airbnb-nasdaq-abnb: 403 Client Error: Forbidden for url: https://www.bloomberg.com/news/features/2023-08-02/cities-keep-trying-and-failing-to-regulate-airbnb-nasdaq-abnb\n",
      "Error fetching content from https://www.americanbar.org/groups/government_public/publications/public_lawyer_articles/regulatory-challenges-in-the-sharing-economy/: 403 Client Error: Forbidden for url: https://www.americanbar.org/groups/government_public/publications/public_lawyer_articles/regulatory-challenges-in-the-sharing-economy/\n",
      "Error fetching content from https://www.researchgate.net/publication/342489642_The_evolution_of_Airbnb_regulation_-_An_international_longitudinal_investigation_2008-2020: 403 Client Error: Forbidden for url: https://www.researchgate.net/publication/342489642_The_evolution_of_Airbnb_regulation_-_An_international_longitudinal_investigation_2008-2020\n"
     ]
    },
    {
     "name": "stderr",
     "output_type": "stream",
     "text": [
      "2025-04-28 01:01:55,839 - INFO - HTTP Request: POST https://api.openai.com/v1/responses \"HTTP/1.1 200 OK\"\n"
     ]
    },
    {
     "name": "stdout",
     "output_type": "stream",
     "text": [
      "Loading model meta-llama/Llama-3.2-3B-Instruct on mps\n"
     ]
    },
    {
     "name": "stderr",
     "output_type": "stream",
     "text": [
      "Loading checkpoint shards: 100%|██████████| 2/2 [00:08<00:00,  4.21s/it]\n"
     ]
    }
   ],
   "source": [
    "prompt=\"What challenges does airbnb face?\"\n",
    "s=search(prompt)\n"
   ]
  },
  {
   "cell_type": "code",
   "execution_count": 4,
   "id": "40f3776a",
   "metadata": {},
   "outputs": [
    {
     "name": "stdout",
     "output_type": "stream",
     "text": [
      "business_&_entrepreneurs\n",
      "news_&_social_concern\n"
     ]
    }
   ],
   "source": [
    "t=topics(s)\n"
   ]
  },
  {
   "cell_type": "code",
   "execution_count": 5,
   "id": "f618ce78",
   "metadata": {},
   "outputs": [
    {
     "name": "stderr",
     "output_type": "stream",
     "text": [
      "100%|██████████| 4/4 [00:00<00:00, 12427.57it/s]\n",
      "100%|██████████| 4/4 [00:00<00:00, 1266.20it/s]\n"
     ]
    }
   ],
   "source": [
    "r=RAG(prompt)"
   ]
  },
  {
   "cell_type": "code",
   "execution_count": null,
   "id": "dcca0a85",
   "metadata": {},
   "outputs": [
    {
     "data": {
      "text/plain": [
       "\"Airbnb faces multiple pressing concerns affecting both its operational aspects and public perception:\\n\\n1\\\\. Global Legal Challenges: The company must navigate diverse regulatory environments worldwide, dealing with varying degrees of government oversight ranging from prohibitive policies (bans) to stringent penalties (fines).\\n\\n2\\\\. Reputational Crises: Discrimination accusations targeting specific racial/ethnic/gender-based groups significantly impacted Airbnb's standing before authorities and consumers alike.\\n\\n3\\\\. Economic Disruption Due To Pandemic-Related Lockdown Measures: Reduced global tourism caused considerable financial strain upon businesses reliant heavily upon short-term rentals like those offered through platforms like Airbnb.\\n\\n4\\\\. Security Concerns Despite Enhanced Features: Some customers continue expressing unease regarding safety even after implementing robust verification processes designed protect members' identities\\n\\n\\n\\nThese interconnected problems underscored need comprehensive strategies aimed mitigate risks associated each challenge area simultaneously ensuring continued growth sustainability moving forward\""
      ]
     },
     "execution_count": 7,
     "metadata": {},
     "output_type": "execute_result"
    }
   ],
   "source": [
    "\n",
    "c=chat(f\"\"\"\n",
    "       User Question/Prompt:\n",
    "            - ''{prompt}''\n",
    "       Instructions:\n",
    "            - Use the unstructured text information provided below to inform your response to the user prompt\n",
    "            - Be concise, accurate, and coherent in your answers\n",
    "       Contextual Information:\n",
    "        {r}\n",
    "        {s}\n",
    "       \"\"\")"
   ]
  },
  {
   "cell_type": "code",
   "execution_count": null,
   "id": "8030a191",
   "metadata": {},
   "outputs": [],
   "source": []
  }
 ],
 "metadata": {
  "kernelspec": {
   "display_name": "env",
   "language": "python",
   "name": "python3"
  },
  "language_info": {
   "codemirror_mode": {
    "name": "ipython",
    "version": 3
   },
   "file_extension": ".py",
   "mimetype": "text/x-python",
   "name": "python",
   "nbconvert_exporter": "python",
   "pygments_lexer": "ipython3",
   "version": "3.13.1"
  }
 },
 "nbformat": 4,
 "nbformat_minor": 5
}
