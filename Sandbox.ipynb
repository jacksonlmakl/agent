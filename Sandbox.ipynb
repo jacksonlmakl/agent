{
 "cells": [
  {
   "cell_type": "code",
   "execution_count": 1,
   "id": "4f61bdba",
   "metadata": {},
   "outputs": [
    {
     "name": "stderr",
     "output_type": "stream",
     "text": [
      "/Users/jackson.makl@dataiku.com/agent/env/lib/python3.13/site-packages/tqdm/auto.py:21: TqdmWarning: IProgress not found. Please update jupyter and ipywidgets. See https://ipywidgets.readthedocs.io/en/stable/user_install.html\n",
      "  from .autonotebook import tqdm as notebook_tqdm\n"
     ]
    }
   ],
   "source": [
    "# from lightweight import lightweight\n",
    "from search import chat\n",
    "# from gpt import gpt"
   ]
  },
  {
   "cell_type": "code",
   "execution_count": null,
   "id": "6859fc01",
   "metadata": {},
   "outputs": [],
   "source": [
    "prompt=\"Who is Bernie Sanders?\"\n",
    "r=chat(prompt)\n",
    "print(r)"
   ]
  },
  {
   "cell_type": "code",
   "execution_count": 2,
   "id": "f376b84d",
   "metadata": {},
   "outputs": [
    {
     "name": "stdout",
     "output_type": "stream",
     "text": [
      "Researching: Who is Doechii?\n",
      "Found 15 total results\n",
      "After deduplication: 14 results\n",
      "Fetching additional content from URLs...\n",
      "Researching: Doechii biography Grammy Best Rap Album Alligator Bites Never Heal queer representation music career hit singles\n",
      "Found 11 total results\n",
      "After deduplication: 6 results\n",
      "Fetching additional content from URLs...\n",
      "Loading model meta-llama/Llama-3.2-3B-Instruct on mps\n"
     ]
    },
    {
     "name": "stderr",
     "output_type": "stream",
     "text": [
      "Loading checkpoint shards: 100%|██████████| 2/2 [00:09<00:00,  4.79s/it]\n"
     ]
    },
    {
     "name": "stdout",
     "output_type": "stream",
     "text": [
      "Doehii is an American musician who has gained significant recognition as both a rapper and vocalist.\n",
      "\n",
      "Key aspects of their career include:\n",
      "\n",
      "- Viral success with songs like 'Yucky Bluclky Fructake' - which led them to sign with prominent record labels such as Top Dawgetnertainment and CapitolfRecords\n",
      "\n",
      "- Winning multiple awards including being named one of three females artists to have ever received this award within rap album categories\n",
      "\n",
      "\n",
      "Their unique blend of styles combined with honest lyrics make doochi stand out among other musicians today\n"
     ]
    }
   ],
   "source": [
    "prompt=\"Who is Doechii?\"\n",
    "r=chat(prompt)\n",
    "print(r)"
   ]
  },
  {
   "cell_type": "code",
   "execution_count": null,
   "id": "23a5d120",
   "metadata": {},
   "outputs": [],
   "source": []
  }
 ],
 "metadata": {
  "kernelspec": {
   "display_name": "env",
   "language": "python",
   "name": "python3"
  },
  "language_info": {
   "codemirror_mode": {
    "name": "ipython",
    "version": 3
   },
   "file_extension": ".py",
   "mimetype": "text/x-python",
   "name": "python",
   "nbconvert_exporter": "python",
   "pygments_lexer": "ipython3",
   "version": "3.13.1"
  }
 },
 "nbformat": 4,
 "nbformat_minor": 5
}
