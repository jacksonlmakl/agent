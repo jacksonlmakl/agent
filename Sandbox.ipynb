{
 "cells": [
  {
   "cell_type": "code",
   "execution_count": 1,
   "id": "6de953c9",
   "metadata": {},
   "outputs": [
    {
     "name": "stderr",
     "output_type": "stream",
     "text": [
      "Some weights of the model checkpoint at deepset/bert-base-cased-squad2 were not used when initializing BertForQuestionAnswering: ['bert.pooler.dense.bias', 'bert.pooler.dense.weight']\n",
      "- This IS expected if you are initializing BertForQuestionAnswering from the checkpoint of a model trained on another task or with another architecture (e.g. initializing a BertForSequenceClassification model from a BertForPreTraining model).\n",
      "- This IS NOT expected if you are initializing BertForQuestionAnswering from the checkpoint of a model that you expect to be exactly identical (initializing a BertForSequenceClassification model from a BertForSequenceClassification model).\n"
     ]
    }
   ],
   "source": [
    "from model import Model\n"
   ]
  },
  {
   "cell_type": "code",
   "execution_count": 2,
   "id": "566f861a",
   "metadata": {},
   "outputs": [],
   "source": [
    "m=Model()\n"
   ]
  },
  {
   "cell_type": "code",
   "execution_count": 3,
   "id": "357c0bcf",
   "metadata": {},
   "outputs": [
    {
     "name": "stderr",
     "output_type": "stream",
     "text": [
      "/Users/jackson.makl@dataiku.com/agent/rag.py:31: LangChainDeprecationWarning: The class `HuggingFaceEmbeddings` was deprecated in LangChain 0.2.2 and will be removed in 1.0. An updated version of the class exists in the :class:`~langchain-huggingface package and should be used instead. To use it run `pip install -U :class:`~langchain-huggingface` and import as `from :class:`~langchain_huggingface import HuggingFaceEmbeddings``.\n",
      "  self.embeddings = HuggingFaceEmbeddings(model_name=\"sentence-transformers/all-MiniLM-L6-v2\")\n",
      "100%|██████████| 4/4 [00:00<00:00, 209.29it/s]\n",
      "100%|██████████| 4/4 [00:00<00:00, 1151.81it/s]\n"
     ]
    },
    {
     "data": {
      "text/plain": [
       "'**Airbnb faces several challenges, particularly regarding its pricing model and its impact on host earnings.**\\n\\n**Main Challenges:**\\n1. **Potential for Indirect Bias:**  \\n   While Airbnb’s pricing model suggests prices based on similar properties, it primarily uses location, property features, and historical pricing data as factors. However, in cities like New York, where neighborhoods are often divided along racial and ethnic lines (defacto segregation), this model can indirectly reinforce socioeconomic disparities. For example, black hosts may be in areas with lower suggested prices, leading them to earn less even if race is not a direct factor in the pricing algorithm.\\n\\n2. **Socioeconomic and Neighborhood Disparities:**  \\n   Different neighborhoods—such as black, Colombian, Russian, or Italian communities—face varying socioeconomic conditions that affect demand, pricing, and host revenue. This complexity makes it harder for Airbnb to ensure fair pricing across diverse hosts.\\n\\n3. **Perception and Reality of Inequality:**  \\n   Even if the pricing system isn’t deliberately discriminatory, the perception of inequality (e.g., black hosts charging less) raises reputational risks and concerns about fairness.\\n\\n**Recommendations for Airbnb/Chesky:**\\n- **Investigate the Pricing Model:** Examine how various factors, especially location and neighborhood composition, influence price suggestions and identify any unintended biases.\\n- **Understand Underlying Factors:** Research why certain groups of hosts, such as black hosts, are charging less to better address root causes, possibly related to neighborhood segregation and demand patterns.\\n- **Increase Transparency:** Clearly communicate how pricing recommendations are formulated and take steps to address potential indirect biases.\\n\\n**In summary:**  \\nAirbnb must address challenges of indirect bias in its pricing algorithms and the socioeconomic realities of segregated neighborhoods, especially to ensure fairness and equity among all hosts. This involves investigating its model for potential biases and increasing transparency in how prices are suggested.'"
      ]
     },
     "execution_count": 3,
     "metadata": {},
     "output_type": "execute_result"
    }
   ],
   "source": [
    "m.chat(\"What Challenges Does Airbnb Face?\",web=False,rag=True,tokens=450,use_gpt=True,use_sub_gpt=True,iters=3)\n"
   ]
  },
  {
   "cell_type": "code",
   "execution_count": 4,
   "id": "148e60ad",
   "metadata": {},
   "outputs": [
    {
     "name": "stderr",
     "output_type": "stream",
     "text": [
      "100%|██████████| 4/4 [00:00<00:00, 211.91it/s]\n",
      "100%|██████████| 4/4 [00:00<00:00, 430.62it/s]\n"
     ]
    },
    {
     "data": {
      "text/plain": [
       "'BMW faces several significant challenges due to the proposed \"Producer Responsibility\" policy in Germany:\\n\\n1. **Economic Impact**: The regulation would require BMW to take back end-of-life (EOL) vehicles, creating substantial new costs for collection, dismantling, and recycling vehicles. Managers at BMW needed to assess the scale of these financial implications if they continued with their current business practices.\\n\\n2. **Operational Complexity**: The traditional system relied on a network of dismantlers and shredders, handling about 95% of EOL vehicles (around 2.1 million per year). Shifting responsibility to BMW would demand new infrastructure and processes for efficient takeback and recycling.\\n\\n3. **Labor Intensity**: Dismantling vehicles is labor-intensive. Adapting to the new policy would potentially increase labor and operational demands for BMW.\\n\\n4. **Precedent-Setting Regulation**: This policy was among the first of its kind for any industry, creating uncertainty and making it difficult for BMW’s management to anticipate all the regulatory, logistical, and financial impacts.\\n\\nIn summary: BMW faces economic, operational, and regulatory challenges in adapting to mandatory EOL vehicle takeback policies—requiring significant adjustments in cost structures, supply chains, and business processes.'"
      ]
     },
     "execution_count": 4,
     "metadata": {},
     "output_type": "execute_result"
    }
   ],
   "source": [
    "m.chat(\"What Challenges Does BMW Face?\",web=False,rag=True,tokens=450,use_gpt=True,use_sub_gpt=True,iters=3)\n",
    "\n"
   ]
  },
  {
   "cell_type": "code",
   "execution_count": 5,
   "id": "37c28cb4",
   "metadata": {},
   "outputs": [
    {
     "name": "stderr",
     "output_type": "stream",
     "text": [
      "100%|██████████| 4/4 [00:00<00:00, 614.64it/s]\n",
      "100%|██████████| 4/4 [00:00<00:00, 1321.04it/s]\n"
     ]
    },
    {
     "data": {
      "text/plain": [
       "\"**Moneyball** is the story of how Billy Beane, the General Manager of the Oakland Athletics baseball team, revolutionized the way teams are built by using **sabermetrics**—data-driven analysis of in-game baseball statistics.\\n\\n**The main challenge:**  \\nThe Oakland A’s had a very limited budget and couldn’t afford expensive star players. Traditionally, teams relied on scouts’ experience and intuition to pick players, favoring those who looked or seemed like stars. Beane saw this strategy as flawed because it ignored valuable but undervalued players who actually performed well statistically.\\n\\n**Billy Beane’s solution:**  \\n- He decided to use advanced statistics to identify and hire undervalued players, focusing on their actual on-field performance rather than reputation or appearance.\\n- He faced strong resistance from traditional scouts, the team manager, and some players who were skeptical of this unconventional approach.\\n- To enforce his strategy, Beane traded away players who didn't fit the model, making the manager use his preferred lineup.\\n\\n**Outcome:**  \\nDespite initial pushback, the team achieved a 20-game winning streak, proving the effectiveness of the data-driven approach.\\n\\n**In summary:**  \\nThe key challenge was overcoming both financial limitations and entrenched traditional thinking. Billy Beane succeeded by trusting data, sticking to his vision under pressure, and showing that sabermetrics could create a competitive team without a star-studded payroll.\""
      ]
     },
     "execution_count": 5,
     "metadata": {},
     "output_type": "execute_result"
    }
   ],
   "source": [
    "m.chat(\"Tell me about Money Ball and what the challenge was with the team??\",web=False,rag=True,tokens=200,use_gpt=True,use_sub_gpt=True,iters=3)\n",
    "\n"
   ]
  },
  {
   "cell_type": "code",
   "execution_count": 6,
   "id": "7244264d",
   "metadata": {},
   "outputs": [
    {
     "name": "stderr",
     "output_type": "stream",
     "text": [
      "100%|██████████| 4/4 [00:00<00:00, 71.04it/s]\n",
      "100%|██████████| 4/4 [00:00<00:00, 254.10it/s]\n"
     ]
    },
    {
     "data": {
      "text/plain": [
       "\"From all of this, we can learn a few key lessons:\\n\\n1. **Addressing Challenges Requires Openness to Change:** Whether it’s a company like Airbnb confronting hidden algorithmic biases, BMW adapting to new regulations around sustainability, or a baseball team like the Oakland A’s shifting from intuition to analytics, each situation shows the need for organizations to be willing to scrutinize current practices and adapt.\\n\\n2. **The Importance of Data and Transparency:** Using data (as in Moneyball or Airbnb's analytics) can uncover patterns and biases not immediately visible. But it also highlights the need to communicate clearly about how decisions are made and to address potential unintended consequences.\\n\\n3. **Navigating Stakeholder Interests and Resistance:** Change often meets resistance—from within an organization (scouts in Moneyball), from external networks (BMW’s established dismantler network), or from public perception (Airbnb’s hosts). Successful change requires managing these relationships thoughtfully.\\n\\n4. **Continuous Improvement and Feedback:** Organizations benefit from continual review and openness to feedback (as suggested by Darden Business Publishing’s request for errata), to ensure materials, systems, and strategies remain fair, effective, and high quality.\\n\\nIn summary: Learning from these examples, we see the value of adapting in response to data, being transparent, addressing systemic challenges, and being proactive in improving practices even when it’s difficult or unpopular.\""
      ]
     },
     "execution_count": 6,
     "metadata": {},
     "output_type": "execute_result"
    }
   ],
   "source": [
    "m.chat(\"What can we learn from all of this?\",web=False,rag=True,tokens=450,use_gpt=True,use_sub_gpt=True,iters=1)\n",
    "\n"
   ]
  },
  {
   "cell_type": "code",
   "execution_count": 7,
   "id": "b8909f35",
   "metadata": {},
   "outputs": [
    {
     "name": "stderr",
     "output_type": "stream",
     "text": [
      "100%|██████████| 4/4 [00:00<00:00, 614.03it/s]\n",
      "100%|██████████| 4/4 [00:00<00:00, 406.01it/s]\n"
     ]
    },
    {
     "data": {
      "text/plain": [
       "\"**Compare and Contrast: Airbnb, BMW, and Moneyball Cases**\\n\\n**Similarities:**\\n1. **Facing Structural Change:**\\n   - **Airbnb** faces scrutiny over algorithmic pricing that may reinforce social biases due to neighborhood segregation.\\n   - **BMW** must adapt to regulatory changes (Producer Responsibility law) compelling it to take responsibility for end-of-life vehicles, requiring fundamental shifts in operations.\\n   - **Moneyball/Oakland A’s** address competitive disadvantage (low budget) by upending how players are selected, moving from intuition to data-driven methods.\\n2. **Data & Systemic Bias or Blind Spots:**\\n   - **Airbnb** uses data models for pricing that can unintentionally reflect or amplify social inequities embedded in housing markets.\\n   - **Moneyball** leverages overlooked statistics to identify undervalued talent, challenging the bias of traditional scouting.\\n   - **BMW** must integrate new data about product lifecycle and disposal as part of compliance, surfacing blind spots in their value chain.\\n3. **Resistance to Change:**\\n   - All three cases confront cultural and organizational resistance: Airbnb to changing its algorithm, BMW to re-engineering established systems, Moneyball to upending a century of scouting tradition.\\n\\n**Differences:**\\n1. **Nature of the Challenge:**\\n   - **Airbnb:** Ethical and social, stemming from technology's intersection with entrenched societal segregation and algorithmic fairness.\\n   - **BMW:** Regulatory and operational, triggered by external law demanding internal overhaul of end-of-life practices.\\n   - **Moneyball:** Strategic and competitive, tackling a resource gap by innovating with analytics.\\n2. **Primary Stakeholders:**\\n   - **Airbnb:** Hosts (particularly minority hosts), guests, regulators, and the public.\\n   - **BMW:** Company leadership, dismantlers/recyclers, regulators, and car owners.\\n   - **Moneyball:** Team management, coaches, scouts, players, and fans.\\n3. **Change Mechanism:**\\n   - **Airbnb:** Investigate and adjust pricing algorithms, increase transparency, recognize indirect impacts of seemingly neutral policies.\\n   - **BMW:** Develop new infrastructure, rework value chain for sustainability, and handle new cost structures.\\n   - **Moneyball:** Trade traditional expertise for statistical analysis, implement new player selection criteria, and change roster management.\\n\\n**Key Takeaways:**\\n- **All three demonstrate the tension between tradition/current systems and the push for better outcomes (equity, compliance, or success).**\\n- **Data and analytics are double-edged: they can disrupt bias and improve performance (Moneyball) or reproduce inequity if not carefully examined (Airbnb).**\\n- **External forces—societal norms (Airbnb), regulation (BMW), budget constraints (Moneyball)—drive innovation and require proactive leadership.**\\n\\n**In summary:**  \\nAirbnb, BMW, and Moneyball each exemplify organizations forced to rethink established processes due to external pressures or internal limitations—using data, confronting resistance, and managing systemic change with varying degrees of ethical, operational, or strategic focus.\""
      ]
     },
     "execution_count": 7,
     "metadata": {},
     "output_type": "execute_result"
    }
   ],
   "source": [
    "m.chat(\"Compare and contrast airbnb, BMW, and the Money Ball cases\",web=False,rag=True,tokens=450,use_gpt=True,use_sub_gpt=True,iters=1)\n",
    "\n"
   ]
  },
  {
   "cell_type": "code",
   "execution_count": null,
   "id": "b278d249",
   "metadata": {},
   "outputs": [],
   "source": []
  }
 ],
 "metadata": {
  "kernelspec": {
   "display_name": "env",
   "language": "python",
   "name": "python3"
  },
  "language_info": {
   "codemirror_mode": {
    "name": "ipython",
    "version": 3
   },
   "file_extension": ".py",
   "mimetype": "text/x-python",
   "name": "python",
   "nbconvert_exporter": "python",
   "pygments_lexer": "ipython3",
   "version": "3.13.1"
  }
 },
 "nbformat": 4,
 "nbformat_minor": 5
}
