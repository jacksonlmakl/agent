{
 "cells": [
  {
   "cell_type": "code",
   "execution_count": null,
   "id": "4f61bdba",
   "metadata": {},
   "outputs": [],
   "source": [
    "from lightweight import chat\n",
    "from search import chat as search\n",
    "from topics import topics\n",
    "from rag import RAG\n",
    "# from gpt import gpt"
   ]
  },
  {
   "cell_type": "code",
   "execution_count": null,
   "id": "6859fc01",
   "metadata": {},
   "outputs": [],
   "source": [
    "prompt=\"Who is Lady Gaga?\"\n",
    "s=search(prompt)\n"
   ]
  },
  {
   "cell_type": "code",
   "execution_count": null,
   "id": "40f3776a",
   "metadata": {},
   "outputs": [],
   "source": [
    "t=topics(s)\n"
   ]
  },
  {
   "cell_type": "code",
   "execution_count": null,
   "id": "4b5d13b2",
   "metadata": {},
   "outputs": [],
   "source": [
    "c=chat(\"What is the most densley populated city in the world?\")\n",
    "c"
   ]
  },
  {
   "cell_type": "code",
   "execution_count": 9,
   "id": "f618ce78",
   "metadata": {},
   "outputs": [
    {
     "name": "stderr",
     "output_type": "stream",
     "text": [
      "100%|██████████| 4/4 [00:00<00:00, 11428.62it/s]\n",
      "100%|██████████| 4/4 [00:00<00:00, 1040.77it/s]\n"
     ]
    }
   ],
   "source": [
    "r=RAG(\"What challenges is airbnb facing?\")"
   ]
  }
 ],
 "metadata": {
  "kernelspec": {
   "display_name": "env",
   "language": "python",
   "name": "python3"
  },
  "language_info": {
   "codemirror_mode": {
    "name": "ipython",
    "version": 3
   },
   "file_extension": ".py",
   "mimetype": "text/x-python",
   "name": "python",
   "nbconvert_exporter": "python",
   "pygments_lexer": "ipython3",
   "version": "3.13.1"
  }
 },
 "nbformat": 4,
 "nbformat_minor": 5
}
