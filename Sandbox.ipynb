{
 "cells": [
  {
   "cell_type": "code",
   "execution_count": 1,
   "id": "4f61bdba",
   "metadata": {},
   "outputs": [
    {
     "name": "stderr",
     "output_type": "stream",
     "text": [
      "/Users/jackson.makl@dataiku.com/agent/env/lib/python3.13/site-packages/tqdm/auto.py:21: TqdmWarning: IProgress not found. Please update jupyter and ipywidgets. See https://ipywidgets.readthedocs.io/en/stable/user_install.html\n",
      "  from .autonotebook import tqdm as notebook_tqdm\n"
     ]
    }
   ],
   "source": [
    "# from lightweight import lightweight\n",
    "from search import chat\n",
    "from topics import topics\n",
    "# from gpt import gpt"
   ]
  },
  {
   "cell_type": "code",
   "execution_count": 2,
   "id": "6859fc01",
   "metadata": {},
   "outputs": [
    {
     "name": "stdout",
     "output_type": "stream",
     "text": [
      "Researching: Who is Lady Gaga?\n",
      "Found 15 total results\n",
      "After deduplication: 13 results\n",
      "Fetching additional content from URLs...\n",
      "Researching: Lady Gaga career achievements albums awards 2025 Mayhem best-selling pop music artist\n",
      "Found 5 total results\n",
      "After deduplication: 5 results\n",
      "Fetching additional content from URLs...\n",
      "Loading model meta-llama/Llama-3.2-3B-Instruct on mps\n"
     ]
    },
    {
     "name": "stderr",
     "output_type": "stream",
     "text": [
      "Loading checkpoint shards: 100%|██████████| 2/2 [00:10<00:00,  5.02s/it]\n"
     ]
    },
    {
     "name": "stdout",
     "output_type": "stream",
     "text": [
      "celebrity_&_pop_culture\n",
      "music\n"
     ]
    }
   ],
   "source": [
    "prompt=\"Who is Lady Gaga?\"\n",
    "r=chat(prompt)\n",
    "t=topics(r)"
   ]
  },
  {
   "cell_type": "code",
   "execution_count": null,
   "id": "2b13e2ab",
   "metadata": {},
   "outputs": [],
   "source": []
  }
 ],
 "metadata": {
  "kernelspec": {
   "display_name": "env",
   "language": "python",
   "name": "python3"
  },
  "language_info": {
   "codemirror_mode": {
    "name": "ipython",
    "version": 3
   },
   "file_extension": ".py",
   "mimetype": "text/x-python",
   "name": "python",
   "nbconvert_exporter": "python",
   "pygments_lexer": "ipython3",
   "version": "3.13.1"
  }
 },
 "nbformat": 4,
 "nbformat_minor": 5
}
