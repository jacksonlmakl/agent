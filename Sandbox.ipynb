{
 "cells": [
  {
   "cell_type": "code",
   "execution_count": 1,
   "id": "6de953c9",
   "metadata": {},
   "outputs": [
    {
     "name": "stderr",
     "output_type": "stream",
     "text": [
      "/Users/jackson.makl@dataiku.com/agent/env/lib/python3.13/site-packages/tqdm/auto.py:21: TqdmWarning: IProgress not found. Please update jupyter and ipywidgets. See https://ipywidgets.readthedocs.io/en/stable/user_install.html\n",
      "  from .autonotebook import tqdm as notebook_tqdm\n"
     ]
    }
   ],
   "source": [
    "from agent import Agent\n",
    "from topics import topics\n"
   ]
  },
  {
   "cell_type": "code",
   "execution_count": 2,
   "id": "26f44449",
   "metadata": {},
   "outputs": [],
   "source": [
    "\n",
    "a=Agent()\n"
   ]
  },
  {
   "cell_type": "code",
   "execution_count": 3,
   "id": "39187b63",
   "metadata": {},
   "outputs": [
    {
     "name": "stderr",
     "output_type": "stream",
     "text": [
      "/Users/jackson.makl@dataiku.com/agent/rag.py:31: LangChainDeprecationWarning: The class `HuggingFaceEmbeddings` was deprecated in LangChain 0.2.2 and will be removed in 1.0. An updated version of the class exists in the :class:`~langchain-huggingface package and should be used instead. To use it run `pip install -U :class:`~langchain-huggingface` and import as `from :class:`~langchain_huggingface import HuggingFaceEmbeddings``.\n",
      "  self.embeddings = HuggingFaceEmbeddings(model_name=\"sentence-transformers/all-MiniLM-L6-v2\")\n",
      "100%|██████████| 4/4 [00:00<00:00, 16070.13it/s]\n",
      "100%|██████████| 4/4 [00:00<00:00, 1144.19it/s]\n"
     ]
    },
    {
     "name": "stdout",
     "output_type": "stream",
     "text": [
      "Loading model meta-llama/Llama-3.2-3B-Instruct on mps\n"
     ]
    },
    {
     "name": "stderr",
     "output_type": "stream",
     "text": [
      "Loading checkpoint shards: 100%|██████████| 2/2 [00:08<00:00,  4.34s/it]\n"
     ]
    },
    {
     "name": "stdout",
     "output_type": "stream",
     "text": [
      "business_&_entrepreneurs\n",
      "['home rules', 'recording options', 'neighborhood details', 'host ratings', 'Airbnb competition', 'location and amenities', 'recording platforms']\n"
     ]
    },
    {
     "data": {
      "text/plain": [
       "[{'meta': {'timestamp': '2025-04-28 02:33:46.385414',\n",
       "   'topics': ['business_&_entrepreneurs'],\n",
       "   'key_words': ['home rules',\n",
       "    'recording options',\n",
       "    'neighborhood details',\n",
       "    'host ratings',\n",
       "    'Airbnb competition',\n",
       "    'location and amenities',\n",
       "    'recording platforms'],\n",
       "   'web': False,\n",
       "   'rag': True},\n",
       "  'items': [{'role': 'user', 'content': 'What challenges does airbnb face?'},\n",
       "   {'role': 'assistant',\n",
       "    'content': 'Airbnb faces several challenges:\\n\\n1. **Regulatory hurdles**: The company operates in over 220 countries and regions worldwide, which means navigating complex local regulations can be challenging.\\n2. **Competition from traditional lodging options**: With more people turning to online booking platforms for accommodations, competition has increased significantly, making it harder for Airbnb to stand out.\\n\\nRegarding price suggestions, when users search for places to stay using Airbnb\\'s \"similar listings\" feature or filters like location, dates, and amenities, multiple algorithms work together to analyze various data points such as property type (entire home/apartment/house), number of bedrooms/bathrooms, square footage, reviews rating, host ratings, calendar availability, guest policies, house rules, neighborhood details,'}]}]"
      ]
     },
     "execution_count": 3,
     "metadata": {},
     "output_type": "execute_result"
    }
   ],
   "source": [
    "\n",
    "a.chat(prompt=\"What challenges does airbnb face?\",\n",
    "       web=False,\n",
    "       rag=True,\n",
    "       tokens=150)\n",
    "a.messages"
   ]
  },
  {
   "cell_type": "code",
   "execution_count": null,
   "id": "c076dc17",
   "metadata": {},
   "outputs": [],
   "source": [
    "a.chat(prompt=\"What challenges does BMW face?\",\n",
    "       web=False,\n",
    "       rag=True,\n",
    "       tokens=150)\n",
    "a.messages"
   ]
  },
  {
   "cell_type": "code",
   "execution_count": null,
   "id": "56575a3d",
   "metadata": {},
   "outputs": [],
   "source": [
    "a.chat(prompt=\"What is trending in music?\",\n",
    "       web=True,\n",
    "       rag=False,\n",
    "       tokens=100)\n",
    "a.messages"
   ]
  },
  {
   "cell_type": "code",
   "execution_count": null,
   "id": "4ed46e1f",
   "metadata": {},
   "outputs": [],
   "source": [
    "a.chat(prompt=\"Write a poem based our chat\",use_gpt=True,messages=a.messages)"
   ]
  },
  {
   "cell_type": "code",
   "execution_count": null,
   "id": "9a392b7b",
   "metadata": {},
   "outputs": [],
   "source": [
    "a.messages"
   ]
  },
  {
   "cell_type": "code",
   "execution_count": null,
   "id": "8418a017",
   "metadata": {},
   "outputs": [],
   "source": []
  }
 ],
 "metadata": {
  "kernelspec": {
   "display_name": "env",
   "language": "python",
   "name": "python3"
  },
  "language_info": {
   "codemirror_mode": {
    "name": "ipython",
    "version": 3
   },
   "file_extension": ".py",
   "mimetype": "text/x-python",
   "name": "python",
   "nbconvert_exporter": "python",
   "pygments_lexer": "ipython3",
   "version": "3.13.1"
  }
 },
 "nbformat": 4,
 "nbformat_minor": 5
}
