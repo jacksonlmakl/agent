{
 "cells": [
  {
   "cell_type": "code",
   "execution_count": 1,
   "id": "4f61bdba",
   "metadata": {},
   "outputs": [
    {
     "name": "stderr",
     "output_type": "stream",
     "text": [
      "/Users/jackson.makl@dataiku.com/agent/env/lib/python3.13/site-packages/tqdm/auto.py:21: TqdmWarning: IProgress not found. Please update jupyter and ipywidgets. See https://ipywidgets.readthedocs.io/en/stable/user_install.html\n",
      "  from .autonotebook import tqdm as notebook_tqdm\n"
     ]
    },
    {
     "name": "stdout",
     "output_type": "stream",
     "text": [
      "Loading model TinyLlama/TinyLlama-1.1B-Chat-v1.0 on mps\n",
      "Leading artist Lady Gaga is known for being a versatile performer who can switch between genres effortlessly. Born Stefani Germanotta in 14th Street in Manhattan, she started singing and performing from a very early age. After dropping out of NYU's famous Tisch school of arts due to lack of funds, she launched herself into the entertainment industry by releasing her first studio album 'The Fame', which became an instant success, earning multiple awards including Album of the Year at the Grammys. Her second album 'Monster' was even more successful, winning Best Electronic/Dance Album and Best Dance Recording for 'Pokerface'. In addition to her musical pro\n"
     ]
    }
   ],
   "source": [
    "from lightweight import lightweight\n",
    "\n",
    "prompt=\"\"\"Summarize this text: \\n\\n\\n\\n\n",
    "\n",
    "Lady Gaga (born March 28, 1986) is an American singer, songwriter and actress. Full name Stefani Joanne Angelina Germanotta, Gaga famously dropped out of New York University's Tisch School of the Arts to pursue a career in acting and music as a young adult. She rose to prominence in 2008 with the release of her debut studio album \"The Fame,\" which included the singles \"Just Dance\" and \"Poker Face,\" both of which hit number one on the Billboard Hot 100 chart. \"The Fame\" has been certified six-times Platinum and earned an album of the year nomination at the 52nd Annual Grammy Awards. It won best electronic/dance album and best dance recording for its single \"Poker Face.\" The expanded album, \"The Fame Monster,\" released in 2008, cemented Gaga as a pop icon with blockbuster singles \"Bad Romance,\" \"Telephone\" and \"Alejandro.\" \"Bad Romance\" alone sold 12 million copies worldwide, becoming one of the best-selling singles of all time.\n",
    "\"\"\"\n",
    "\n",
    "\n",
    "r=lightweight(prompt)\n",
    "\n",
    "print(r)\n",
    "\n"
   ]
  },
  {
   "cell_type": "code",
   "execution_count": null,
   "id": "6859fc01",
   "metadata": {},
   "outputs": [],
   "source": []
  },
  {
   "cell_type": "code",
   "execution_count": null,
   "id": "1be08034",
   "metadata": {},
   "outputs": [],
   "source": []
  }
 ],
 "metadata": {
  "kernelspec": {
   "display_name": "env",
   "language": "python",
   "name": "python3"
  },
  "language_info": {
   "codemirror_mode": {
    "name": "ipython",
    "version": 3
   },
   "file_extension": ".py",
   "mimetype": "text/x-python",
   "name": "python",
   "nbconvert_exporter": "python",
   "pygments_lexer": "ipython3",
   "version": "3.13.1"
  }
 },
 "nbformat": 4,
 "nbformat_minor": 5
}
