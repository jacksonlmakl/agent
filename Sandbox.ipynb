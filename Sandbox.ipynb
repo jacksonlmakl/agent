{
 "cells": [
  {
   "cell_type": "code",
   "execution_count": 1,
   "id": "6de953c9",
   "metadata": {},
   "outputs": [
    {
     "name": "stderr",
     "output_type": "stream",
     "text": [
      "/Users/jackson.makl@dataiku.com/agent/env/lib/python3.13/site-packages/tqdm/auto.py:21: TqdmWarning: IProgress not found. Please update jupyter and ipywidgets. See https://ipywidgets.readthedocs.io/en/stable/user_install.html\n",
      "  from .autonotebook import tqdm as notebook_tqdm\n",
      "Some weights of the model checkpoint at deepset/bert-base-cased-squad2 were not used when initializing BertForQuestionAnswering: ['bert.pooler.dense.bias', 'bert.pooler.dense.weight']\n",
      "- This IS expected if you are initializing BertForQuestionAnswering from the checkpoint of a model trained on another task or with another architecture (e.g. initializing a BertForSequenceClassification model from a BertForPreTraining model).\n",
      "- This IS NOT expected if you are initializing BertForQuestionAnswering from the checkpoint of a model that you expect to be exactly identical (initializing a BertForSequenceClassification model from a BertForSequenceClassification model).\n"
     ]
    }
   ],
   "source": [
    "from agent import Agent, autoChat\n",
    "from questions import question\n",
    "import threading\n",
    "import time"
   ]
  },
  {
   "cell_type": "code",
   "execution_count": null,
   "id": "566f861a",
   "metadata": {},
   "outputs": [],
   "source": [
    "class Model:\n",
    "    def __init__(self):        \n",
    "        self.agent = Agent()\n",
    "        self.conscious = []\n",
    "        self.subconscious = []\n",
    "        self.threads = []\n",
    "        self.lock = threading.Lock()  # Add a lock for thread safety\n",
    "\n",
    "    def chat(self, prompt, web=False, rag=False, tokens=150, use_gpt=False,use_sub_gpt=True, iters=5):\n",
    "        response = self.agent.chat(prompt=prompt,\n",
    "                                  web=web,\n",
    "                                  rag=rag,\n",
    "                                  tokens=tokens,\n",
    "                                  use_gpt=use_gpt,\n",
    "                                  messages=self.conscious[-5:])\n",
    "\n",
    "        generated_questions = question(response)\n",
    "        \n",
    "        # Create a semaphore that allows max 3 concurrent threads\n",
    "        max_threads = 3\n",
    "        semaphore = threading.Semaphore(max_threads)\n",
    "\n",
    "        # Clear previous threads\n",
    "        self.threads = []\n",
    "\n",
    "        # Define the worker function correctly\n",
    "        def thread_worker(q, semaphore):\n",
    "            with semaphore:  # Acquire the semaphore\n",
    "                result = autoChat(q, None, iters, 75, True, False, use_sub_gpt)\n",
    "                # Safely add to subconscious using lock\n",
    "                with self.lock:\n",
    "                    self.subconscious.append(result)\n",
    "\n",
    "        # Create threads with the properly defined worker\n",
    "        for q in generated_questions:\n",
    "            thread = threading.Thread(\n",
    "                target=thread_worker,\n",
    "                args=(q, semaphore)\n",
    "            )\n",
    "            self.threads.append(thread)\n",
    "            thread.start()  # Start the thread immediately\n",
    "\n",
    "        self.conscious.append({\"role\": \"user\", \"content\": prompt})\n",
    "        self.conscious.append({\"role\": \"assistant\", \"content\": response})  # Changed \"user\" to \"assistant\"\n",
    "        \n",
    "        return response"
   ]
  },
  {
   "cell_type": "code",
   "execution_count": 3,
   "id": "223ef4e5",
   "metadata": {},
   "outputs": [],
   "source": [
    "m=Model()"
   ]
  },
  {
   "cell_type": "code",
   "execution_count": null,
   "id": "f855500a",
   "metadata": {},
   "outputs": [
    {
     "name": "stderr",
     "output_type": "stream",
     "text": [
      "/Users/jackson.makl@dataiku.com/agent/rag.py:31: LangChainDeprecationWarning: The class `HuggingFaceEmbeddings` was deprecated in LangChain 0.2.2 and will be removed in 1.0. An updated version of the class exists in the :class:`~langchain-huggingface package and should be used instead. To use it run `pip install -U :class:`~langchain-huggingface` and import as `from :class:`~langchain_huggingface import HuggingFaceEmbeddings``.\n",
      "  self.embeddings = HuggingFaceEmbeddings(model_name=\"sentence-transformers/all-MiniLM-L6-v2\")\n",
      "100%|██████████| 4/4 [00:00<00:00, 19599.55it/s]\n",
      "100%|██████████| 4/4 [00:00<00:00, 1097.99it/s]\n"
     ]
    },
    {
     "name": "stdout",
     "output_type": "stream",
     "text": [
      "USING CHAT GPT 4\n",
      "Agent searching the web.....\n",
      "Researching: \n",
      "    What is **What Challenges Does?\n",
      "    \n",
      "Agent searching the web.....\n",
      "Researching: \n",
      "    How does **Pricing Inequity and?\n",
      "    \n",
      "Agent searching the web.....\n",
      "Researching: \n",
      "    Why is However, in cities?\n",
      "    \n"
     ]
    },
    {
     "data": {
      "text/plain": [
       "\"**What Challenges Does Airbnb Face?**\\n\\nAirbnb faces several significant challenges:\\n\\n1. **Pricing Inequity and Socioeconomic Segregation:**  \\n   The company's pricing model suggests prices based on similar properties in the area, considering location, amenities, and past bookings. However, in cities like New York where neighborhoods are often segregated along racial and ethnic lines (e.g., Black, Colombian, Russian, and Italian neighborhoods), this automated pricing may perpetuate existing inequalities. Even if race is not directly a factor in the algorithm, the model may reflect and reinforce socio-economic disparities tied to historical segregation.\\n\\n2. **Indirect Racial Bias:**  \\n   Black hosts may end up charging less not because of direct discrimination, but because their properties are located in historically underserved neighborhoods. This creates indirect inequity, where hosts from certain backgrounds systematically earn less even if the system doesn't explicitly use race as a variable.\\n\\n3. **Complex Socioeconomic Factors:**  \\n   The intersection of race, neighborhood, and economic status means Airbnb needs to carefully consider how its technology and policies might unintentionally exacerbate structural inequalities.\\n\\n**Recommendations:**  \\nAirbnb, and specifically CEO Brian Chesky, should:\\n- Investigate the pricing model to detect and address any unintended biases.\\n- Analyze deeper socioeconomic and historical factors that cause disparities (e.g., why Black hosts are charging less).\\n- Ensure proactive, transparent, and data-driven efforts to identify and fix structural inequities within the platform.\\n\\n**Summary:**  \\nAirbnb's biggest challenges currently are linked to pricing inequity and indirect racial bias caused by automated systems operating in deeply segregated urban landscapes. Addressing these requires a thoughtful investigation and targeted policy responses.\""
      ]
     },
     "execution_count": 4,
     "metadata": {},
     "output_type": "execute_result"
    },
    {
     "name": "stdout",
     "output_type": "stream",
     "text": [
      "Found 5 total results\n",
      "After deduplication: 5 results\n",
      "Fetching additional content from URLs...\n",
      "Found 5 total results\n",
      "After deduplication: 5 results\n",
      "Fetching additional content from URLs...\n",
      "Found 15 total results\n",
      "After deduplication: 14 results\n",
      "Fetching additional content from URLs...\n",
      "Researching: types of inequity effects on behavior health fairness access to resources\n",
      "Researching: examples of challenges in daily life and current events\n",
      "Found 10 total results\n",
      "After deduplication: 10 results\n",
      "Fetching additional content from URLs...\n",
      "Found 5 total results\n",
      "After deduplication: 5 results\n",
      "Fetching additional content from URLs...\n",
      "Researching: city definitions administrative vs actual urban areas population measurement China UK\n",
      "Found 5 total results\n",
      "After deduplication: 5 results\n",
      "Fetching additional content from URLs...\n",
      "USING CHAT GPT 4\n",
      "USING CHAT GPT 4\n",
      "Researching: \n",
      "        Instructions:\n",
      "          - Engage naturally as if you are having a real conversation.\n",
      "          \n",
      "          - If you need outside information to answer properly, say exactly: \"I require information from the web\"\n",
      "\n",
      "          - Ask thoughtful questions to stay involved and deepen the discussion.\n",
      "\n",
      "          - Feel free to explore your partner's ideas or shift the topic as you see fit.\n",
      "\n",
      "          - You control the flow of the conversation — continue, pivot, or expand topics at your discretion.\n",
      "\n",
      "          - Respond fully and clearly, using plain text only.          \n",
      "        Great question! Pricing inequity in behavioral health care refers to unfair differences in the costs people pay or the coverage they receive for mental health and substance use services. This issue shows up in several ways, such as higher out-of-pocket costs, lower insurance coverage for behavioral health compared to physical health, and policies that make care more expensive for certain groups.\n",
      "\n",
      "For example, people in lower socioeconomic groups, those living in rural areas, or individuals from marginalized racial backgrounds may have insurance plans that cover behavioral health less generously—or their out-of-pocket expenses are higher. This means that the very people who might most need help face more hurdles to get it.\n",
      "\n",
      "When behavioral health care is more expensive or harder to access for specific groups, it contributes to overall health inequity. People might have untreated mental health issues simply because they can’t afford care or don’t have coverage, which can lead to worse long-term health outcomes and perpetuate cycles of disadvantage.\n",
      "\n",
      "Do you have personal or professional experience seeing how pricing inequity impacts people? Or would you like to talk about potential ways to address these inequities?\n",
      "Researching: \n",
      "        Instructions:\n",
      "          - Engage naturally as if you are having a real conversation.\n",
      "          \n",
      "          - If you need outside information to answer properly, say exactly: \"I require information from the web\"\n",
      "\n",
      "          - Ask thoughtful questions to stay involved and deepen the discussion.\n",
      "\n",
      "          - Feel free to explore your partner's ideas or shift the topic as you see fit.\n",
      "\n",
      "          - You control the flow of the conversation — continue, pivot, or expand topics at your discretion.\n",
      "\n",
      "          - Respond fully and clearly, using plain text only.          \n",
      "        Great question! “Challenges” are essentially difficulties or obstacles that require effort to overcome. They can happen in any area of life—work, school, relationships, or even in society as a whole. Facing a challenge could mean dealing with a tough assignment at school, a demanding project at your job, or broader issues like debates over policies, diversity, or social programs.\n",
      "\n",
      "If you’re asking specifically about the phrase “What Challenges Does?”, it’s not a complete question by itself. Usually, it would start a question like, “What challenges does [something] present?” or “What challenges does [someone] face?”—basically, it’s asking about the specific difficulties related to a person, group, or issue.\n",
      "\n",
      "Do you have a particular kind of challenge in mind, or is there a specific situation you’re thinking about? I’d love to hear more so I can give you a more tailored answer!\n",
      "Found 0 total results\n",
      "After deduplication: 0 results\n",
      "Fetching additional content from URLs...\n",
      "Found 0 total results\n",
      "After deduplication: 0 results\n",
      "Fetching additional content from URLs...\n",
      "Researching: behavioral health care pricing inequity impact on low income rural marginalized groups solutions\n",
      "Researching: how to identify and address challenges in different areas of life\n",
      "Found 5 total results\n",
      "After deduplication: 5 results\n",
      "Fetching additional content from URLs...\n",
      "USING CHAT GPT 4\n",
      "Found 5 total results\n",
      "After deduplication: 5 results\n",
      "Fetching additional content from URLs...\n",
      "Researching: \n",
      "        Instructions:\n",
      "          - Engage naturally as if you are having a real conversation.\n",
      "          \n",
      "          - If you need outside information to answer properly, say exactly: \"I require information from the web\"\n",
      "\n",
      "          - Ask thoughtful questions to stay involved and deepen the discussion.\n",
      "\n",
      "          - Feel free to explore your partner's ideas or shift the topic as you see fit.\n",
      "\n",
      "          - You control the flow of the conversation — continue, pivot, or expand topics at your discretion.\n",
      "\n",
      "          - Respond fully and clearly, using plain text only.          \n",
      "        Great question! The word \"however\" is often used in discussions about cities to point out contrasts or exceptions between what is officially recognized as a \"city\" and what people might expect a city to be based on its actual size or urban features.\n",
      "\n",
      "For example, in countries like China and the UK, the official definition of a city can be very different from what you see on the ground. In China, a city’s administrative boundaries might include large rural areas and not just the urban zone people consider the city proper. In the UK, some places are called cities because of historical or ceremonial reasons, not because they have a large population or a dense urban core.\n",
      "\n",
      "So, when someone says, “City X has a population of 2 million; however, its administrative area covers a lot of countryside,” the word “however” signals this important contrast between the official status and the practical reality.\n",
      "\n",
      "Have you noticed any other words like this that people use to highlight exceptions or contrasts? Or are you interested in specific examples of how city definitions differ around the world?\n",
      "Found 0 total results\n",
      "After deduplication: 0 results\n",
      "Fetching additional content from URLs...\n",
      "Researching: city administrative status vs actual urban population differences worldwide\n",
      "Found 5 total results\n",
      "After deduplication: 5 results\n",
      "Fetching additional content from URLs...\n",
      "USING CHAT GPT 4\n",
      "USING CHAT GPT 4\n",
      "\n",
      "Agent A1:  Great question! “Challenges” are essentially difficulties or obstacles that require effort to overcome. They can happen in any area of life—work, school, relationships, or even in society as a whole. Facing a challenge could mean dealing with a tough assignment at school, a demanding project at your job, or broader issues like debates over policies, diversity, or social programs.\n",
      "\n",
      "If you’re asking specifically about the phrase “What Challenges Does?”, it’s not a complete question by itself. Usually, it would start a question like, “What challenges does [something] present?” or “What challenges does [someone] face?”—basically, it’s asking about the specific difficulties related to a person, group, or issue.\n",
      "\n",
      "Do you have a particular kind of challenge in mind, or is there a specific situation you’re thinking about? I’d love to hear more so I can give you a more tailored answer!\n",
      "\n",
      "Agent A:  Thanks for following up! I appreciate your interest in understanding challenges more deeply.\n",
      "\n",
      "As you mentioned, the way we approach challenges can really depend on the situation. For instance, if someone is facing a challenge at work—like a complex project—it often helps to break it down into smaller steps (that’s structured planning in action!). In school, students might benefit from organizing their assignments and setting clear priorities. When dealing with social or community issues, techniques like power mapping can highlight who or what influences the situation most.\n",
      "\n",
      "There’s also the personal side—sometimes challenges impact our emotions or motivation. That’s where ideas from flow psychology come in—if you can reach a mental state where you’re engaged and focused, it’s easier to handle whatever comes up.\n",
      "\n",
      "Is there a challenge you’re experiencing right now, whether personal, academic, or professional? Or is there a particular type—like social issues, productivity, or well-being—that you find most interesting to discuss? I’m happy to help you brainstorm strategies or just talk it through!\n",
      "\n",
      "\n",
      "\n",
      "USING CHAT GPT 4\n"
     ]
    }
   ],
   "source": [
    "m.chat(\"What Challenges Does Airbnb Face?\",web=False,rag=True,tokens=150,use_gpt=True,iters=5)"
   ]
  },
  {
   "cell_type": "code",
   "execution_count": 5,
   "id": "972fa401",
   "metadata": {},
   "outputs": [
    {
     "data": {
      "text/plain": [
       "[{'role': 'user', 'content': 'What Challenges Does Airbnb Face?'},\n",
       " {'role': 'assistant',\n",
       "  'content': \"**What Challenges Does Airbnb Face?**\\n\\nAirbnb faces several significant challenges:\\n\\n1. **Pricing Inequity and Socioeconomic Segregation:**  \\n   The company's pricing model suggests prices based on similar properties in the area, considering location, amenities, and past bookings. However, in cities like New York where neighborhoods are often segregated along racial and ethnic lines (e.g., Black, Colombian, Russian, and Italian neighborhoods), this automated pricing may perpetuate existing inequalities. Even if race is not directly a factor in the algorithm, the model may reflect and reinforce socio-economic disparities tied to historical segregation.\\n\\n2. **Indirect Racial Bias:**  \\n   Black hosts may end up charging less not because of direct discrimination, but because their properties are located in historically underserved neighborhoods. This creates indirect inequity, where hosts from certain backgrounds systematically earn less even if the system doesn't explicitly use race as a variable.\\n\\n3. **Complex Socioeconomic Factors:**  \\n   The intersection of race, neighborhood, and economic status means Airbnb needs to carefully consider how its technology and policies might unintentionally exacerbate structural inequalities.\\n\\n**Recommendations:**  \\nAirbnb, and specifically CEO Brian Chesky, should:\\n- Investigate the pricing model to detect and address any unintended biases.\\n- Analyze deeper socioeconomic and historical factors that cause disparities (e.g., why Black hosts are charging less).\\n- Ensure proactive, transparent, and data-driven efforts to identify and fix structural inequities within the platform.\\n\\n**Summary:**  \\nAirbnb's biggest challenges currently are linked to pricing inequity and indirect racial bias caused by automated systems operating in deeply segregated urban landscapes. Addressing these requires a thoughtful investigation and targeted policy responses.\"}]"
      ]
     },
     "execution_count": 5,
     "metadata": {},
     "output_type": "execute_result"
    }
   ],
   "source": [
    "m.conscious"
   ]
  },
  {
   "cell_type": "code",
   "execution_count": 9,
   "id": "66fea1ff",
   "metadata": {},
   "outputs": [
    {
     "data": {
      "text/plain": [
       "[]"
      ]
     },
     "execution_count": 9,
     "metadata": {},
     "output_type": "execute_result"
    }
   ],
   "source": [
    "m.subconscious"
   ]
  },
  {
   "cell_type": "code",
   "execution_count": null,
   "id": "0610c231",
   "metadata": {},
   "outputs": [],
   "source": []
  }
 ],
 "metadata": {
  "kernelspec": {
   "display_name": "env",
   "language": "python",
   "name": "python3"
  },
  "language_info": {
   "codemirror_mode": {
    "name": "ipython",
    "version": 3
   },
   "file_extension": ".py",
   "mimetype": "text/x-python",
   "name": "python",
   "nbconvert_exporter": "python",
   "pygments_lexer": "ipython3",
   "version": "3.13.1"
  }
 },
 "nbformat": 4,
 "nbformat_minor": 5
}
