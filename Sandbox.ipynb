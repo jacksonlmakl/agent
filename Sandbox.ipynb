{
 "cells": [
  {
   "cell_type": "code",
   "execution_count": 1,
   "id": "6de953c9",
   "metadata": {},
   "outputs": [
    {
     "name": "stderr",
     "output_type": "stream",
     "text": [
      "/Users/jackson.makl@dataiku.com/agent/env/lib/python3.13/site-packages/tqdm/auto.py:21: TqdmWarning: IProgress not found. Please update jupyter and ipywidgets. See https://ipywidgets.readthedocs.io/en/stable/user_install.html\n",
      "  from .autonotebook import tqdm as notebook_tqdm\n"
     ]
    }
   ],
   "source": [
    "from agent import Agent\n"
   ]
  },
  {
   "cell_type": "code",
   "execution_count": 2,
   "id": "26f44449",
   "metadata": {},
   "outputs": [],
   "source": [
    "\n",
    "a=Agent()\n"
   ]
  },
  {
   "cell_type": "code",
   "execution_count": 3,
   "id": "39187b63",
   "metadata": {},
   "outputs": [
    {
     "name": "stderr",
     "output_type": "stream",
     "text": [
      "/Users/jackson.makl@dataiku.com/agent/rag.py:31: LangChainDeprecationWarning: The class `HuggingFaceEmbeddings` was deprecated in LangChain 0.2.2 and will be removed in 1.0. An updated version of the class exists in the :class:`~langchain-huggingface package and should be used instead. To use it run `pip install -U :class:`~langchain-huggingface` and import as `from :class:`~langchain_huggingface import HuggingFaceEmbeddings``.\n",
      "  self.embeddings = HuggingFaceEmbeddings(model_name=\"sentence-transformers/all-MiniLM-L6-v2\")\n",
      "100%|██████████| 4/4 [00:00<00:00, 18682.87it/s]\n",
      "100%|██████████| 4/4 [00:00<00:00, 1123.95it/s]\n"
     ]
    },
    {
     "name": "stdout",
     "output_type": "stream",
     "text": [
      "Loading model meta-llama/Llama-3.2-3B-Instruct on mps\n"
     ]
    },
    {
     "name": "stderr",
     "output_type": "stream",
     "text": [
      "Loading checkpoint shards: 100%|██████████| 2/2 [00:08<00:00,  4.23s/it]\n"
     ]
    },
    {
     "name": "stdout",
     "output_type": "stream",
     "text": [
      "business_&_entrepreneurs\n",
      "news_&_social_concern\n"
     ]
    },
    {
     "data": {
      "text/plain": [
       "{'timestamp': '2025-04-28 01:47:43.751677',\n",
       " 'topics': ['business_&_entrepreneurs', 'news_&_social_concern'],\n",
       " 'web': False,\n",
       " 'rag': True,\n",
       " 'role': 'assistant',\n",
       " 'content': \"Airbnb faces several challenges:\\n\\n1. **Regulatory Issues**: The company has faced regulatory hurdles worldwide due to concerns over short-term rentals, tax evasion, and housing affordability.\\n2. **Pricing Transparency**: Critics argue that Airbnb's algorithm-driven pricing can lead to discriminatory practices against certain groups or individuals, as seen in New York City where host demographics influence price disparities.\\n\\nTo address these concerns, I'd like to break down some key points from the context-provided discussion:\\n\\n*   Pricing Model Factors: When suggesting prices for listings, Airbnb uses various algorithms considering multiple parameters such as location (neighborhoods), property type, amenities offered by both guests & hosts, seasonal demand patterns, guest reviews ratings history among others which might inadvertently perpetuate existing\"}"
      ]
     },
     "execution_count": 3,
     "metadata": {},
     "output_type": "execute_result"
    }
   ],
   "source": [
    "\n",
    "a.chat(prompt=\"What challenges does airbnb face?\",\n",
    "       web=False,\n",
    "       rag=True,\n",
    "       tokens=150)"
   ]
  },
  {
   "cell_type": "code",
   "execution_count": 4,
   "id": "c076dc17",
   "metadata": {},
   "outputs": [
    {
     "name": "stderr",
     "output_type": "stream",
     "text": [
      "100%|██████████| 4/4 [00:00<00:00, 13508.23it/s]\n",
      "100%|██████████| 4/4 [00:00<00:00, 1201.55it/s]\n"
     ]
    },
    {
     "name": "stdout",
     "output_type": "stream",
     "text": [
      "business_&_entrepreneurs\n",
      "news_&_social_concern\n"
     ]
    },
    {
     "data": {
      "text/plain": [
       "[{'timestamp': '2025-04-28 01:47:43.751647',\n",
       "  'topics': ['business_&_entrepreneurs', 'news_&_social_concern'],\n",
       "  'web': False,\n",
       "  'rag': True,\n",
       "  'role': 'user',\n",
       "  'content': 'What challenges does airbnb face?'},\n",
       " {'timestamp': '2025-04-28 01:47:43.751677',\n",
       "  'topics': ['business_&_entrepreneurs', 'news_&_social_concern'],\n",
       "  'web': False,\n",
       "  'rag': True,\n",
       "  'role': 'assistant',\n",
       "  'content': \"Airbnb faces several challenges:\\n\\n1. **Regulatory Issues**: The company has faced regulatory hurdles worldwide due to concerns over short-term rentals, tax evasion, and housing affordability.\\n2. **Pricing Transparency**: Critics argue that Airbnb's algorithm-driven pricing can lead to discriminatory practices against certain groups or individuals, as seen in New York City where host demographics influence price disparities.\\n\\nTo address these concerns, I'd like to break down some key points from the context-provided discussion:\\n\\n*   Pricing Model Factors: When suggesting prices for listings, Airbnb uses various algorithms considering multiple parameters such as location (neighborhoods), property type, amenities offered by both guests & hosts, seasonal demand patterns, guest reviews ratings history among others which might inadvertently perpetuate existing\"},\n",
       " {'timestamp': '2025-04-28 01:48:30.886582',\n",
       "  'topics': ['business_&_entrepreneurs', 'news_&_social_concern'],\n",
       "  'web': False,\n",
       "  'rag': True,\n",
       "  'role': 'user',\n",
       "  'content': 'What challenges does BMW face?'},\n",
       " {'timestamp': '2025-04-28 01:48:30.886617',\n",
       "  'topics': ['business_&_entrepreneurs', 'news_&_social_concern'],\n",
       "  'web': False,\n",
       "  'rag': True,\n",
       "  'role': 'assistant',\n",
       "  'content': \"BMW faces various challenges due to its involvement with the Producer Responsibility policy implemented by Germany's government in 1990. This policy requires automobile manufacturers to collect used cars from consumers after they reach certain age thresholds.\\n\\nSome key challenges include:\\n\\n*   Economic costs associated with implementing the program.\\n    *   Labor intensive process of disassembly which can increase production time and reduce efficiency.\\n        In addition, there is an increased risk of product liability claims against companies when handling hazardous materials during vehicle scrapping processes.\\n\\n\\n\\nThese factors may impact profitability and competitiveness within the market place.\\n\\n\\nHowever, it has been reported that some major automotive brands have successfully adapted these regulations into sustainable practices while maintaining high levels of quality standards throughout all stages of manufacturing life cycle including post-consumer waste\"}]"
      ]
     },
     "execution_count": 4,
     "metadata": {},
     "output_type": "execute_result"
    }
   ],
   "source": [
    "a.chat(prompt=\"What challenges does BMW face?\",\n",
    "       web=False,\n",
    "       rag=True,\n",
    "       tokens=150)\n",
    "a.messages"
   ]
  },
  {
   "cell_type": "code",
   "execution_count": 5,
   "id": "56575a3d",
   "metadata": {},
   "outputs": [
    {
     "name": "stdout",
     "output_type": "stream",
     "text": [
      "Researching: What is trending in music?\n",
      "News search error: cannot access local variable 'link' where it is not associated with a value\n",
      "Found 10 total results\n",
      "After deduplication: 10 results\n",
      "Fetching additional content from URLs...\n",
      "Researching: current trending songs and artists 2025 music charts TikTok viral tracks YouTube trends K-pop music news mental health in music\n",
      "Found 15 total results\n",
      "After deduplication: 11 results\n",
      "Fetching additional content from URLs...\n",
      "Error fetching content from https://duckduckgo.com/y.js?ad_domain=amazon.com&ad_provider=bingv7aa&ad_type=txad&click_metadata=QyLWBtu1f15pEJj4lFqU0MMPlEtEA4htXXreZ0UjllayuRGLd6c2ADEjF1Nr97Y3TV2x3Jpum6i0ERKtHk7lk78GbwHhg_VDLXfVvkX8H9VWaabTuPhvHuV5q6%2DgvA7y.kPv%2DhzZkd0d8nUAZD%2DBwAg&rut=b56a23b5b4a6207d0375a7204d08375174fa10d06b44d4a293630459966ad5d5&u3=https%3A%2F%2Fwww.bing.com%2Faclick%3Fld%3De8xLswpZhMI3UWh3KEBBTTqzVUCUz28RA%2DS7HX0mHbhi2u15YAGN1ZoJF1EqOQdDggCYACzcyW3oT8CmFcDOutyyEssH_3he4vuZHJe6nbqIBrFYZTBRqqkYpbKZ33chOoJ0_%2DnU5F5dxNO0gj9ELkMX%2Dpj4bGQDAcNmE801tYriYHTzuy6I03i7jaR74epPDoMEQKjA%26u%3DaHR0cHMlM2ElMmYlMmZ3d3cuYW1hem9uLmNvbSUyZnMlMmYlM2ZpZSUzZFVURjglMjZrZXl3b3JkcyUzZG11c2ljJTI2aW5kZXglM2RhcHMlMjZ0YWclM2R0eHRzdGRiZ2R0LTIwJTI2cmVmJTNkcGRfc2xfMm84ZXdmY3ZuMl9wJTI2YWRncnBpZCUzZDEyMzAzNTM4MjIxMDUzNjUlMjZodmFkaWQlM2Q3Njg5NzI4MDU4Mzg5MCUyNmh2bmV0dyUzZHMlMjZodnFtdCUzZHAlMjZodmJtdCUzZGJwJTI2aHZkZXYlM2RjJTI2aHZsb2NpbnQlM2QlMjZodmxvY3BoeSUzZDk3NTk2JTI2aHZ0YXJnaWQlM2Rrd2QtNzY4OTczNDcxMzc2ODUlM2Fsb2MtMTkwJTI2aHlkYWRjciUzZDE1NzQwXzEzNjMzMjgyJTI2bWNpZCUzZDc5NTBjYTM1MTQyYzMwNGY5ZmNlYWQ3YzQ4MTkxNDgxJTI2bGFuZ3VhZ2UlM2Rlbl9VUyUyNm1zY2xraWQlM2RjNWFkNTJjZDFiZGExYTMzN2I0YzNhYzIwZDY2MmJkZg%26rlid%3Dc5ad52cd1bda1a337b4c3ac20d662bdf&vqd=4-31559249491166308845288854959046333084&iurl=%7B1%7DIG%3DF8C059233A6B439C8821C5BDF010F398%26CID%3D3C5F7A8650EA6B3E27B76F5A51736A33%26ID%3DDevEx%2C5048.1: 503 Server Error: Service Unavailable for url: https://www.amazon.com/s/?ie=UTF8&keywords=music&index=aps&tag=txtstdbgdt-20&ref=pd_sl_2o8ewfcvn2_p&adgrpid=1230353822105365&hvadid=76897280583890&hvnetw=s&hvqmt=p&hvbmt=bp&hvdev=c&hvlocint=&hvlocphy=97596&hvtargid=kwd-76897347137685:loc-190&hydadcr=15740_13633282&mcid=7950ca35142c304f9fcead7c48191481&language=en_US&msclkid=c5ad52cd1bda1a337b4c3ac20d662bdf\n",
      "music\n"
     ]
    },
    {
     "data": {
      "text/plain": [
       "[{'timestamp': '2025-04-28 01:47:43.751647',\n",
       "  'topics': ['business_&_entrepreneurs', 'news_&_social_concern'],\n",
       "  'web': False,\n",
       "  'rag': True,\n",
       "  'role': 'user',\n",
       "  'content': 'What challenges does airbnb face?'},\n",
       " {'timestamp': '2025-04-28 01:47:43.751677',\n",
       "  'topics': ['business_&_entrepreneurs', 'news_&_social_concern'],\n",
       "  'web': False,\n",
       "  'rag': True,\n",
       "  'role': 'assistant',\n",
       "  'content': \"Airbnb faces several challenges:\\n\\n1. **Regulatory Issues**: The company has faced regulatory hurdles worldwide due to concerns over short-term rentals, tax evasion, and housing affordability.\\n2. **Pricing Transparency**: Critics argue that Airbnb's algorithm-driven pricing can lead to discriminatory practices against certain groups or individuals, as seen in New York City where host demographics influence price disparities.\\n\\nTo address these concerns, I'd like to break down some key points from the context-provided discussion:\\n\\n*   Pricing Model Factors: When suggesting prices for listings, Airbnb uses various algorithms considering multiple parameters such as location (neighborhoods), property type, amenities offered by both guests & hosts, seasonal demand patterns, guest reviews ratings history among others which might inadvertently perpetuate existing\"},\n",
       " {'timestamp': '2025-04-28 01:48:30.886582',\n",
       "  'topics': ['business_&_entrepreneurs', 'news_&_social_concern'],\n",
       "  'web': False,\n",
       "  'rag': True,\n",
       "  'role': 'user',\n",
       "  'content': 'What challenges does BMW face?'},\n",
       " {'timestamp': '2025-04-28 01:48:30.886617',\n",
       "  'topics': ['business_&_entrepreneurs', 'news_&_social_concern'],\n",
       "  'web': False,\n",
       "  'rag': True,\n",
       "  'role': 'assistant',\n",
       "  'content': \"BMW faces various challenges due to its involvement with the Producer Responsibility policy implemented by Germany's government in 1990. This policy requires automobile manufacturers to collect used cars from consumers after they reach certain age thresholds.\\n\\nSome key challenges include:\\n\\n*   Economic costs associated with implementing the program.\\n    *   Labor intensive process of disassembly which can increase production time and reduce efficiency.\\n        In addition, there is an increased risk of product liability claims against companies when handling hazardous materials during vehicle scrapping processes.\\n\\n\\n\\nThese factors may impact profitability and competitiveness within the market place.\\n\\n\\nHowever, it has been reported that some major automotive brands have successfully adapted these regulations into sustainable practices while maintaining high levels of quality standards throughout all stages of manufacturing life cycle including post-consumer waste\"},\n",
       " {'timestamp': '2025-04-28 01:49:49.188756',\n",
       "  'topics': ['music'],\n",
       "  'web': True,\n",
       "  'rag': False,\n",
       "  'role': 'user',\n",
       "  'content': 'What is trending in music?'},\n",
       " {'timestamp': '2025-04-28 01:49:49.188793',\n",
       "  'topics': ['music'],\n",
       "  'web': True,\n",
       "  'rag': False,\n",
       "  'role': 'assistant',\n",
       "  'content': 'As for what\\'s currently trending in the world of music, there are numerous exciting developments happening right now! Some standout names making waves on the global scene include **Ren Gill**, who has been dominating playlists with hits such as \"Sick Boi'}]"
      ]
     },
     "execution_count": 5,
     "metadata": {},
     "output_type": "execute_result"
    }
   ],
   "source": [
    "a.chat(prompt=\"What is trending in music?\",\n",
    "       web=True,\n",
    "       rag=False,\n",
    "       tokens=50)\n",
    "a.messages"
   ]
  },
  {
   "cell_type": "code",
   "execution_count": null,
   "id": "4ed46e1f",
   "metadata": {},
   "outputs": [],
   "source": []
  },
  {
   "cell_type": "code",
   "execution_count": null,
   "id": "9a392b7b",
   "metadata": {},
   "outputs": [],
   "source": []
  }
 ],
 "metadata": {
  "kernelspec": {
   "display_name": "env",
   "language": "python",
   "name": "python3"
  },
  "language_info": {
   "codemirror_mode": {
    "name": "ipython",
    "version": 3
   },
   "file_extension": ".py",
   "mimetype": "text/x-python",
   "name": "python",
   "nbconvert_exporter": "python",
   "pygments_lexer": "ipython3",
   "version": "3.13.1"
  }
 },
 "nbformat": 4,
 "nbformat_minor": 5
}
