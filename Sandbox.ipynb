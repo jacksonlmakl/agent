{
 "cells": [
  {
   "cell_type": "code",
   "execution_count": 1,
   "id": "6de953c9",
   "metadata": {},
   "outputs": [
    {
     "name": "stderr",
     "output_type": "stream",
     "text": [
      "/Users/jackson.makl@dataiku.com/agent/env/lib/python3.13/site-packages/tqdm/auto.py:21: TqdmWarning: IProgress not found. Please update jupyter and ipywidgets. See https://ipywidgets.readthedocs.io/en/stable/user_install.html\n",
      "  from .autonotebook import tqdm as notebook_tqdm\n"
     ]
    }
   ],
   "source": [
    "from agent import Agent\n"
   ]
  },
  {
   "cell_type": "code",
   "execution_count": 2,
   "id": "26f44449",
   "metadata": {},
   "outputs": [],
   "source": [
    "\n",
    "a=Agent()\n"
   ]
  },
  {
   "cell_type": "code",
   "execution_count": 5,
   "id": "39187b63",
   "metadata": {},
   "outputs": [
    {
     "name": "stderr",
     "output_type": "stream",
     "text": [
      "/Users/jackson.makl@dataiku.com/agent/rag.py:31: LangChainDeprecationWarning: The class `HuggingFaceEmbeddings` was deprecated in LangChain 0.2.2 and will be removed in 1.0. An updated version of the class exists in the :class:`~langchain-huggingface package and should be used instead. To use it run `pip install -U :class:`~langchain-huggingface` and import as `from :class:`~langchain_huggingface import HuggingFaceEmbeddings``.\n",
      "  self.embeddings = HuggingFaceEmbeddings(model_name=\"sentence-transformers/all-MiniLM-L6-v2\")\n",
      "100%|██████████| 4/4 [00:00<00:00, 19306.35it/s]\n",
      "100%|██████████| 4/4 [00:00<00:00, 650.83it/s]\n"
     ]
    },
    {
     "name": "stdout",
     "output_type": "stream",
     "text": [
      "Loading model meta-llama/Llama-3.2-3B-Instruct on mps\n"
     ]
    },
    {
     "name": "stderr",
     "output_type": "stream",
     "text": [
      "Loading checkpoint shards: 100%|██████████| 2/2 [00:09<00:00,  4.64s/it]\n"
     ]
    },
    {
     "name": "stdout",
     "output_type": "stream",
     "text": [
      "business_&_entrepreneurs\n",
      "news_&_social_concern\n"
     ]
    },
    {
     "data": {
      "text/plain": [
       "{'timestamp': '2025-04-28 01:55:39.147004',\n",
       " 'topics': ['business_&_entrepreneurs', 'news_&_social_concern'],\n",
       " 'web': False,\n",
       " 'rag': True,\n",
       " 'role': 'assistant',\n",
       " 'content': \"Airbnb faces several challenges:\\n\\n1. **Regulatory hurdles**: The company operates in over 220 countries and regions worldwide, making compliance with local regulations challenging.\\n2. **Competition from traditional accommodations**: Established hotels often offer more amenities and services than many Airbnb listings can match.\\n3. **Safety concerns for guests**: With millions of bookings per year, ensuring guest safety remains an ongoing challenge.\\n\\nRegarding price suggestions, Airbnb's algorithm considers various factors such as:\\n\\n* Property type (entire home/apartment/house)\\n* Location within a city or neighborhood\\n* Number of bedrooms/bathrooms\\n* Amenities offered (pool, gym, Wi-Fi, etc.)\\n* Host ratings/reviews/feedback\\n* Time of booking/year/month/day\"}"
      ]
     },
     "execution_count": 5,
     "metadata": {},
     "output_type": "execute_result"
    }
   ],
   "source": [
    "\n",
    "a.chat(prompt=\"What challenges does airbnb face?\",\n",
    "       web=False,\n",
    "       rag=True,\n",
    "       tokens=150)"
   ]
  },
  {
   "cell_type": "code",
   "execution_count": 6,
   "id": "c076dc17",
   "metadata": {},
   "outputs": [
    {
     "name": "stderr",
     "output_type": "stream",
     "text": [
      "100%|██████████| 4/4 [00:00<00:00, 12816.82it/s]\n",
      "100%|██████████| 4/4 [00:00<00:00, 1292.34it/s]\n"
     ]
    },
    {
     "name": "stdout",
     "output_type": "stream",
     "text": [
      "business_&_entrepreneurs\n",
      "news_&_social_concern\n"
     ]
    },
    {
     "data": {
      "text/plain": [
       "[{'timestamp': '2025-04-28 01:54:31.352731',\n",
       "  'topics': ['diaries_&_daily_life'],\n",
       "  'web': False,\n",
       "  'rag': False,\n",
       "  'role': 'user',\n",
       "  'content': 'Write a haiku'},\n",
       " {'timestamp': '2025-04-28 01:54:31.352741',\n",
       "  'topics': ['diaries_&_daily_life'],\n",
       "  'web': False,\n",
       "  'rag': False,\n",
       "  'role': 'assistant',\n",
       "  'content': 'Whispering spring breeze—  \\npetals drift on silent streams,  \\nmorning awakens.'},\n",
       " {'timestamp': '2025-04-28 01:55:39.146982',\n",
       "  'topics': ['business_&_entrepreneurs', 'news_&_social_concern'],\n",
       "  'web': False,\n",
       "  'rag': True,\n",
       "  'role': 'user',\n",
       "  'content': 'What challenges does airbnb face?'},\n",
       " {'timestamp': '2025-04-28 01:55:39.147004',\n",
       "  'topics': ['business_&_entrepreneurs', 'news_&_social_concern'],\n",
       "  'web': False,\n",
       "  'rag': True,\n",
       "  'role': 'assistant',\n",
       "  'content': \"Airbnb faces several challenges:\\n\\n1. **Regulatory hurdles**: The company operates in over 220 countries and regions worldwide, making compliance with local regulations challenging.\\n2. **Competition from traditional accommodations**: Established hotels often offer more amenities and services than many Airbnb listings can match.\\n3. **Safety concerns for guests**: With millions of bookings per year, ensuring guest safety remains an ongoing challenge.\\n\\nRegarding price suggestions, Airbnb's algorithm considers various factors such as:\\n\\n* Property type (entire home/apartment/house)\\n* Location within a city or neighborhood\\n* Number of bedrooms/bathrooms\\n* Amenities offered (pool, gym, Wi-Fi, etc.)\\n* Host ratings/reviews/feedback\\n* Time of booking/year/month/day\"},\n",
       " {'timestamp': '2025-04-28 01:56:15.357254',\n",
       "  'topics': ['business_&_entrepreneurs', 'news_&_social_concern'],\n",
       "  'web': False,\n",
       "  'rag': True,\n",
       "  'role': 'user',\n",
       "  'content': 'What challenges does BMW face?'},\n",
       " {'timestamp': '2025-04-28 01:56:15.357287',\n",
       "  'topics': ['business_&_entrepreneurs', 'news_&_social_concern'],\n",
       "  'web': False,\n",
       "  'rag': True,\n",
       "  'role': 'assistant',\n",
       "  'content': \"BMW faces various challenges due to its involvement with the Producer Responsibility policy implemented by Germany's government in 1990. This policy requires automobile manufacturers to collect used cars from consumers after they reach the end of life cycle.\\n\\nSome key challenges include:\\n\\n*   Economic costs associated with taking back old vehicles.\\n*   Changes in supply chain operations required to accommodate collection services.\\n*    Labor intensive processes involved in disassembling vehicles which can impact production efficiency.\\n\\n\\n\\nThese changes have significant impacts on how companies operate within an increasingly regulated environment where sustainability is becoming more prominent across industries worldwide.\"}]"
      ]
     },
     "execution_count": 6,
     "metadata": {},
     "output_type": "execute_result"
    }
   ],
   "source": [
    "a.chat(prompt=\"What challenges does BMW face?\",\n",
    "       web=False,\n",
    "       rag=True,\n",
    "       tokens=150)\n",
    "a.messages"
   ]
  },
  {
   "cell_type": "code",
   "execution_count": 7,
   "id": "56575a3d",
   "metadata": {},
   "outputs": [
    {
     "name": "stdout",
     "output_type": "stream",
     "text": [
      "Researching: What is trending in music?\n",
      "News search error: cannot access local variable 'link' where it is not associated with a value\n",
      "Found 10 total results\n",
      "After deduplication: 10 results\n",
      "Fetching additional content from URLs...\n",
      "Researching: current music trends 2025 top artists viral songs streaming platforms billboard hot 100 YouTube trending kpop\n",
      "Found 10 total results\n",
      "After deduplication: 10 results\n",
      "Fetching additional content from URLs...\n",
      "music\n"
     ]
    },
    {
     "data": {
      "text/plain": [
       "[{'timestamp': '2025-04-28 01:54:31.352731',\n",
       "  'topics': ['diaries_&_daily_life'],\n",
       "  'web': False,\n",
       "  'rag': False,\n",
       "  'role': 'user',\n",
       "  'content': 'Write a haiku'},\n",
       " {'timestamp': '2025-04-28 01:54:31.352741',\n",
       "  'topics': ['diaries_&_daily_life'],\n",
       "  'web': False,\n",
       "  'rag': False,\n",
       "  'role': 'assistant',\n",
       "  'content': 'Whispering spring breeze—  \\npetals drift on silent streams,  \\nmorning awakens.'},\n",
       " {'timestamp': '2025-04-28 01:55:39.146982',\n",
       "  'topics': ['business_&_entrepreneurs', 'news_&_social_concern'],\n",
       "  'web': False,\n",
       "  'rag': True,\n",
       "  'role': 'user',\n",
       "  'content': 'What challenges does airbnb face?'},\n",
       " {'timestamp': '2025-04-28 01:55:39.147004',\n",
       "  'topics': ['business_&_entrepreneurs', 'news_&_social_concern'],\n",
       "  'web': False,\n",
       "  'rag': True,\n",
       "  'role': 'assistant',\n",
       "  'content': \"Airbnb faces several challenges:\\n\\n1. **Regulatory hurdles**: The company operates in over 220 countries and regions worldwide, making compliance with local regulations challenging.\\n2. **Competition from traditional accommodations**: Established hotels often offer more amenities and services than many Airbnb listings can match.\\n3. **Safety concerns for guests**: With millions of bookings per year, ensuring guest safety remains an ongoing challenge.\\n\\nRegarding price suggestions, Airbnb's algorithm considers various factors such as:\\n\\n* Property type (entire home/apartment/house)\\n* Location within a city or neighborhood\\n* Number of bedrooms/bathrooms\\n* Amenities offered (pool, gym, Wi-Fi, etc.)\\n* Host ratings/reviews/feedback\\n* Time of booking/year/month/day\"},\n",
       " {'timestamp': '2025-04-28 01:56:15.357254',\n",
       "  'topics': ['business_&_entrepreneurs', 'news_&_social_concern'],\n",
       "  'web': False,\n",
       "  'rag': True,\n",
       "  'role': 'user',\n",
       "  'content': 'What challenges does BMW face?'},\n",
       " {'timestamp': '2025-04-28 01:56:15.357287',\n",
       "  'topics': ['business_&_entrepreneurs', 'news_&_social_concern'],\n",
       "  'web': False,\n",
       "  'rag': True,\n",
       "  'role': 'assistant',\n",
       "  'content': \"BMW faces various challenges due to its involvement with the Producer Responsibility policy implemented by Germany's government in 1990. This policy requires automobile manufacturers to collect used cars from consumers after they reach the end of life cycle.\\n\\nSome key challenges include:\\n\\n*   Economic costs associated with taking back old vehicles.\\n*   Changes in supply chain operations required to accommodate collection services.\\n*    Labor intensive processes involved in disassembling vehicles which can impact production efficiency.\\n\\n\\n\\nThese changes have significant impacts on how companies operate within an increasingly regulated environment where sustainability is becoming more prominent across industries worldwide.\"},\n",
       " {'timestamp': '2025-04-28 01:57:27.686813',\n",
       "  'topics': ['music'],\n",
       "  'web': True,\n",
       "  'rag': False,\n",
       "  'role': 'user',\n",
       "  'content': 'What is trending in music?'},\n",
       " {'timestamp': '2025-04-28 01:57:27.686831',\n",
       "  'topics': ['music'],\n",
       "  'web': True,\n",
       "  'rag': False,\n",
       "  'role': 'assistant',\n",
       "  'content': \"As of April 28th, 2023 (Note I corrected date), several artists continue to make headlines with their latest hits on platforms like YouTube's trending charts and The Billboard Hot 100 list.\\nSome key figures dominating these rankings right now\"}]"
      ]
     },
     "execution_count": 7,
     "metadata": {},
     "output_type": "execute_result"
    }
   ],
   "source": [
    "a.chat(prompt=\"What is trending in music?\",\n",
    "       web=True,\n",
    "       rag=False,\n",
    "       tokens=50)\n",
    "a.messages"
   ]
  },
  {
   "cell_type": "code",
   "execution_count": 8,
   "id": "4ed46e1f",
   "metadata": {},
   "outputs": [
    {
     "data": {
      "text/plain": [
       "{'timestamp': '2025-04-28 01:57:29.149780',\n",
       " 'topics': [],\n",
       " 'web': False,\n",
       " 'rag': False,\n",
       " 'role': 'assistant',\n",
       " 'content': 'Soft petals drifting,  \\nWind whispers through silent trees—  \\nSpring’s breath on the pond.'}"
      ]
     },
     "execution_count": 8,
     "metadata": {},
     "output_type": "execute_result"
    }
   ],
   "source": [
    "a.chat(prompt=\"Write a haiku\",use_gpt=True)"
   ]
  },
  {
   "cell_type": "code",
   "execution_count": null,
   "id": "9a392b7b",
   "metadata": {},
   "outputs": [],
   "source": []
  }
 ],
 "metadata": {
  "kernelspec": {
   "display_name": "env",
   "language": "python",
   "name": "python3"
  },
  "language_info": {
   "codemirror_mode": {
    "name": "ipython",
    "version": 3
   },
   "file_extension": ".py",
   "mimetype": "text/x-python",
   "name": "python",
   "nbconvert_exporter": "python",
   "pygments_lexer": "ipython3",
   "version": "3.13.1"
  }
 },
 "nbformat": 4,
 "nbformat_minor": 5
}
