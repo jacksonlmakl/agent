{
 "cells": [
  {
   "cell_type": "code",
   "execution_count": 5,
   "id": "4b459c69",
   "metadata": {},
   "outputs": [
    {
     "name": "stdout",
     "output_type": "stream",
     "text": [
      "Loading model facebook/opt-125m on mps\n",
      "Response: dogs and give it to your kids. Do this on Valentine's Day, and then take it to your\n"
     ]
    },
    {
     "data": {
      "text/plain": [
       "\"dogs and give it to your kids. Do this on Valentine's Day, and then take it to your\""
      ]
     },
     "execution_count": 5,
     "metadata": {},
     "output_type": "execute_result"
    }
   ],
   "source": [
    "from lightweight import lightweight\n",
    "\n",
    "lightweight(\"Write a poem about dogs\")"
   ]
  },
  {
   "cell_type": "code",
   "execution_count": null,
   "id": "25dfa682",
   "metadata": {},
   "outputs": [
    {
     "name": "stdout",
     "output_type": "stream",
     "text": [
      "Loading model facebook/opt-350m on mps\n",
      "Response: dogs, but for a dog.</s>\n"
     ]
    },
    {
     "data": {
      "text/plain": [
       "'dogs, but for a dog.</s>'"
      ]
     },
     "execution_count": 6,
     "metadata": {},
     "output_type": "execute_result"
    }
   ],
   "source": [
    "lightweight(\"Write a poem about dogs\",model_name=\"facebook/opt-350m\")\n",
    "lightweight(\"Write a poem about dogs\",model_name=\"microsoft/phi-1_5\")\n",
    "lightweight(\"Write a poem about dogs\",model_name=\"TinyLlama/TinyLlama-1.1B-Chat-v0.6\")"
   ]
  },
  {
   "cell_type": "code",
   "execution_count": null,
   "id": "a06bf178",
   "metadata": {},
   "outputs": [
    {
     "name": "stdout",
     "output_type": "stream",
     "text": [
      "Loading model microsoft/phi-1_5 on mps\n",
      "Response: using the rhyme scheme of ABAB.\n",
      "Answer: I have a furry friend\n",
      "Her\n"
     ]
    },
    {
     "data": {
      "text/plain": [
       "'using the rhyme scheme of ABAB.\\nAnswer: I have a furry friend\\nHer'"
      ]
     },
     "execution_count": 7,
     "metadata": {},
     "output_type": "execute_result"
    }
   ],
   "source": []
  },
  {
   "cell_type": "code",
   "execution_count": null,
   "id": "f087338c",
   "metadata": {},
   "outputs": [
    {
     "name": "stdout",
     "output_type": "stream",
     "text": [
      "Loading model TinyLlama/TinyLlama-1.1B-Chat-v0.6 on mps\n",
      "Response: dogs that describes the emotional and physical impact that dogs have on their owners. Use descriptive language and vivid imagery to convey the joy and love that dogs bring to their owners. Consider incorporating metaphors or similes to evoke strong emotions. Your poem should be at least 15 lines long and aim to captivate the readers with your artistic and emotional expression of love and loyalty.</s>\n"
     ]
    },
    {
     "data": {
      "text/plain": [
       "'dogs that describes the emotional and physical impact that dogs have on their owners. Use descriptive language and vivid imagery to convey the joy and love that dogs bring to their owners. Consider incorporating metaphors or similes to evoke strong emotions. Your poem should be at least 15 lines long and aim to captivate the readers with your artistic and emotional expression of love and loyalty.</s>'"
      ]
     },
     "execution_count": 4,
     "metadata": {},
     "output_type": "execute_result"
    }
   ],
   "source": []
  },
  {
   "cell_type": "code",
   "execution_count": null,
   "id": "f88645ee",
   "metadata": {},
   "outputs": [],
   "source": []
  }
 ],
 "metadata": {
  "kernelspec": {
   "display_name": "env",
   "language": "python",
   "name": "python3"
  },
  "language_info": {
   "codemirror_mode": {
    "name": "ipython",
    "version": 3
   },
   "file_extension": ".py",
   "mimetype": "text/x-python",
   "name": "python",
   "nbconvert_exporter": "python",
   "pygments_lexer": "ipython3",
   "version": "3.13.1"
  }
 },
 "nbformat": 4,
 "nbformat_minor": 5
}
