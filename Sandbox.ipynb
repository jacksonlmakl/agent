{
 "cells": [
  {
   "cell_type": "code",
   "execution_count": 5,
   "id": "4b459c69",
   "metadata": {},
   "outputs": [
    {
     "name": "stdout",
     "output_type": "stream",
     "text": [
      "Loading model facebook/opt-125m on mps\n",
      "Response: dogs and give it to your kids. Do this on Valentine's Day, and then take it to your\n"
     ]
    },
    {
     "data": {
      "text/plain": [
       "\"dogs and give it to your kids. Do this on Valentine's Day, and then take it to your\""
      ]
     },
     "execution_count": 5,
     "metadata": {},
     "output_type": "execute_result"
    }
   ],
   "source": [
    "from lightweight import lightweight\n",
    "\n",
    "lightweight(\"Write a poem about dogs\")"
   ]
  },
  {
   "cell_type": "code",
   "execution_count": 23,
   "id": "25dfa682",
   "metadata": {},
   "outputs": [
    {
     "name": "stdout",
     "output_type": "stream",
     "text": [
      "Loading model facebook/opt-350m on mps\n",
      "Response: dogs\n",
      "I do.  I'm not too sure how to start.</s>\n"
     ]
    },
    {
     "data": {
      "text/plain": [
       "\"dogs\\nI do.  I'm not too sure how to start.</s>\""
      ]
     },
     "execution_count": 23,
     "metadata": {},
     "output_type": "execute_result"
    }
   ],
   "source": [
    "lightweight(\"Write a poem about dogs\",model_name=\"facebook/opt-350m\")\n"
   ]
  },
  {
   "cell_type": "code",
   "execution_count": 24,
   "id": "918aa791",
   "metadata": {},
   "outputs": [
    {
     "name": "stdout",
     "output_type": "stream",
     "text": [
      "Loading model microsoft/phi-1_5 on mps\n",
      "Response: using alliteration and assonance.\n",
      "Answer: Furry and furry, dogs do indeed\n"
     ]
    },
    {
     "data": {
      "text/plain": [
       "'using alliteration and assonance.\\nAnswer: Furry and furry, dogs do indeed'"
      ]
     },
     "execution_count": 24,
     "metadata": {},
     "output_type": "execute_result"
    }
   ],
   "source": [
    "lightweight(\"Write a poem about dogs\",model_name=\"microsoft/phi-1_5\")\n"
   ]
  },
  {
   "cell_type": "code",
   "execution_count": 25,
   "id": "d5ec74d7",
   "metadata": {},
   "outputs": [
    {
     "name": "stdout",
     "output_type": "stream",
     "text": [
      "Loading model TinyLlama/TinyLlama-1.1B-Chat-v0.6 on mps\n",
      "Response: dogs.\n",
      "\n",
      "I am a dog, a furry friend,\n",
      "A companion in your heart and your sight,\n",
      "A loyal friend, always there to provide,\n",
      "Their love and loyalty unwavering.\n",
      "\n",
      "As you walk along the street,\n",
      "Or sip on a cool drink,\n",
      "Their love for you is still evident,\n",
      "With every bark and purr, they're there to greet.\n",
      "\n",
      "They lounge in the sun,\n",
      "Laughing and chasing each other,\n",
      "With every step they take,\n",
      "My furry friend always ready to run.\n",
      "\n",
      "I am your beloved pet,\n",
      "Your loyal friend, your constant care,\n",
      "Your companion, always there to share,\n",
      "Your love for you will never cease.\n",
      "\n",
      "So please, let us celebrate your love,\n",
      "For your furry friend is truly your pride,\n",
      "With every step they take,\n",
      "Your furry friend is truly your pride.\n",
      "\n",
      "So please, let us celebrate your love,\n",
      "For your furry friend is truly your pride,\n",
      "With every step they take,\n",
      "Your furry friend is truly your pride.\n",
      "\n",
      "I am a dog, a furry friend,\n",
      "A companion in your heart and your sight,\n",
      "A loyal friend, always there to provide,\n",
      "Their love and loyalty unwavering.</s>\n"
     ]
    },
    {
     "data": {
      "text/plain": [
       "\"dogs.\\n\\nI am a dog, a furry friend,\\nA companion in your heart and your sight,\\nA loyal friend, always there to provide,\\nTheir love and loyalty unwavering.\\n\\nAs you walk along the street,\\nOr sip on a cool drink,\\nTheir love for you is still evident,\\nWith every bark and purr, they're there to greet.\\n\\nThey lounge in the sun,\\nLaughing and chasing each other,\\nWith every step they take,\\nMy furry friend always ready to run.\\n\\nI am your beloved pet,\\nYour loyal friend, your constant care,\\nYour companion, always there to share,\\nYour love for you will never cease.\\n\\nSo please, let us celebrate your love,\\nFor your furry friend is truly your pride,\\nWith every step they take,\\nYour furry friend is truly your pride.\\n\\nSo please, let us celebrate your love,\\nFor your furry friend is truly your pride,\\nWith every step they take,\\nYour furry friend is truly your pride.\\n\\nI am a dog, a furry friend,\\nA companion in your heart and your sight,\\nA loyal friend, always there to provide,\\nTheir love and loyalty unwavering.</s>\""
      ]
     },
     "execution_count": 25,
     "metadata": {},
     "output_type": "execute_result"
    }
   ],
   "source": [
    "lightweight(\"Write a poem about dogs\",model_name=\"TinyLlama/TinyLlama-1.1B-Chat-v0.6\")"
   ]
  },
  {
   "cell_type": "code",
   "execution_count": 18,
   "id": "a06bf178",
   "metadata": {},
   "outputs": [
    {
     "name": "stdout",
     "output_type": "stream",
     "text": [
      "Loading model microsoft/Phi-4-mini-instruct on mps\n"
     ]
    },
    {
     "name": "stderr",
     "output_type": "stream",
     "text": [
      "Loading checkpoint shards: 100%|██████████| 2/2 [00:20<00:00, 10.20s/it]\n"
     ]
    },
    {
     "name": "stdout",
     "output_type": "stream",
     "text": [
      "Response: . The word \"loyal\" should appear at least 4 times. Loyal companions,\n",
      "From dawn\n"
     ]
    },
    {
     "data": {
      "text/plain": [
       "'. The word \"loyal\" should appear at least 4 times. Loyal companions,\\nFrom dawn'"
      ]
     },
     "execution_count": 18,
     "metadata": {},
     "output_type": "execute_result"
    }
   ],
   "source": [
    "lightweight(\"Write a poem about dogs\",model_name=\"microsoft/Phi-4-mini-instruct\")"
   ]
  },
  {
   "cell_type": "code",
   "execution_count": 22,
   "id": "f087338c",
   "metadata": {},
   "outputs": [
    {
     "name": "stdout",
     "output_type": "stream",
     "text": [
      "Loading model microsoft/Phi-3.5-mini-instruct on mps\n"
     ]
    },
    {
     "name": "stderr",
     "output_type": "stream",
     "text": [
      "Loading checkpoint shards: 100%|██████████| 2/2 [00:21<00:00, 10.51s/it]\n"
     ]
    },
    {
     "name": "stdout",
     "output_type": "stream",
     "text": [
      "Response: and their unconditional love.\n",
      "\n",
      "**Answer 1:**\n",
      "\n",
      "Four-\n"
     ]
    },
    {
     "data": {
      "text/plain": [
       "'and their unconditional love.\\n\\n**Answer 1:**\\n\\nFour-'"
      ]
     },
     "execution_count": 22,
     "metadata": {},
     "output_type": "execute_result"
    }
   ],
   "source": [
    "lightweight(\"Write a poem about dogs\",model_name=\"microsoft/Phi-3.5-mini-instruct\")"
   ]
  },
  {
   "cell_type": "code",
   "execution_count": null,
   "id": "fffcd6bd",
   "metadata": {},
   "outputs": [],
   "source": []
  }
 ],
 "metadata": {
  "kernelspec": {
   "display_name": "env",
   "language": "python",
   "name": "python3"
  },
  "language_info": {
   "codemirror_mode": {
    "name": "ipython",
    "version": 3
   },
   "file_extension": ".py",
   "mimetype": "text/x-python",
   "name": "python",
   "nbconvert_exporter": "python",
   "pygments_lexer": "ipython3",
   "version": "3.13.1"
  }
 },
 "nbformat": 4,
 "nbformat_minor": 5
}
