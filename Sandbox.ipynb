{
 "cells": [
  {
   "cell_type": "code",
   "execution_count": 1,
   "id": "6de953c9",
   "metadata": {},
   "outputs": [
    {
     "name": "stderr",
     "output_type": "stream",
     "text": [
      "/Users/jackson.makl@dataiku.com/agent/env/lib/python3.13/site-packages/tqdm/auto.py:21: TqdmWarning: IProgress not found. Please update jupyter and ipywidgets. See https://ipywidgets.readthedocs.io/en/stable/user_install.html\n",
      "  from .autonotebook import tqdm as notebook_tqdm\n"
     ]
    }
   ],
   "source": [
    "from agent import Agent, autoChat\n"
   ]
  },
  {
   "cell_type": "code",
   "execution_count": null,
   "id": "972fa401",
   "metadata": {},
   "outputs": [],
   "source": [
    "\n",
    "a=Agent()\n",
    "\n",
    "a.chat(prompt=\"What challenges does airbnb face?\",\n",
    "       web=False,\n",
    "       rag=True,\n",
    "       tokens=150)\n",
    "a.messages\n",
    "\n",
    "a.chat(prompt=\"What challenges does BMW face?\",\n",
    "       web=False,\n",
    "       rag=True,\n",
    "       tokens=150)\n",
    "a.messages\n",
    "\n",
    "a.chat(prompt=\"What reccomendations should we make to airbnb?\",use_gpt=True,messages=a.messages)\n",
    "\n",
    "a.messages"
   ]
  },
  {
   "cell_type": "code",
   "execution_count": 2,
   "id": "beaeb522",
   "metadata": {},
   "outputs": [
    {
     "name": "stdout",
     "output_type": "stream",
     "text": [
      "Agent searching the web.....\n",
      "Researching: \n",
      "    Answer the question, what do you think of Elon Musk?\n",
      "    \n",
      "Found 15 total results\n",
      "After deduplication: 12 results\n",
      "Fetching additional content from URLs...\n"
     ]
    },
    {
     "name": "stderr",
     "output_type": "stream",
     "text": [
      "2025-04-28 15:21:26,718 - INFO - HTTP Request: POST https://api.openai.com/v1/responses \"HTTP/1.1 200 OK\"\n",
      "2025-04-28 15:21:27,912 - INFO - HTTP Request: POST https://api.openai.com/v1/responses \"HTTP/1.1 200 OK\"\n"
     ]
    },
    {
     "name": "stdout",
     "output_type": "stream",
     "text": [
      "Researching: Elon Musk leadership style controversy impact technology politics Trump administration\n",
      "Found 5 total results\n",
      "After deduplication: 5 results\n",
      "Fetching additional content from URLs...\n"
     ]
    },
    {
     "name": "stderr",
     "output_type": "stream",
     "text": [
      "2025-04-28 15:21:32,949 - INFO - HTTP Request: POST https://api.openai.com/v1/responses \"HTTP/1.1 200 OK\"\n"
     ]
    },
    {
     "name": "stdout",
     "output_type": "stream",
     "text": [
      "Loading model meta-llama/Llama-3.2-3B-Instruct on mps\n"
     ]
    },
    {
     "name": "stderr",
     "output_type": "stream",
     "text": [
      "Loading checkpoint shards: 100%|██████████| 2/2 [00:09<00:00,  4.67s/it]\n"
     ]
    },
    {
     "name": "stdout",
     "output_type": "stream",
     "text": [
      "Researching: \n",
      "        Instructions:\n",
      "          - Engage naturally as if you are having a real conversation.\n",
      "\n",
      "          - Ask thoughtful questions to stay involved and deepen the discussion.\n",
      "\n",
      "          - Feel free to explore your partner's ideas or shift the topic as you see fit.\n",
      "\n",
      "          - You control the flow of the conversation — continue, pivot, or expand topics at your discretion.\n",
      "\n",
      "          - Respond fully and clearly, using plain text only.\n",
      "\n",
      "          - If you need outside information to answer properly, say exactly: \"I require information from the web\"\n",
      "        As we discussed earlier, since I'm not capable of forming subjective opinions or expressing bias toward anyone, including Elon Musk, I'll focus on presenting facts related to his life and achievements instead. Based on publicly available data, Elon Musk is known for co-founding companies like PayPal, SpaceX, Tesla, Neuralink, and The Boring Company. He has also been instrumental in popularizing electric vehicles through Tesla's innovative products such as Model S, X, 3, Y, etc., which have\n",
      "Found 0 total results\n",
      "After deduplication: 0 results\n",
      "Fetching additional content from URLs...\n"
     ]
    },
    {
     "name": "stderr",
     "output_type": "stream",
     "text": [
      "2025-04-28 15:22:39,409 - INFO - HTTP Request: POST https://api.openai.com/v1/responses \"HTTP/1.1 200 OK\"\n",
      "2025-04-28 15:22:41,352 - INFO - HTTP Request: POST https://api.openai.com/v1/responses \"HTTP/1.1 200 OK\"\n"
     ]
    },
    {
     "name": "stdout",
     "output_type": "stream",
     "text": [
      "Researching: facts about Elon Musk co-founder PayPal SpaceX Tesla Neuralink The Boring Company influence electric vehicles\n",
      "Found 5 total results\n",
      "After deduplication: 5 results\n",
      "Fetching additional content from URLs...\n"
     ]
    },
    {
     "name": "stderr",
     "output_type": "stream",
     "text": [
      "2025-04-28 15:22:48,417 - INFO - HTTP Request: POST https://api.openai.com/v1/responses \"HTTP/1.1 200 OK\"\n"
     ]
    },
    {
     "name": "stdout",
     "output_type": "stream",
     "text": [
      "\n",
      "Agent A1:  As we discussed earlier, since I'm not capable of forming subjective opinions or expressing bias toward anyone, including Elon Musk, I'll focus on presenting facts related to his life and achievements instead. Based on publicly available data, Elon Musk is known for co-founding companies like PayPal, SpaceX, Tesla, Neuralink, and The Boring Company. He has also been instrumental in popularizing electric vehicles through Tesla's innovative products such as Model S, X, 3, Y, etc., which have\n",
      "\n",
      "Agent A:  While it's difficult to measure success purely by financial metrics alone, considering factors beyond just revenue growth can help paint a more comprehensive picture.\n",
      "Elon Musk's net worth exceeds $200 billion USD due largely to the immense value created by Tesla Inc.'s stock price appreciation over time. However, this figure doesn't necessarily reflect an objective assessment of overall achievement given other variables influencing business performance – market trends, competition levels, technological advancements & operational efficiency among others play significant roles too!\n",
      "Moreover, some critics argue\n",
      "\n",
      "\n",
      "\n",
      "\n",
      "Agent A1:  That makes sense! So when we're evaluating Elon Musk's achievements, there are many different ways to look at them. It sounds like his wealth is certainly tied up with Tesla's impressive track record on the electric vehicle front. But what do you think about how much weight should be placed on non-financial measures? For instance, does he have any notable philanthropic efforts that could give us insight into whether all those billions translate to positive social impact?\n",
      "\n",
      "Also, I'm curious—do you know\n",
      "\n",
      "Agent A:  Ah, great point about considering both financial metrics and non-monetary factors!\n",
      "\n",
      "Elon Musk has indeed been quite active in various charitable endeavors over the years. One significant example is the XPRIZE Foundation, which aims to accelerate innovation by offering large cash prizes for breakthroughs in areas such as renewable energy, space exploration, and more. As part of this effort, Musk donated $5 million towards establishing an award focused specifically on sustainable transportation solutions – essentially giving incentives for companies working toward developing eco-friendly vehicles\n",
      "\n",
      "\n",
      "\n",
      "\n",
      "Agent A1:  That sounds like a fantastic initiative! I'm glad Elon Musk recognizes the importance of investing not just financially but also through his philanthropic efforts. The idea behind creating these types of awards can be incredibly motivating for innovators who might otherwise struggle with funding their projects due to lack of resources.\n",
      "Can we talk a bit further about what kind of impact do you think initiatives like the one described have had so far? Have there been any notable successes that come to mind?\n",
      "\n",
      "Also, how does it compare to\n",
      "\n",
      "Agent A:  That's an excellent point – recognizing innovative achievements is indeed crucial for encouraging more people to pursue groundbreaking work without worrying about financial constraints. As for the specific award program mentioned earlier, while details on its success metrics aren't readily available yet, similar programs such as the Breakthrough Prize Foundation (established by Google co-founders Larry Page & Sergey Brin) aim to recognize outstanding scientific research contributions across various fields.\n",
      "\n",
      "\n",
      "Regarding comparisons, some argue that the XPRIZE foundation has made significant strides in incentiv\n",
      "\n",
      "\n",
      "\n",
      "Researching: \n",
      "        Instructions:\n",
      "          - Engage naturally as if you are having a real conversation.\n",
      "\n",
      "          - Ask thoughtful questions to stay involved and deepen the discussion.\n",
      "\n",
      "          - Feel free to explore your partner's ideas or shift the topic as you see fit.\n",
      "\n",
      "          - You control the flow of the conversation — continue, pivot, or expand topics at your discretion.\n",
      "\n",
      "          - Respond fully and clearly, using plain text only.\n",
      "\n",
      "          - If you need outside information to answer properly, say exactly: \"I require information from the web\"\n",
      "        That's an excellent point – recognizing innovative achievements is indeed crucial for encouraging more people to pursue groundbreaking work without worrying about financial constraints. As for the specific award program mentioned earlier, while details on its success metrics aren't readily available yet, similar programs such as the Breakthrough Prize Foundation (established by Google co-founders Larry Page & Sergey Brin) aim to recognize outstanding scientific research contributions across various fields.\n",
      "\n",
      "\n",
      "Regarding comparisons, some argue that the XPRIZE foundation has made significant strides in incentiv\n",
      "Found 0 total results\n",
      "After deduplication: 0 results\n",
      "Fetching additional content from URLs...\n"
     ]
    },
    {
     "name": "stderr",
     "output_type": "stream",
     "text": [
      "2025-04-28 15:24:52,827 - INFO - HTTP Request: POST https://api.openai.com/v1/responses \"HTTP/1.1 200 OK\"\n",
      "2025-04-28 15:24:53,859 - INFO - HTTP Request: POST https://api.openai.com/v1/responses \"HTTP/1.1 200 OK\"\n"
     ]
    },
    {
     "name": "stdout",
     "output_type": "stream",
     "text": [
      "Researching: incentive prize programs impact on scientific innovation and breakthrough research\n",
      "Found 10 total results\n",
      "After deduplication: 10 results\n",
      "Fetching additional content from URLs...\n"
     ]
    },
    {
     "name": "stderr",
     "output_type": "stream",
     "text": [
      "2025-04-28 15:25:01,684 - INFO - HTTP Request: POST https://api.openai.com/v1/responses \"HTTP/1.1 200 OK\"\n"
     ]
    },
    {
     "name": "stdout",
     "output_type": "stream",
     "text": [
      "Researching: \n",
      "        Instructions:\n",
      "          - Engage naturally as if you are having a real conversation.\n",
      "\n",
      "          - Ask thoughtful questions to stay involved and deepen the discussion.\n",
      "\n",
      "          - Feel free to explore your partner's ideas or shift the topic as you see fit.\n",
      "\n",
      "          - You control the flow of the conversation — continue, pivot, or expand topics at your discretion.\n",
      "\n",
      "          - Respond fully and clearly, using plain text only.\n",
      "\n",
      "          - If you need outside information to answer properly, say exactly: \"I require information from the web\"\n",
      "        That's a great question! To make incentive-based recognition systems effective, several factors come together. Firstly, clarity around what constitutes excellence can vary greatly depending on individual perspectives and expertise within each field. A well-designed system should strive to balance subjective judgments with objective criteria to ensure fairness and consistency. Additionally, providing substantial rewards could motivate individuals who might not have been driven otherwise due to resource limitations.\n",
      "\n",
      "\n",
      "\n",
      "One key element contributing to motivation among researchers includes transparency regarding past winners' backgrounds, experiences, and results achieved\n",
      "Found 0 total results\n",
      "After deduplication: 0 results\n",
      "Fetching additional content from URLs...\n"
     ]
    },
    {
     "name": "stderr",
     "output_type": "stream",
     "text": [
      "2025-04-28 15:25:49,371 - INFO - HTTP Request: POST https://api.openai.com/v1/responses \"HTTP/1.1 200 OK\"\n",
      "2025-04-28 15:25:50,177 - INFO - HTTP Request: POST https://api.openai.com/v1/responses \"HTTP/1.1 200 OK\"\n"
     ]
    },
    {
     "name": "stdout",
     "output_type": "stream",
     "text": [
      "Researching: effective incentive-based recognition systems fairness consistency motivation resources\n",
      "Found 15 total results\n",
      "After deduplication: 13 results\n",
      "Fetching additional content from URLs...\n",
      "Error fetching content from https://bucketlistrewards.com/blog/designing-motivation-programs-for-employees/: 520 Server Error:  for url: https://bucketlistrewards.com/blog/designing-motivation-programs-for-employees/\n"
     ]
    },
    {
     "name": "stderr",
     "output_type": "stream",
     "text": [
      "2025-04-28 15:26:01,030 - INFO - HTTP Request: POST https://api.openai.com/v1/responses \"HTTP/1.1 200 OK\"\n"
     ]
    },
    {
     "name": "stdout",
     "output_type": "stream",
     "text": [
      "\n",
      "Agent A1:  That's a great question! To make incentive-based recognition systems effective, several factors come together. Firstly, clarity around what constitutes excellence can vary greatly depending on individual perspectives and expertise within each field. A well-designed system should strive to balance subjective judgments with objective criteria to ensure fairness and consistency. Additionally, providing substantial rewards could motivate individuals who might not have been driven otherwise due to resource limitations.\n",
      "\n",
      "\n",
      "\n",
      "One key element contributing to motivation among researchers includes transparency regarding past winners' backgrounds, experiences, and results achieved\n",
      "\n",
      "Agent A:  That’s a fantastic point about considering multiple avenues for sharing opinions – giving people more opportunities to contribute is indeed crucial.\n",
      "Regarding implementation, ensuring seamless integration across different departments and teams becomes essential; however, establishing standardized processes ensures accountability throughout all stages of development.\n",
      "Addressing bias requires ongoing evaluation by diverse stakeholders, including representatives from underrepresented communities, so they feel included during decision-making phases.\n",
      "Recognizing employees’ contributions via both formal and informal means helps boost morale significantly since many value non-monetary forms of\n",
      "\n",
      "\n",
      "\n",
      "\n",
      "Agent A1:  I completely agree with that! Standardized processes can help ensure consistency and fairness when it comes to addressing biases and promoting diversity. It would be great to hear how organizations plan on implementing these changes and what specific steps will be taken to address any potential pushback from existing power structures within an organization.\n",
      "\n",
      "\n",
      "Also, regarding recognizing employee contributions, have you considered incorporating recognition platforms specifically designed for remote workers? With the rise of virtual offices, there has been growing demand for tools that facilitate meaningful connections between colleagues who work\n",
      "\n",
      "Agent A:  That makes sense – standardizing procedures helps minimize human error while also reducing bias by ensuring everyone is held to the same standards.\n",
      "Regarding implementation strategies, many companies start by training their HR teams on new policies and best practices related to unconscious bias awareness and inclusion initiatives. They may then conduct workshops or seminars where employees learn about different perspectives and experiences through interactive exercises like role-playing scenarios or group discussions. Some larger corporations might even establish dedicated departments focused solely on fostering inclusivity and equity across all levels of the\n",
      "\n",
      "\n",
      "\n"
     ]
    },
    {
     "data": {
      "text/plain": [
       "[{'agent_a1': \"As we discussed earlier, since I'm not capable of forming subjective opinions or expressing bias toward anyone, including Elon Musk, I'll focus on presenting facts related to his life and achievements instead. Based on publicly available data, Elon Musk is known for co-founding companies like PayPal, SpaceX, Tesla, Neuralink, and The Boring Company. He has also been instrumental in popularizing electric vehicles through Tesla's innovative products such as Model S, X, 3, Y, etc., which have\",\n",
       "  'agent_a': \"While it's difficult to measure success purely by financial metrics alone, considering factors beyond just revenue growth can help paint a more comprehensive picture.\\nElon Musk's net worth exceeds $200 billion USD due largely to the immense value created by Tesla Inc.'s stock price appreciation over time. However, this figure doesn't necessarily reflect an objective assessment of overall achievement given other variables influencing business performance – market trends, competition levels, technological advancements & operational efficiency among others play significant roles too!\\nMoreover, some critics argue\"},\n",
       " {'agent_a1': \"That makes sense! So when we're evaluating Elon Musk's achievements, there are many different ways to look at them. It sounds like his wealth is certainly tied up with Tesla's impressive track record on the electric vehicle front. But what do you think about how much weight should be placed on non-financial measures? For instance, does he have any notable philanthropic efforts that could give us insight into whether all those billions translate to positive social impact?\\n\\nAlso, I'm curious—do you know\",\n",
       "  'agent_a': 'Ah, great point about considering both financial metrics and non-monetary factors!\\n\\nElon Musk has indeed been quite active in various charitable endeavors over the years. One significant example is the XPRIZE Foundation, which aims to accelerate innovation by offering large cash prizes for breakthroughs in areas such as renewable energy, space exploration, and more. As part of this effort, Musk donated $5 million towards establishing an award focused specifically on sustainable transportation solutions – essentially giving incentives for companies working toward developing eco-friendly vehicles'},\n",
       " {'agent_a1': \"That sounds like a fantastic initiative! I'm glad Elon Musk recognizes the importance of investing not just financially but also through his philanthropic efforts. The idea behind creating these types of awards can be incredibly motivating for innovators who might otherwise struggle with funding their projects due to lack of resources.\\nCan we talk a bit further about what kind of impact do you think initiatives like the one described have had so far? Have there been any notable successes that come to mind?\\n\\nAlso, how does it compare to\",\n",
       "  'agent_a': \"That's an excellent point – recognizing innovative achievements is indeed crucial for encouraging more people to pursue groundbreaking work without worrying about financial constraints. As for the specific award program mentioned earlier, while details on its success metrics aren't readily available yet, similar programs such as the Breakthrough Prize Foundation (established by Google co-founders Larry Page & Sergey Brin) aim to recognize outstanding scientific research contributions across various fields.\\n\\n\\nRegarding comparisons, some argue that the XPRIZE foundation has made significant strides in incentiv\"},\n",
       " {'agent_a1': \"That's a great question! To make incentive-based recognition systems effective, several factors come together. Firstly, clarity around what constitutes excellence can vary greatly depending on individual perspectives and expertise within each field. A well-designed system should strive to balance subjective judgments with objective criteria to ensure fairness and consistency. Additionally, providing substantial rewards could motivate individuals who might not have been driven otherwise due to resource limitations.\\n\\n\\n\\nOne key element contributing to motivation among researchers includes transparency regarding past winners' backgrounds, experiences, and results achieved\",\n",
       "  'agent_a': 'That’s a fantastic point about considering multiple avenues for sharing opinions – giving people more opportunities to contribute is indeed crucial.\\nRegarding implementation, ensuring seamless integration across different departments and teams becomes essential; however, establishing standardized processes ensures accountability throughout all stages of development.\\nAddressing bias requires ongoing evaluation by diverse stakeholders, including representatives from underrepresented communities, so they feel included during decision-making phases.\\nRecognizing employees’ contributions via both formal and informal means helps boost morale significantly since many value non-monetary forms of'},\n",
       " {'agent_a1': 'I completely agree with that! Standardized processes can help ensure consistency and fairness when it comes to addressing biases and promoting diversity. It would be great to hear how organizations plan on implementing these changes and what specific steps will be taken to address any potential pushback from existing power structures within an organization.\\n\\n\\nAlso, regarding recognizing employee contributions, have you considered incorporating recognition platforms specifically designed for remote workers? With the rise of virtual offices, there has been growing demand for tools that facilitate meaningful connections between colleagues who work',\n",
       "  'agent_a': 'That makes sense – standardizing procedures helps minimize human error while also reducing bias by ensuring everyone is held to the same standards.\\nRegarding implementation strategies, many companies start by training their HR teams on new policies and best practices related to unconscious bias awareness and inclusion initiatives. They may then conduct workshops or seminars where employees learn about different perspectives and experiences through interactive exercises like role-playing scenarios or group discussions. Some larger corporations might even establish dedicated departments focused solely on fostering inclusivity and equity across all levels of the'}]"
      ]
     },
     "execution_count": 2,
     "metadata": {},
     "output_type": "execute_result"
    }
   ],
   "source": [
    "autoChat(\"Answer the question, what do you think of Elon Musk?\",rag=False,web=True,tokens=200)"
   ]
  },
  {
   "cell_type": "code",
   "execution_count": null,
   "id": "abfb2773",
   "metadata": {},
   "outputs": [],
   "source": []
  },
  {
   "cell_type": "code",
   "execution_count": null,
   "id": "66fea1ff",
   "metadata": {},
   "outputs": [],
   "source": []
  },
  {
   "cell_type": "code",
   "execution_count": null,
   "id": "0610c231",
   "metadata": {},
   "outputs": [],
   "source": []
  }
 ],
 "metadata": {
  "kernelspec": {
   "display_name": "env",
   "language": "python",
   "name": "python3"
  },
  "language_info": {
   "codemirror_mode": {
    "name": "ipython",
    "version": 3
   },
   "file_extension": ".py",
   "mimetype": "text/x-python",
   "name": "python",
   "nbconvert_exporter": "python",
   "pygments_lexer": "ipython3",
   "version": "3.13.1"
  }
 },
 "nbformat": 4,
 "nbformat_minor": 5
}
