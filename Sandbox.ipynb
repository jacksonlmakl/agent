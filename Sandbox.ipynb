{
 "cells": [
  {
   "cell_type": "code",
   "execution_count": 1,
   "id": "4f61bdba",
   "metadata": {},
   "outputs": [],
   "source": [
    "prompt=\"Write a poem about dogs\""
   ]
  },
  {
   "cell_type": "code",
   "execution_count": 2,
   "id": "4b459c69",
   "metadata": {},
   "outputs": [
    {
     "name": "stderr",
     "output_type": "stream",
     "text": [
      "/Users/jackson.makl@dataiku.com/agent/env/lib/python3.13/site-packages/tqdm/auto.py:21: TqdmWarning: IProgress not found. Please update jupyter and ipywidgets. See https://ipywidgets.readthedocs.io/en/stable/user_install.html\n",
      "  from .autonotebook import tqdm as notebook_tqdm\n"
     ]
    },
    {
     "name": "stdout",
     "output_type": "stream",
     "text": [
      "Loading model facebook/opt-125m on mps\n"
     ]
    },
    {
     "name": "stderr",
     "output_type": "stream",
     "text": [
      "The attention mask is not set and cannot be inferred from input because pad token is same as eos token. As a consequence, you may observe unexpected behavior. Please pass your input's `attention_mask` to obtain reliable results.\n"
     ]
    },
    {
     "name": "stdout",
     "output_type": "stream",
     "text": [
      "Response: uit.\n",
      "Well, we are on the verge of that.\n",
      "We need to make it happen.\n",
      "Loading model facebook/opt-125m on mps\n",
      "Response: dogs.\n",
      "I think we should do that. I know there's a lot of people who love dogs\n"
     ]
    },
    {
     "data": {
      "text/plain": [
       "\"dogs.\\nI think we should do that. I know there's a lot of people who love dogs\""
      ]
     },
     "execution_count": 2,
     "metadata": {},
     "output_type": "execute_result"
    }
   ],
   "source": [
    "from lightweight import lightweight\n",
    "\n",
    "lightweight(prompt)"
   ]
  },
  {
   "cell_type": "code",
   "execution_count": 3,
   "id": "25dfa682",
   "metadata": {},
   "outputs": [
    {
     "name": "stdout",
     "output_type": "stream",
     "text": [
      "Loading model facebook/opt-350m on mps\n",
      "Response: dogs.\n",
      "That's what i was thinking. I have a dog and I don't think I could\n"
     ]
    },
    {
     "data": {
      "text/plain": [
       "\"dogs.\\nThat's what i was thinking. I have a dog and I don't think I could\""
      ]
     },
     "execution_count": 3,
     "metadata": {},
     "output_type": "execute_result"
    }
   ],
   "source": [
    "lightweight(prompt,model_name=\"facebook/opt-350m\")\n"
   ]
  },
  {
   "cell_type": "code",
   "execution_count": 4,
   "id": "918aa791",
   "metadata": {},
   "outputs": [
    {
     "name": "stdout",
     "output_type": "stream",
     "text": [
      "Loading model microsoft/phi-1_5 on mps\n",
      "Response: using a specific rhyme scheme.\n",
      "\n",
      "Answer: \n",
      "\n",
      "Paws and tails, they\n"
     ]
    },
    {
     "data": {
      "text/plain": [
       "'using a specific rhyme scheme.\\n\\nAnswer: \\n\\nPaws and tails, they'"
      ]
     },
     "execution_count": 4,
     "metadata": {},
     "output_type": "execute_result"
    }
   ],
   "source": [
    "lightweight(prompt,model_name=\"microsoft/phi-1_5\")\n"
   ]
  },
  {
   "cell_type": "code",
   "execution_count": 5,
   "id": "d5ec74d7",
   "metadata": {},
   "outputs": [
    {
     "name": "stdout",
     "output_type": "stream",
     "text": [
      "Loading model TinyLlama/TinyLlama-1.1B-Chat-v0.6 on mps\n",
      "Response: dogs. 5. 4. A poem about a pet dog. 6. 5. A poem about a family pet that has passed away. 7. 6. A poem about a poodle. 8. 7. A poem about a family pet that has had a significant impact on your life. 9. 8. A poem about a pet that has been injured. 10. 9. A poem about a pet that has had a health issue. Remember to use specific examples, vivid imagery, and thought-provoking language to create a compelling and memorable poem about your pet dog.</s>\n"
     ]
    },
    {
     "data": {
      "text/plain": [
       "'dogs. 5. 4. A poem about a pet dog. 6. 5. A poem about a family pet that has passed away. 7. 6. A poem about a poodle. 8. 7. A poem about a family pet that has had a significant impact on your life. 9. 8. A poem about a pet that has been injured. 10. 9. A poem about a pet that has had a health issue. Remember to use specific examples, vivid imagery, and thought-provoking language to create a compelling and memorable poem about your pet dog.</s>'"
      ]
     },
     "execution_count": 5,
     "metadata": {},
     "output_type": "execute_result"
    }
   ],
   "source": [
    "lightweight(prompt,model_name=\"TinyLlama/TinyLlama-1.1B-Chat-v0.6\")"
   ]
  },
  {
   "cell_type": "code",
   "execution_count": 6,
   "id": "a06bf178",
   "metadata": {},
   "outputs": [
    {
     "name": "stdout",
     "output_type": "stream",
     "text": [
      "Loading model microsoft/Phi-4-mini-instruct on mps\n"
     ]
    },
    {
     "name": "stderr",
     "output_type": "stream",
     "text": [
      "Loading checkpoint shards:   0%|          | 0/2 [00:00<?, ?it/s]huggingface/tokenizers: The current process just got forked, after parallelism has already been used. Disabling parallelism to avoid deadlocks...\n",
      "To disable this warning, you can either:\n",
      "\t- Avoid using `tokenizers` before the fork if possible\n",
      "\t- Explicitly set the environment variable TOKENIZERS_PARALLELISM=(true | false)\n",
      "Loading checkpoint shards: 100%|██████████| 2/2 [00:18<00:00,  9.44s/it]\n"
     ]
    },
    {
     "name": "stdout",
     "output_type": "stream",
     "text": [
      "Response: . The word \"bark\" should appear at least 5 times. Your response must have exactly\n"
     ]
    },
    {
     "data": {
      "text/plain": [
       "'. The word \"bark\" should appear at least 5 times. Your response must have exactly'"
      ]
     },
     "execution_count": 6,
     "metadata": {},
     "output_type": "execute_result"
    }
   ],
   "source": [
    "lightweight(prompt,model_name=\"microsoft/Phi-4-mini-instruct\")"
   ]
  },
  {
   "cell_type": "code",
   "execution_count": 8,
   "id": "f087338c",
   "metadata": {},
   "outputs": [],
   "source": [
    "# lightweight(prompt,model_name=\"\")"
   ]
  },
  {
   "cell_type": "code",
   "execution_count": null,
   "id": "fffcd6bd",
   "metadata": {},
   "outputs": [],
   "source": []
  }
 ],
 "metadata": {
  "kernelspec": {
   "display_name": "env",
   "language": "python",
   "name": "python3"
  },
  "language_info": {
   "codemirror_mode": {
    "name": "ipython",
    "version": 3
   },
   "file_extension": ".py",
   "mimetype": "text/x-python",
   "name": "python",
   "nbconvert_exporter": "python",
   "pygments_lexer": "ipython3",
   "version": "3.13.1"
  }
 },
 "nbformat": 4,
 "nbformat_minor": 5
}
