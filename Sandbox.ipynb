{
 "cells": [
  {
   "cell_type": "code",
   "execution_count": 1,
   "id": "6de953c9",
   "metadata": {},
   "outputs": [
    {
     "name": "stderr",
     "output_type": "stream",
     "text": [
      "/Users/jackson.makl@dataiku.com/agent/env/lib/python3.13/site-packages/tqdm/auto.py:21: TqdmWarning: IProgress not found. Please update jupyter and ipywidgets. See https://ipywidgets.readthedocs.io/en/stable/user_install.html\n",
      "  from .autonotebook import tqdm as notebook_tqdm\n"
     ]
    }
   ],
   "source": [
    "from agent import Agent\n"
   ]
  },
  {
   "cell_type": "code",
   "execution_count": 2,
   "id": "26f44449",
   "metadata": {},
   "outputs": [],
   "source": [
    "\n",
    "a=Agent()\n"
   ]
  },
  {
   "cell_type": "code",
   "execution_count": null,
   "id": "39187b63",
   "metadata": {},
   "outputs": [],
   "source": [
    "\n",
    "a.chat(prompt=\"What challenges does airbnb face?\",\n",
    "       web=False,\n",
    "       rag=True,\n",
    "       tokens=150)"
   ]
  },
  {
   "cell_type": "code",
   "execution_count": null,
   "id": "c076dc17",
   "metadata": {},
   "outputs": [],
   "source": [
    "a.chat(prompt=\"What challenges does BMW face?\",\n",
    "       web=False,\n",
    "       rag=True,\n",
    "       tokens=150)\n",
    "a.messages"
   ]
  },
  {
   "cell_type": "code",
   "execution_count": 3,
   "id": "56575a3d",
   "metadata": {},
   "outputs": [
    {
     "name": "stdout",
     "output_type": "stream",
     "text": [
      "Researching: What is trending in music?\n",
      "News search error: cannot access local variable 'link' where it is not associated with a value\n",
      "Found 5 total results\n",
      "After deduplication: 5 results\n",
      "Fetching additional content from URLs...\n"
     ]
    },
    {
     "name": "stderr",
     "output_type": "stream",
     "text": [
      "2025-04-28 02:06:00,625 - INFO - HTTP Request: POST https://api.openai.com/v1/responses \"HTTP/1.1 200 OK\"\n",
      "2025-04-28 02:06:01,610 - INFO - HTTP Request: POST https://api.openai.com/v1/responses \"HTTP/1.1 200 OK\"\n"
     ]
    },
    {
     "name": "stdout",
     "output_type": "stream",
     "text": [
      "Researching: current global music trends 2024 viral artists k-pop major album releases industry changes\n",
      "News search error: cannot access local variable 'link' where it is not associated with a value\n",
      "Found 10 total results\n",
      "After deduplication: 10 results\n",
      "Fetching additional content from URLs...\n"
     ]
    },
    {
     "name": "stderr",
     "output_type": "stream",
     "text": [
      "2025-04-28 02:06:14,395 - INFO - HTTP Request: POST https://api.openai.com/v1/responses \"HTTP/1.1 200 OK\"\n"
     ]
    },
    {
     "name": "stdout",
     "output_type": "stream",
     "text": [
      "Loading model meta-llama/Llama-3.2-3B-Instruct on mps\n"
     ]
    },
    {
     "name": "stderr",
     "output_type": "stream",
     "text": [
      "Loading checkpoint shards: 100%|██████████| 2/2 [00:08<00:00,  4.07s/it]\n"
     ]
    },
    {
     "name": "stdout",
     "output_type": "stream",
     "text": [
      "celebrity_&_pop_culture\n",
      "music\n"
     ]
    },
    {
     "data": {
      "text/plain": [
       "[{'timestamp': '2025-04-28 02:07:34.055411',\n",
       "  'topics': ['celebrity_&_pop_culture', 'music'],\n",
       "  'web': True,\n",
       "  'rag': False,\n",
       "  'role': 'user',\n",
       "  'content': 'What is trending in music?'},\n",
       " {'timestamp': '2025-04-28 02:07:34.055631',\n",
       "  'topics': ['celebrity_&_pop_culture', 'music'],\n",
       "  'web': True,\n",
       "  'rag': False,\n",
       "  'role': 'assistant',\n",
       "  'content': 'As of my knowledge cutoff (please note I may not be aware about events after this date), some currently dominant trends in music include K-pop acts like BTS and Blackpink, whose massive followings on platforms like Spotify help drive their chart-topping successes.\\n\\nAdditionally, there has been a growing recognition of international influences beyond traditional Western styles, with many successful artists emerging from Asia and other parts of the world contributing to diverse genres and fusions.\\n\\nNotable mentions can also be made regarding mainstream pop stars'}]"
      ]
     },
     "execution_count": 3,
     "metadata": {},
     "output_type": "execute_result"
    }
   ],
   "source": [
    "a.chat(prompt=\"What is trending in music?\",\n",
    "       web=True,\n",
    "       rag=False,\n",
    "       tokens=100)\n",
    "a.messages"
   ]
  },
  {
   "cell_type": "code",
   "execution_count": 7,
   "id": "4ed46e1f",
   "metadata": {},
   "outputs": [
    {
     "name": "stderr",
     "output_type": "stream",
     "text": [
      "2025-04-28 02:08:20,837 - INFO - HTTP Request: POST https://api.openai.com/v1/responses \"HTTP/1.1 200 OK\"\n"
     ]
    },
    {
     "name": "stdout",
     "output_type": "stream",
     "text": [
      "Across our brief chat,  \n",
      "K-pop stars spark global tunes—  \n",
      "Morning haikus sing.\n",
      "celebrity_&_pop_culture\n",
      "music\n"
     ]
    },
    {
     "data": {
      "text/plain": [
       "{'timestamp': '2025-04-28 02:08:21.248350',\n",
       " 'topics': ['celebrity_&_pop_culture', 'music'],\n",
       " 'web': False,\n",
       " 'rag': False,\n",
       " 'role': 'assistant',\n",
       " 'content': 'Across our brief chat,  \\nK-pop stars spark global tunes—  \\nMorning haikus sing.'}"
      ]
     },
     "execution_count": 7,
     "metadata": {},
     "output_type": "execute_result"
    }
   ],
   "source": [
    "a.chat(prompt=\"Write a poem based our chat\",use_gpt=True,messages=a.messages)"
   ]
  },
  {
   "cell_type": "code",
   "execution_count": 8,
   "id": "9a392b7b",
   "metadata": {},
   "outputs": [
    {
     "data": {
      "text/plain": [
       "[{'timestamp': '2025-04-28 02:07:34.055411',\n",
       "  'topics': ['celebrity_&_pop_culture', 'music'],\n",
       "  'web': True,\n",
       "  'rag': False,\n",
       "  'role': 'user',\n",
       "  'content': 'What is trending in music?'},\n",
       " {'timestamp': '2025-04-28 02:07:34.055631',\n",
       "  'topics': ['celebrity_&_pop_culture', 'music'],\n",
       "  'web': True,\n",
       "  'rag': False,\n",
       "  'role': 'assistant',\n",
       "  'content': 'As of my knowledge cutoff (please note I may not be aware about events after this date), some currently dominant trends in music include K-pop acts like BTS and Blackpink, whose massive followings on platforms like Spotify help drive their chart-topping successes.\\n\\nAdditionally, there has been a growing recognition of international influences beyond traditional Western styles, with many successful artists emerging from Asia and other parts of the world contributing to diverse genres and fusions.\\n\\nNotable mentions can also be made regarding mainstream pop stars'},\n",
       " {'timestamp': '2025-04-28 02:07:49.519969',\n",
       "  'topics': ['diaries_&_daily_life'],\n",
       "  'web': False,\n",
       "  'rag': False,\n",
       "  'role': 'user',\n",
       "  'content': 'Write a haiku'},\n",
       " {'timestamp': '2025-04-28 02:07:49.519983',\n",
       "  'topics': ['diaries_&_daily_life'],\n",
       "  'web': False,\n",
       "  'rag': False,\n",
       "  'role': 'assistant',\n",
       "  'content': 'Dew clings to spring grass—  \\nmorning unfolds in silence,  \\nsoft light starts the day.'},\n",
       " {'timestamp': '2025-04-28 02:08:08.312910',\n",
       "  'topics': ['music'],\n",
       "  'web': False,\n",
       "  'rag': False,\n",
       "  'role': 'user',\n",
       "  'content': 'Write a haiku based on the information given'},\n",
       " {'timestamp': '2025-04-28 02:08:08.312922',\n",
       "  'topics': ['music'],\n",
       "  'web': False,\n",
       "  'rag': False,\n",
       "  'role': 'assistant',\n",
       "  'content': 'K-pop lights the stage,  \\nGlobal rhythms intertwining—  \\nNew voices arise.'},\n",
       " {'timestamp': '2025-04-28 02:08:21.248341',\n",
       "  'topics': ['celebrity_&_pop_culture', 'music'],\n",
       "  'web': False,\n",
       "  'rag': False,\n",
       "  'role': 'user',\n",
       "  'content': 'Write a poem based our chat'},\n",
       " {'timestamp': '2025-04-28 02:08:21.248350',\n",
       "  'topics': ['celebrity_&_pop_culture', 'music'],\n",
       "  'web': False,\n",
       "  'rag': False,\n",
       "  'role': 'assistant',\n",
       "  'content': 'Across our brief chat,  \\nK-pop stars spark global tunes—  \\nMorning haikus sing.'}]"
      ]
     },
     "execution_count": 8,
     "metadata": {},
     "output_type": "execute_result"
    }
   ],
   "source": [
    "a.messages"
   ]
  },
  {
   "cell_type": "code",
   "execution_count": null,
   "id": "b1dc2639",
   "metadata": {},
   "outputs": [],
   "source": []
  }
 ],
 "metadata": {
  "kernelspec": {
   "display_name": "env",
   "language": "python",
   "name": "python3"
  },
  "language_info": {
   "codemirror_mode": {
    "name": "ipython",
    "version": 3
   },
   "file_extension": ".py",
   "mimetype": "text/x-python",
   "name": "python",
   "nbconvert_exporter": "python",
   "pygments_lexer": "ipython3",
   "version": "3.13.1"
  }
 },
 "nbformat": 4,
 "nbformat_minor": 5
}
