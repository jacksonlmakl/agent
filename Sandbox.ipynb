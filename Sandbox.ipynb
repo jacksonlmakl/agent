{
 "cells": [
  {
   "cell_type": "code",
   "execution_count": 1,
   "id": "4f61bdba",
   "metadata": {},
   "outputs": [
    {
     "name": "stderr",
     "output_type": "stream",
     "text": [
      "/Users/jackson.makl@dataiku.com/agent/env/lib/python3.13/site-packages/tqdm/auto.py:21: TqdmWarning: IProgress not found. Please update jupyter and ipywidgets. See https://ipywidgets.readthedocs.io/en/stable/user_install.html\n",
      "  from .autonotebook import tqdm as notebook_tqdm\n"
     ]
    }
   ],
   "source": [
    "# from lightweight import lightweight\n",
    "from search import chat\n",
    "# from gpt import gpt"
   ]
  },
  {
   "cell_type": "code",
   "execution_count": 2,
   "id": "6859fc01",
   "metadata": {},
   "outputs": [
    {
     "name": "stdout",
     "output_type": "stream",
     "text": [
      "Researching: Who is Lady Gaga?\n",
      "Found 15 total results\n",
      "After deduplication: 13 results\n",
      "Fetching additional content from URLs...\n",
      "Loading model meta-llama/Llama-3.2-3B-Instruct on mps\n"
     ]
    },
    {
     "name": "stderr",
     "output_type": "stream",
     "text": [
      "Loading checkpoint shards: 100%|██████████| 2/2 [00:08<00:00,  4.25s/it]\n"
     ]
    },
    {
     "name": "stdout",
     "output_type": "stream",
     "text": [
      "**Who is Lady GaGa?**\n",
      "\n",
      "Lady Gaga is an iconic figure in popular music. Born as Stefani Germaine Angela of Manhattan, but more commonly referred to by her stage name **Stefanija 'Gaga' Joane**, however it was later revealed that this nickname actually came from being called 'gagging', due to how much people gagged when hearing some parts of one song - specifically during live performances.\n",
      "\n",
      "She rose to prominence after releasing her first studio album titled \"**Fame\"** which included hits like “Dance” & “Face Poker”. Her subsequent releases have garnered significant commercial success worldwide; earning several prestigious accolades such as Grammy Awards & Academy Award wins.\n",
      "\n",
      "\n",
      "\n",
      "Known primarily through their work within various genres ranging between Pop-Rock-Punk styles – although often incorporating elements beyond these categories into each release.\n",
      "\n",
      "\n",
      "In addition to pursuing successful careers spanning both Music Industry Entertainment sectors—she actively engages herself throughout charitable causes supporting LGBTQ+ rights organizations across different countries around globe\n"
     ]
    }
   ],
   "source": [
    "prompt=\"Who is Lady Gaga?\"\n",
    "r=chat(prompt)\n",
    "print(r)"
   ]
  },
  {
   "cell_type": "code",
   "execution_count": null,
   "id": "f376b84d",
   "metadata": {},
   "outputs": [],
   "source": []
  }
 ],
 "metadata": {
  "kernelspec": {
   "display_name": "env",
   "language": "python",
   "name": "python3"
  },
  "language_info": {
   "codemirror_mode": {
    "name": "ipython",
    "version": 3
   },
   "file_extension": ".py",
   "mimetype": "text/x-python",
   "name": "python",
   "nbconvert_exporter": "python",
   "pygments_lexer": "ipython3",
   "version": "3.13.1"
  }
 },
 "nbformat": 4,
 "nbformat_minor": 5
}
