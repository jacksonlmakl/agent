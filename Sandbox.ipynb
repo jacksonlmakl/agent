{
 "cells": [
  {
   "cell_type": "code",
   "execution_count": null,
   "id": "4f61bdba",
   "metadata": {},
   "outputs": [],
   "source": [
    "from lightweight import lightweight\n",
    "\n",
    "prompt=\"\"\"Summarize this text: \\n\\n\\n\\n\n",
    "\n",
    "Lady Gaga (born March 28, 1986) is an American singer, songwriter and actress. Full name Stefani Joanne Angelina Germanotta, Gaga famously dropped out of New York University's Tisch School of the Arts to pursue a career in acting and music as a young adult. She rose to prominence in 2008 with the release of her debut studio album \"The Fame,\" which included the singles \"Just Dance\" and \"Poker Face,\" both of which hit number one on the Billboard Hot 100 chart. \"The Fame\" has been certified six-times Platinum and earned an album of the year nomination at the 52nd Annual Grammy Awards. It won best electronic/dance album and best dance recording for its single \"Poker Face.\" The expanded album, \"The Fame Monster,\" released in 2008, cemented Gaga as a pop icon with blockbuster singles \"Bad Romance,\" \"Telephone\" and \"Alejandro.\" \"Bad Romance\" alone sold 12 million copies worldwide, becoming one of the best-selling singles of all time.\n",
    "\"\"\"\n",
    "\n",
    "\n",
    "r=lightweight(prompt)\n",
    "\n",
    "print(r)\n",
    "\n"
   ]
  },
  {
   "cell_type": "code",
   "execution_count": null,
   "id": "6859fc01",
   "metadata": {},
   "outputs": [],
   "source": []
  },
  {
   "cell_type": "code",
   "execution_count": null,
   "id": "1be08034",
   "metadata": {},
   "outputs": [],
   "source": []
  }
 ],
 "metadata": {
  "kernelspec": {
   "display_name": "env",
   "language": "python",
   "name": "python3"
  },
  "language_info": {
   "codemirror_mode": {
    "name": "ipython",
    "version": 3
   },
   "file_extension": ".py",
   "mimetype": "text/x-python",
   "name": "python",
   "nbconvert_exporter": "python",
   "pygments_lexer": "ipython3",
   "version": "3.13.1"
  }
 },
 "nbformat": 4,
 "nbformat_minor": 5
}
